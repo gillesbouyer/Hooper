{
 "cells": [
  {
   "cell_type": "markdown",
   "id": "776b8d2d",
   "metadata": {},
   "source": [
    "# What are 3 advantages of deploying using Model Serving methods Vs. deploying on GitHub Pages or HuggingFace for free?"
   ]
  },
  {
   "cell_type": "code",
   "execution_count": null,
   "id": "1a23d8b0",
   "metadata": {},
   "outputs": [],
   "source": [
    "Basically more freedom to adjust the model to:\n",
    "    handle large volumes of requests from multiple users simultaneously (model is scalable)\n",
    "    customize the deployment(load balancing, auto-scaling, management of the API)\n",
    "    add security (encryption, control the access, login)"
   ]
  },
  {
   "cell_type": "markdown",
   "id": "df9f9b42",
   "metadata": {},
   "source": [
    "# What is ML model deployment?"
   ]
  },
  {
   "cell_type": "code",
   "execution_count": null,
   "id": "d777ec3f",
   "metadata": {},
   "outputs": [],
   "source": [
    "it is the work done to give access to a model to people who want to use it. '\n",
    "Typically it consists of: creating a model, selecting a platform, deploy according to \n",
    "    a configuration, test if it works, monitor usage"
   ]
  },
  {
   "cell_type": "markdown",
   "id": "abfcb331",
   "metadata": {},
   "source": [
    "# What is Causal Inference and How Does It Work?"
   ]
  },
  {
   "cell_type": "code",
   "execution_count": null,
   "id": "d329a9bc",
   "metadata": {},
   "outputs": [],
   "source": [
    "It is a method that aims to identify the impact of a variable on another while controling\n",
    "the other variable to be sure the effect is due to that variable. \n",
    "For example to see the effect of using a software on sales, you would compare the revenue \n",
    "of the people who have been using the software and were not using it before with the one\n",
    "who have never used it."
   ]
  },
  {
   "cell_type": "markdown",
   "id": "92d08b5c",
   "metadata": {},
   "source": [
    "# What is serverless deployment and how its compared with deployment on server?"
   ]
  },
  {
   "cell_type": "markdown",
   "id": "e25d62d3",
   "metadata": {},
   "source": [
    "serverless means that the server is deployed without you having to worry about it (what is the server name, size ...). There is a server running the application."
   ]
  }
 ],
 "metadata": {
  "kernelspec": {
   "display_name": "sa",
   "language": "python",
   "name": "sa"
  },
  "language_info": {
   "codemirror_mode": {
    "name": "ipython",
    "version": 3
   },
   "file_extension": ".py",
   "mimetype": "text/x-python",
   "name": "python",
   "nbconvert_exporter": "python",
   "pygments_lexer": "ipython3",
   "version": "3.8.15"
  }
 },
 "nbformat": 4,
 "nbformat_minor": 5
}
