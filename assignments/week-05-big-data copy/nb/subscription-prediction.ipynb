{
 "cells": [
  {
   "cell_type": "markdown",
   "metadata": {
    "application/vnd.databricks.v1+cell": {
     "cellMetadata": {},
     "inputWidgets": {},
     "nuid": "cb553c53-e540-4e7f-89a8-4540a8dff5af",
     "showTitle": false,
     "title": ""
    },
    "id": "lmil5P4G6052"
   },
   "source": [
    "<p align = \"center\" draggable=”false” ><img src=\"https://user-images.githubusercontent.com/37101144/161836199-fdb0219d-0361-4988-bf26-48b0fad160a3.png\" \n",
    "     width=\"200px\"\n",
    "     height=\"auto\"/>\n",
    "</p>"
   ]
  },
  {
   "cell_type": "markdown",
   "metadata": {
    "application/vnd.databricks.v1+cell": {
     "cellMetadata": {},
     "inputWidgets": {},
     "nuid": "f25fead1-c5a9-4222-a41c-5d1634dd3446",
     "showTitle": false,
     "title": ""
    },
    "id": "oQU8pT9m6055"
   },
   "source": [
    "# <h1 align=\"center\" id=\"heading\">Subscription Prediction with Delta Lake, PySpark, and MLlib</h1>"
   ]
  },
  {
   "cell_type": "markdown",
   "metadata": {
    "application/vnd.databricks.v1+cell": {
     "cellMetadata": {},
     "inputWidgets": {},
     "nuid": "6d66ab91-f02b-42c2-8fb4-8e154767c216",
     "showTitle": false,
     "title": ""
    },
    "id": "vxs4CnZ8MYR9"
   },
   "source": [
    "# Spark Environment\n",
    "\n",
    "Make sure that you open this notebook in your Spark environment!"
   ]
  },
  {
   "cell_type": "code",
   "execution_count": 0,
   "metadata": {
    "application/vnd.databricks.v1+cell": {
     "cellMetadata": {},
     "inputWidgets": {},
     "nuid": "6a7ff6f5-53e7-4b42-ae42-3cfbcabdd757",
     "showTitle": false,
     "title": ""
    },
    "id": "i5lvRImyZQKy"
   },
   "outputs": [],
   "source": [
    " #!pip install -U -q pyspark delta-spark # If you use Colab uncomment this line"
   ]
  },
  {
   "cell_type": "markdown",
   "metadata": {
    "application/vnd.databricks.v1+cell": {
     "cellMetadata": {},
     "inputWidgets": {},
     "nuid": "7222cf90-a806-40d3-9008-3a39c0c73608",
     "showTitle": false,
     "title": ""
    },
    "id": "B30ILkiC6056"
   },
   "source": [
    "## Learning Objectives"
   ]
  },
  {
   "cell_type": "markdown",
   "metadata": {
    "application/vnd.databricks.v1+cell": {
     "cellMetadata": {},
     "inputWidgets": {},
     "nuid": "b393d097-149c-47c3-ac0c-ce63099f2d5e",
     "showTitle": false,
     "title": ""
    },
    "id": "Dvbp4ifI6057"
   },
   "source": [
    "At the end of this session, you will be able to \n",
    "\n",
    "- Load, save, partition data with Delta Lake tables\n",
    "- Explore data with Spark DataFrames \n",
    "- Build a pipeline in MLlib for machine learning workflow\n",
    "- Fit a logistic regression model, make predictions, and evaluate the model"
   ]
  },
  {
   "cell_type": "markdown",
   "metadata": {
    "application/vnd.databricks.v1+cell": {
     "cellMetadata": {},
     "inputWidgets": {},
     "nuid": "2571c03a-cae9-4b9b-9861-f040eb696b2a",
     "showTitle": false,
     "title": ""
    },
    "id": "tTvh8EkV6057"
   },
   "source": [
    "## Part 1: Data Loader\n",
    "\n",
    "We are using a dataset from the UCI Machine Learning Repository.\n",
    "\n",
    "1. Use `wget` to download the dataset. Then use `ls` to verify that the `bank.zip` file is downloaded."
   ]
  },
  {
   "cell_type": "code",
   "execution_count": 0,
   "metadata": {
    "application/vnd.databricks.v1+cell": {
     "cellMetadata": {},
     "inputWidgets": {},
     "nuid": "5e63d4f9-86ea-450f-872e-603aacb6f096",
     "showTitle": false,
     "title": ""
    },
    "colab": {
     "base_uri": "https://localhost:8080/"
    },
    "id": "z0Su1lUX6058",
    "outputId": "dcf3d53c-06ad-44d6-db86-5c47bd11420e"
   },
   "outputs": [
    {
     "data": {
      "text/plain": [
       "--2023-01-15 01:17:17--  https://archive.ics.uci.edu/ml/machine-learning-databases/00222/bank.zip\n",
       "Resolving archive.ics.uci.edu (archive.ics.uci.edu)... 128.195.10.252\n",
       "Connecting to archive.ics.uci.edu (archive.ics.uci.edu)|128.195.10.252|:443... connected.\n",
       "HTTP request sent, awaiting response... 200 OK\n",
       "Length: 579043 (565K) [application/x-httpd-php]\n",
       "Saving to: ‘bank.zip’\n",
       "\n",
       "     0K .......... .......... .......... .......... ..........  8%  345K 1s\n",
       "    50K .......... .......... .......... .......... .......... 17%  695K 1s\n",
       "   100K .......... .......... .......... .......... .......... 26%  697K 1s\n",
       "   150K .......... .......... .......... .......... .......... 35%  704K 1s\n",
       "   200K .......... .......... .......... .......... .......... 44% 28.7M 0s\n",
       "   250K .......... .......... .......... .......... .......... 53% 32.3M 0s\n",
       "   300K .......... .......... .......... .......... .......... 61%  731K 0s\n",
       "   350K .......... .......... .......... .......... .......... 70% 45.9M 0s\n",
       "   400K .......... .......... .......... .......... .......... 79% 60.8M 0s\n",
       "   450K .......... .......... .......... .......... .......... 88% 82.9M 0s\n",
       "   500K .......... .......... .......... .......... .......... 97% 84.5M 0s\n",
       "   550K .......... .....                                      100% 91.1M=0.4s\n",
       "\n",
       "2023-01-15 01:17:17 (1.27 MB/s) - ‘bank.zip’ saved [579043/579043]\n",
       "\n"
      ]
     },
     "metadata": {
      "application/vnd.databricks.v1+output": {
       "addedWidgets": {},
       "arguments": {},
       "data": "--2023-01-15 01:17:17--  https://archive.ics.uci.edu/ml/machine-learning-databases/00222/bank.zip\nResolving archive.ics.uci.edu (archive.ics.uci.edu)... 128.195.10.252\nConnecting to archive.ics.uci.edu (archive.ics.uci.edu)|128.195.10.252|:443... connected.\nHTTP request sent, awaiting response... 200 OK\nLength: 579043 (565K) [application/x-httpd-php]\nSaving to: ‘bank.zip’\n\n     0K .......... .......... .......... .......... ..........  8%  345K 1s\n    50K .......... .......... .......... .......... .......... 17%  695K 1s\n   100K .......... .......... .......... .......... .......... 26%  697K 1s\n   150K .......... .......... .......... .......... .......... 35%  704K 1s\n   200K .......... .......... .......... .......... .......... 44% 28.7M 0s\n   250K .......... .......... .......... .......... .......... 53% 32.3M 0s\n   300K .......... .......... .......... .......... .......... 61%  731K 0s\n   350K .......... .......... .......... .......... .......... 70% 45.9M 0s\n   400K .......... .......... .......... .......... .......... 79% 60.8M 0s\n   450K .......... .......... .......... .......... .......... 88% 82.9M 0s\n   500K .......... .......... .......... .......... .......... 97% 84.5M 0s\n   550K .......... .....                                      100% 91.1M=0.4s\n\n2023-01-15 01:17:17 (1.27 MB/s) - ‘bank.zip’ saved [579043/579043]\n\n",
       "datasetInfos": [],
       "metadata": {},
       "removedWidgets": [],
       "type": "ansi"
      }
     },
     "output_type": "display_data"
    }
   ],
   "source": [
    "%%sh\n",
    "wget https://archive.ics.uci.edu/ml/machine-learning-databases/00222/bank.zip"
   ]
  },
  {
   "cell_type": "code",
   "execution_count": 0,
   "metadata": {
    "application/vnd.databricks.v1+cell": {
     "cellMetadata": {},
     "inputWidgets": {},
     "nuid": "14241a78-c5ad-4962-9322-e0e6bdf3737f",
     "showTitle": false,
     "title": ""
    },
    "colab": {
     "base_uri": "https://localhost:8080/"
    },
    "id": "0gAxRiyy605-",
    "outputId": "9023a057-930e-458c-dd8e-2493d8bc8120"
   },
   "outputs": [
    {
     "data": {
      "text/plain": [
       "\u001b[0m\u001b[01;34mazure\u001b[0m/    \u001b[01;34mconf\u001b[0m/       \u001b[01;34mganglia\u001b[0m/                     \u001b[01;34mlogs\u001b[0m/\r\n",
       "bank.zip  \u001b[01;34meventlogs\u001b[0m/  \u001b[01;32mhadoop_accessed_config.lst\u001b[0m*  \u001b[01;32mpreload_class.lst\u001b[0m*\r\n"
      ]
     },
     "metadata": {
      "application/vnd.databricks.v1+output": {
       "addedWidgets": {},
       "arguments": {},
       "data": "\u001b[0m\u001b[01;34mazure\u001b[0m/    \u001b[01;34mconf\u001b[0m/       \u001b[01;34mganglia\u001b[0m/                     \u001b[01;34mlogs\u001b[0m/\r\nbank.zip  \u001b[01;34meventlogs\u001b[0m/  \u001b[01;32mhadoop_accessed_config.lst\u001b[0m*  \u001b[01;32mpreload_class.lst\u001b[0m*\r\n",
       "datasetInfos": [],
       "metadata": {},
       "removedWidgets": [],
       "type": "ansi"
      }
     },
     "output_type": "display_data"
    }
   ],
   "source": [
    "ls"
   ]
  },
  {
   "cell_type": "markdown",
   "metadata": {
    "application/vnd.databricks.v1+cell": {
     "cellMetadata": {},
     "inputWidgets": {},
     "nuid": "3443e612-e53e-459b-bc7d-4b2e03814c27",
     "showTitle": false,
     "title": ""
    },
    "id": "cGBxoptx605-"
   },
   "source": [
    "2. Unzip the file and use `ls` to see the files."
   ]
  },
  {
   "cell_type": "code",
   "execution_count": 0,
   "metadata": {
    "application/vnd.databricks.v1+cell": {
     "cellMetadata": {},
     "inputWidgets": {},
     "nuid": "000511fa-ff85-406c-9186-34c56a0369a6",
     "showTitle": false,
     "title": ""
    },
    "colab": {
     "base_uri": "https://localhost:8080/"
    },
    "id": "hySwTxHs605_",
    "outputId": "f9ac5ddd-807a-49e0-ca45-bc00e3bb8ac6"
   },
   "outputs": [
    {
     "data": {
      "text/plain": [
       "Archive:  bank.zip\n",
       "  inflating: bank-full.csv           \n",
       "  inflating: bank-names.txt          \n",
       "  inflating: bank.csv                \n"
      ]
     },
     "metadata": {
      "application/vnd.databricks.v1+output": {
       "addedWidgets": {},
       "arguments": {},
       "data": "Archive:  bank.zip\n  inflating: bank-full.csv           \n  inflating: bank-names.txt          \n  inflating: bank.csv                \n",
       "datasetInfos": [],
       "metadata": {},
       "removedWidgets": [],
       "type": "ansi"
      }
     },
     "output_type": "display_data"
    }
   ],
   "source": [
    "%%sh\n",
    "unzip bank.zip"
   ]
  },
  {
   "cell_type": "code",
   "execution_count": 0,
   "metadata": {
    "application/vnd.databricks.v1+cell": {
     "cellMetadata": {},
     "inputWidgets": {},
     "nuid": "2349ba91-fc61-456f-96bf-5f5aea6b32d1",
     "showTitle": false,
     "title": ""
    },
    "colab": {
     "base_uri": "https://localhost:8080/"
    },
    "id": "K6UDQW1y605_",
    "outputId": "4a312342-54ef-4722-98b0-38005bbcd06f"
   },
   "outputs": [
    {
     "data": {
      "text/plain": [
       "total 6.7M\r\n",
       "drwxr-xr-x 2 root root 4.0K Jan 15 00:21 \u001b[0m\u001b[01;34mazure\u001b[0m/\r\n",
       "-rw-r--r-- 1 root root 4.4M Feb 14  2012 bank-full.csv\r\n",
       "-rw-r--r-- 1 root root 3.8K Feb 14  2012 bank-names.txt\r\n",
       "-rw-r--r-- 1 root root 451K Feb 14  2012 bank.csv\r\n",
       "-rw-r--r-- 1 root root 566K Feb 14  2012 bank.zip\r\n",
       "drwxr-xr-x 2 root root 4.0K Jan 15 00:21 \u001b[01;34mconf\u001b[0m/\r\n",
       "drwxr-xr-x 3 root root 4.0K Jan 15 01:15 \u001b[01;34meventlogs\u001b[0m/\r\n",
       "drwxr-xr-x 2 root root 4.0K Jan 15 01:15 \u001b[01;34mganglia\u001b[0m/\r\n",
       "-r-xr-xr-x 1 root root 3.0K Jan 15 00:21 \u001b[01;32mhadoop_accessed_config.lst\u001b[0m*\r\n",
       "drwxr-xr-x 2 root root 4.0K Jan 15 01:15 \u001b[01;34mlogs\u001b[0m/\r\n",
       "-r-xr-xr-x 1 root root 1.3M Jan 15 00:21 \u001b[01;32mpreload_class.lst\u001b[0m*\r\n"
      ]
     },
     "metadata": {
      "application/vnd.databricks.v1+output": {
       "addedWidgets": {},
       "arguments": {},
       "data": "total 6.7M\r\ndrwxr-xr-x 2 root root 4.0K Jan 15 00:21 \u001b[0m\u001b[01;34mazure\u001b[0m/\r\n-rw-r--r-- 1 root root 4.4M Feb 14  2012 bank-full.csv\r\n-rw-r--r-- 1 root root 3.8K Feb 14  2012 bank-names.txt\r\n-rw-r--r-- 1 root root 451K Feb 14  2012 bank.csv\r\n-rw-r--r-- 1 root root 566K Feb 14  2012 bank.zip\r\ndrwxr-xr-x 2 root root 4.0K Jan 15 00:21 \u001b[01;34mconf\u001b[0m/\r\ndrwxr-xr-x 3 root root 4.0K Jan 15 01:15 \u001b[01;34meventlogs\u001b[0m/\r\ndrwxr-xr-x 2 root root 4.0K Jan 15 01:15 \u001b[01;34mganglia\u001b[0m/\r\n-r-xr-xr-x 1 root root 3.0K Jan 15 00:21 \u001b[01;32mhadoop_accessed_config.lst\u001b[0m*\r\ndrwxr-xr-x 2 root root 4.0K Jan 15 01:15 \u001b[01;34mlogs\u001b[0m/\r\n-r-xr-xr-x 1 root root 1.3M Jan 15 00:21 \u001b[01;32mpreload_class.lst\u001b[0m*\r\n",
       "datasetInfos": [],
       "metadata": {},
       "removedWidgets": [],
       "type": "ansi"
      }
     },
     "output_type": "display_data"
    }
   ],
   "source": [
    "ls -lh"
   ]
  },
  {
   "cell_type": "markdown",
   "metadata": {
    "application/vnd.databricks.v1+cell": {
     "cellMetadata": {},
     "inputWidgets": {},
     "nuid": "6d60d21c-4df9-4b37-b1e2-4e2ebc1af4e6",
     "showTitle": false,
     "title": ""
    }
   },
   "source": [
    "3. Inspect the dataset and note if there is anything to be aware of in the dataset structure."
   ]
  },
  {
   "cell_type": "code",
   "execution_count": 0,
   "metadata": {
    "application/vnd.databricks.v1+cell": {
     "cellMetadata": {},
     "inputWidgets": {},
     "nuid": "bbb703da-20cf-4acb-8ace-37c6bd0182bc",
     "showTitle": false,
     "title": ""
    },
    "colab": {
     "base_uri": "https://localhost:8080/"
    },
    "id": "bsKTEA_kJm1Z",
    "outputId": "cc90db82-213d-4362-c8c2-38ab9373abbf"
   },
   "outputs": [
    {
     "data": {
      "text/plain": [
       "4522 bank.csv\n"
      ]
     },
     "metadata": {
      "application/vnd.databricks.v1+output": {
       "addedWidgets": {},
       "arguments": {},
       "data": "4522 bank.csv\n",
       "datasetInfos": [],
       "metadata": {},
       "removedWidgets": [],
       "type": "ansi"
      }
     },
     "output_type": "display_data"
    }
   ],
   "source": [
    "%%sh\n",
    "wc -l bank.csv"
   ]
  },
  {
   "cell_type": "code",
   "execution_count": 0,
   "metadata": {
    "application/vnd.databricks.v1+cell": {
     "cellMetadata": {},
     "inputWidgets": {},
     "nuid": "54124929-bbae-45ff-a5f3-4842317b574b",
     "showTitle": false,
     "title": ""
    },
    "colab": {
     "base_uri": "https://localhost:8080/"
    },
    "id": "PUOdYkMKRrFf",
    "outputId": "61dd1ff6-8d43-4e2a-f04f-94b6bc3da874"
   },
   "outputs": [
    {
     "data": {
      "text/plain": [
       "\"age\";\"job\";\"marital\";\"education\";\"default\";\"balance\";\"housing\";\"loan\";\"contact\";\"day\";\"month\";\"duration\";\"campaign\";\"pdays\";\"previous\";\"poutcome\";\"y\"\n",
       "30;\"unemployed\";\"married\";\"primary\";\"no\";1787;\"no\";\"no\";\"cellular\";19;\"oct\";79;1;-1;0;\"unknown\";\"no\"\n",
       "33;\"services\";\"married\";\"secondary\";\"no\";4789;\"yes\";\"yes\";\"cellular\";11;\"may\";220;1;339;4;\"failure\";\"no\"\n",
       "35;\"management\";\"single\";\"tertiary\";\"no\";1350;\"yes\";\"no\";\"cellular\";16;\"apr\";185;1;330;1;\"failure\";\"no\"\n",
       "30;\"management\";\"married\";\"tertiary\";\"no\";1476;\"yes\";\"yes\";\"unknown\";3;\"jun\";199;4;-1;0;\"unknown\";\"no\"\n",
       "59;\"blue-collar\";\"married\";\"secondary\";\"no\";0;\"yes\";\"no\";\"unknown\";5;\"may\";226;1;-1;0;\"unknown\";\"no\"\n",
       "35;\"management\";\"single\";\"tertiary\";\"no\";747;\"no\";\"no\";\"cellular\";23;\"feb\";141;2;176;3;\"failure\";\"no\"\n",
       "36;\"self-employed\";\"married\";\"tertiary\";\"no\";307;\"yes\";\"no\";\"cellular\";14;\"may\";341;1;330;2;\"other\";\"no\"\n",
       "39;\"technician\";\"married\";\"secondary\";\"no\";147;\"yes\";\"no\";\"cellular\";6;\"may\";151;2;-1;0;\"unknown\";\"no\"\n",
       "41;\"entrepreneur\";\"married\";\"tertiary\";\"no\";221;\"yes\";\"no\";\"unknown\";14;\"may\";57;2;-1;0;\"unknown\";\"no\"\n"
      ]
     },
     "metadata": {
      "application/vnd.databricks.v1+output": {
       "addedWidgets": {},
       "arguments": {},
       "data": "\"age\";\"job\";\"marital\";\"education\";\"default\";\"balance\";\"housing\";\"loan\";\"contact\";\"day\";\"month\";\"duration\";\"campaign\";\"pdays\";\"previous\";\"poutcome\";\"y\"\n30;\"unemployed\";\"married\";\"primary\";\"no\";1787;\"no\";\"no\";\"cellular\";19;\"oct\";79;1;-1;0;\"unknown\";\"no\"\n33;\"services\";\"married\";\"secondary\";\"no\";4789;\"yes\";\"yes\";\"cellular\";11;\"may\";220;1;339;4;\"failure\";\"no\"\n35;\"management\";\"single\";\"tertiary\";\"no\";1350;\"yes\";\"no\";\"cellular\";16;\"apr\";185;1;330;1;\"failure\";\"no\"\n30;\"management\";\"married\";\"tertiary\";\"no\";1476;\"yes\";\"yes\";\"unknown\";3;\"jun\";199;4;-1;0;\"unknown\";\"no\"\n59;\"blue-collar\";\"married\";\"secondary\";\"no\";0;\"yes\";\"no\";\"unknown\";5;\"may\";226;1;-1;0;\"unknown\";\"no\"\n35;\"management\";\"single\";\"tertiary\";\"no\";747;\"no\";\"no\";\"cellular\";23;\"feb\";141;2;176;3;\"failure\";\"no\"\n36;\"self-employed\";\"married\";\"tertiary\";\"no\";307;\"yes\";\"no\";\"cellular\";14;\"may\";341;1;330;2;\"other\";\"no\"\n39;\"technician\";\"married\";\"secondary\";\"no\";147;\"yes\";\"no\";\"cellular\";6;\"may\";151;2;-1;0;\"unknown\";\"no\"\n41;\"entrepreneur\";\"married\";\"tertiary\";\"no\";221;\"yes\";\"no\";\"unknown\";14;\"may\";57;2;-1;0;\"unknown\";\"no\"\n",
       "datasetInfos": [],
       "metadata": {},
       "removedWidgets": [],
       "type": "ansi"
      }
     },
     "output_type": "display_data"
    }
   ],
   "source": [
    "%%sh\n",
    "head bank.csv"
   ]
  },
  {
   "cell_type": "markdown",
   "metadata": {
    "application/vnd.databricks.v1+cell": {
     "cellMetadata": {},
     "inputWidgets": {},
     "nuid": "14a08ff2-d656-467e-a524-cb5987cf701a",
     "showTitle": false,
     "title": ""
    },
    "id": "1CLp_YaaNRvB"
   },
   "source": [
    "4. Create a Delta table for `bank.csv` (Why Delta Lake? Here's a read [here](https://medium.com/@databeans-blogs/delta-lake-the-data-engineers-missing-piece-part-1-ebab66a3f8c0?source) from a data engineer's perspective)\n",
    "\n",
    "    We first set up a Python project `ml-bank`, configure the SparkSession with the `configure_spark_with_delta_pip()` utility function in Delta Lake:"
   ]
  },
  {
   "cell_type": "code",
   "execution_count": 0,
   "metadata": {
    "application/vnd.databricks.v1+cell": {
     "cellMetadata": {},
     "inputWidgets": {},
     "nuid": "59188528-edd7-478e-82f9-f5a9dacaacdc",
     "showTitle": false,
     "title": ""
    },
    "id": "2VvPSH-2DVMy"
   },
   "outputs": [],
   "source": [
    "import pyspark\n",
    "from delta import *\n",
    "\n",
    "builder = pyspark.sql.SparkSession.builder.appName(\"ml-bank\") \\\n",
    "  .config(\"spark.sql.extensions\", \"io.delta.sql.DeltaSparkSessionExtension\") \\\n",
    "  .config(\"spark.sql.catalog.spark_catalog\", \"org.apache.spark.sql.delta.catalog.DeltaCatalog\")\n",
    "\n",
    "spark = configure_spark_with_delta_pip(builder).getOrCreate()"
   ]
  },
  {
   "cell_type": "markdown",
   "metadata": {
    "application/vnd.databricks.v1+cell": {
     "cellMetadata": {},
     "inputWidgets": {},
     "nuid": "c5cc04ec-a0c6-4127-bf31-aa0d430414b3",
     "showTitle": false,
     "title": ""
    },
    "id": "NaHADc7XPgTA"
   },
   "source": [
    "5. We define output formats and paths, you need to complete code to load the data from its source (since the delimiter of the file is semicolon, use [`spark.read.csv`](https://spark.apache.org/docs/latest/sql-data-sources-csv.html) that provides more flexibility) and write the data to its target (hint: [Create a table](https://docs.databricks.com/delta/delta-batch.html)).\n",
    "\n",
    "\n",
    "__NOTE__ Databricks requires all the paths to be absolute, not relative. To check the absolute path, run `pwd` bash command."
   ]
  },
  {
   "cell_type": "code",
   "execution_count": 0,
   "metadata": {
    "application/vnd.databricks.v1+cell": {
     "cellMetadata": {},
     "inputWidgets": {},
     "nuid": "895d4575-c81f-4099-bc47-93163f30c578",
     "showTitle": false,
     "title": ""
    }
   },
   "outputs": [],
   "source": [
    "# Define the input and output formats and paths and the table name.\n",
    "write_format = 'delta'\n",
    "load_path = 'file:/databricks/driver/bank.csv'\n",
    "save_path = 'file:/databricks/driver/tmp/delta/bank-4k'\n",
    "table_name = 'default.bank4k'\n",
    "\n",
    "# Load the data from its source into a dataframe.\n",
    "df = spark.read.option(\"header\",True).csv(load_path,sep=';')\n",
    "#import pyspark.pandas as pys\n",
    "#df = pys.read_csv('file:/databricks/driver/bank.csv',sep =';')\n",
    "#import pandas as pd\n",
    "#df = pd.read_csv('file:/databricks/driver/bank.csv',sep =';')\n"
   ]
  },
  {
   "cell_type": "code",
   "execution_count": 0,
   "metadata": {
    "application/vnd.databricks.v1+cell": {
     "cellMetadata": {},
     "inputWidgets": {},
     "nuid": "ed62dc95-308f-4fac-9a06-834a3e6dcbcb",
     "showTitle": false,
     "title": ""
    }
   },
   "outputs": [
    {
     "data": {
      "text/plain": [
       "total 6.7M\r\n",
       "drwxr-xr-x 2 root root 4.0K Jan 15 00:21 \u001b[0m\u001b[01;34mazure\u001b[0m/\r\n",
       "-rw-r--r-- 1 root root 4.4M Feb 14  2012 bank-full.csv\r\n",
       "-rw-r--r-- 1 root root 3.8K Feb 14  2012 bank-names.txt\r\n",
       "-rw-r--r-- 1 root root 451K Feb 14  2012 bank.csv\r\n",
       "-rw-r--r-- 1 root root 566K Feb 14  2012 bank.zip\r\n",
       "drwxr-xr-x 2 root root 4.0K Jan 15 00:21 \u001b[01;34mconf\u001b[0m/\r\n",
       "drwxr-xr-x 3 root root 4.0K Jan 15 01:15 \u001b[01;34meventlogs\u001b[0m/\r\n",
       "drwxr-xr-x 2 root root 4.0K Jan 15 01:15 \u001b[01;34mganglia\u001b[0m/\r\n",
       "-r-xr-xr-x 1 root root 3.0K Jan 15 00:21 \u001b[01;32mhadoop_accessed_config.lst\u001b[0m*\r\n",
       "drwxr-xr-x 2 root root 4.0K Jan 15 01:15 \u001b[01;34mlogs\u001b[0m/\r\n",
       "-r-xr-xr-x 1 root root 1.3M Jan 15 00:21 \u001b[01;32mpreload_class.lst\u001b[0m*\r\n"
      ]
     },
     "metadata": {
      "application/vnd.databricks.v1+output": {
       "addedWidgets": {},
       "arguments": {},
       "data": "total 6.7M\r\ndrwxr-xr-x 2 root root 4.0K Jan 15 00:21 \u001b[0m\u001b[01;34mazure\u001b[0m/\r\n-rw-r--r-- 1 root root 4.4M Feb 14  2012 bank-full.csv\r\n-rw-r--r-- 1 root root 3.8K Feb 14  2012 bank-names.txt\r\n-rw-r--r-- 1 root root 451K Feb 14  2012 bank.csv\r\n-rw-r--r-- 1 root root 566K Feb 14  2012 bank.zip\r\ndrwxr-xr-x 2 root root 4.0K Jan 15 00:21 \u001b[01;34mconf\u001b[0m/\r\ndrwxr-xr-x 3 root root 4.0K Jan 15 01:15 \u001b[01;34meventlogs\u001b[0m/\r\ndrwxr-xr-x 2 root root 4.0K Jan 15 01:15 \u001b[01;34mganglia\u001b[0m/\r\n-r-xr-xr-x 1 root root 3.0K Jan 15 00:21 \u001b[01;32mhadoop_accessed_config.lst\u001b[0m*\r\ndrwxr-xr-x 2 root root 4.0K Jan 15 01:15 \u001b[01;34mlogs\u001b[0m/\r\n-r-xr-xr-x 1 root root 1.3M Jan 15 00:21 \u001b[01;32mpreload_class.lst\u001b[0m*\r\n",
       "datasetInfos": [],
       "metadata": {},
       "removedWidgets": [],
       "type": "ansi"
      }
     },
     "output_type": "display_data"
    }
   ],
   "source": [
    "ls -lh"
   ]
  },
  {
   "cell_type": "code",
   "execution_count": 0,
   "metadata": {
    "application/vnd.databricks.v1+cell": {
     "cellMetadata": {},
     "inputWidgets": {},
     "nuid": "df270c20-0a89-40d9-a60f-637b1469557b",
     "showTitle": false,
     "title": ""
    }
   },
   "outputs": [
    {
     "data": {
      "text/plain": [
       "Out[13]: Row(age='30', job='unemployed', marital='married', education='primary', default='no', balance='1787', housing='no', loan='no', contact='cellular', day='19', month='oct', duration='79', campaign='1', pdays='-1', previous='0', poutcome='unknown', y='no')"
      ]
     },
     "metadata": {
      "application/vnd.databricks.v1+output": {
       "addedWidgets": {},
       "arguments": {},
       "data": "Out[13]: Row(age='30', job='unemployed', marital='married', education='primary', default='no', balance='1787', housing='no', loan='no', contact='cellular', day='19', month='oct', duration='79', campaign='1', pdays='-1', previous='0', poutcome='unknown', y='no')",
       "datasetInfos": [],
       "metadata": {},
       "removedWidgets": [],
       "type": "ansi"
      }
     },
     "output_type": "display_data"
    }
   ],
   "source": [
    "df.head()"
   ]
  },
  {
   "cell_type": "code",
   "execution_count": 0,
   "metadata": {
    "application/vnd.databricks.v1+cell": {
     "cellMetadata": {},
     "inputWidgets": {},
     "nuid": "6d804d9a-32b5-4c71-b9b3-c30a64e0b602",
     "showTitle": false,
     "title": ""
    }
   },
   "outputs": [
    {
     "data": {
      "text/plain": [
       "+---+-------------+-------+---------+-------+-------+-------+----+--------+---+-----+--------+--------+-----+--------+--------+---+\n",
       "|age|          job|marital|education|default|balance|housing|loan| contact|day|month|duration|campaign|pdays|previous|poutcome|  y|\n",
       "+---+-------------+-------+---------+-------+-------+-------+----+--------+---+-----+--------+--------+-----+--------+--------+---+\n",
       "| 30|   unemployed|married|  primary|     no|   1787|     no|  no|cellular| 19|  oct|      79|       1|   -1|       0| unknown| no|\n",
       "| 33|     services|married|secondary|     no|   4789|    yes| yes|cellular| 11|  may|     220|       1|  339|       4| failure| no|\n",
       "| 35|   management| single| tertiary|     no|   1350|    yes|  no|cellular| 16|  apr|     185|       1|  330|       1| failure| no|\n",
       "| 30|   management|married| tertiary|     no|   1476|    yes| yes| unknown|  3|  jun|     199|       4|   -1|       0| unknown| no|\n",
       "| 59|  blue-collar|married|secondary|     no|      0|    yes|  no| unknown|  5|  may|     226|       1|   -1|       0| unknown| no|\n",
       "| 35|   management| single| tertiary|     no|    747|     no|  no|cellular| 23|  feb|     141|       2|  176|       3| failure| no|\n",
       "| 36|self-employed|married| tertiary|     no|    307|    yes|  no|cellular| 14|  may|     341|       1|  330|       2|   other| no|\n",
       "| 39|   technician|married|secondary|     no|    147|    yes|  no|cellular|  6|  may|     151|       2|   -1|       0| unknown| no|\n",
       "| 41| entrepreneur|married| tertiary|     no|    221|    yes|  no| unknown| 14|  may|      57|       2|   -1|       0| unknown| no|\n",
       "| 43|     services|married|  primary|     no|    -88|    yes| yes|cellular| 17|  apr|     313|       1|  147|       2| failure| no|\n",
       "| 39|     services|married|secondary|     no|   9374|    yes|  no| unknown| 20|  may|     273|       1|   -1|       0| unknown| no|\n",
       "| 43|       admin.|married|secondary|     no|    264|    yes|  no|cellular| 17|  apr|     113|       2|   -1|       0| unknown| no|\n",
       "| 36|   technician|married| tertiary|     no|   1109|     no|  no|cellular| 13|  aug|     328|       2|   -1|       0| unknown| no|\n",
       "| 20|      student| single|secondary|     no|    502|     no|  no|cellular| 30|  apr|     261|       1|   -1|       0| unknown|yes|\n",
       "| 31|  blue-collar|married|secondary|     no|    360|    yes| yes|cellular| 29|  jan|      89|       1|  241|       1| failure| no|\n",
       "| 40|   management|married| tertiary|     no|    194|     no| yes|cellular| 29|  aug|     189|       2|   -1|       0| unknown| no|\n",
       "| 56|   technician|married|secondary|     no|   4073|     no|  no|cellular| 27|  aug|     239|       5|   -1|       0| unknown| no|\n",
       "| 37|       admin.| single| tertiary|     no|   2317|    yes|  no|cellular| 20|  apr|     114|       1|  152|       2| failure| no|\n",
       "| 25|  blue-collar| single|  primary|     no|   -221|    yes|  no| unknown| 23|  may|     250|       1|   -1|       0| unknown| no|\n",
       "| 31|     services|married|secondary|     no|    132|     no|  no|cellular|  7|  jul|     148|       1|  152|       1|   other| no|\n",
       "+---+-------------+-------+---------+-------+-------+-------+----+--------+---+-----+--------+--------+-----+--------+--------+---+\n",
       "only showing top 20 rows\n",
       "\n"
      ]
     },
     "metadata": {
      "application/vnd.databricks.v1+output": {
       "addedWidgets": {},
       "arguments": {},
       "data": "+---+-------------+-------+---------+-------+-------+-------+----+--------+---+-----+--------+--------+-----+--------+--------+---+\n|age|          job|marital|education|default|balance|housing|loan| contact|day|month|duration|campaign|pdays|previous|poutcome|  y|\n+---+-------------+-------+---------+-------+-------+-------+----+--------+---+-----+--------+--------+-----+--------+--------+---+\n| 30|   unemployed|married|  primary|     no|   1787|     no|  no|cellular| 19|  oct|      79|       1|   -1|       0| unknown| no|\n| 33|     services|married|secondary|     no|   4789|    yes| yes|cellular| 11|  may|     220|       1|  339|       4| failure| no|\n| 35|   management| single| tertiary|     no|   1350|    yes|  no|cellular| 16|  apr|     185|       1|  330|       1| failure| no|\n| 30|   management|married| tertiary|     no|   1476|    yes| yes| unknown|  3|  jun|     199|       4|   -1|       0| unknown| no|\n| 59|  blue-collar|married|secondary|     no|      0|    yes|  no| unknown|  5|  may|     226|       1|   -1|       0| unknown| no|\n| 35|   management| single| tertiary|     no|    747|     no|  no|cellular| 23|  feb|     141|       2|  176|       3| failure| no|\n| 36|self-employed|married| tertiary|     no|    307|    yes|  no|cellular| 14|  may|     341|       1|  330|       2|   other| no|\n| 39|   technician|married|secondary|     no|    147|    yes|  no|cellular|  6|  may|     151|       2|   -1|       0| unknown| no|\n| 41| entrepreneur|married| tertiary|     no|    221|    yes|  no| unknown| 14|  may|      57|       2|   -1|       0| unknown| no|\n| 43|     services|married|  primary|     no|    -88|    yes| yes|cellular| 17|  apr|     313|       1|  147|       2| failure| no|\n| 39|     services|married|secondary|     no|   9374|    yes|  no| unknown| 20|  may|     273|       1|   -1|       0| unknown| no|\n| 43|       admin.|married|secondary|     no|    264|    yes|  no|cellular| 17|  apr|     113|       2|   -1|       0| unknown| no|\n| 36|   technician|married| tertiary|     no|   1109|     no|  no|cellular| 13|  aug|     328|       2|   -1|       0| unknown| no|\n| 20|      student| single|secondary|     no|    502|     no|  no|cellular| 30|  apr|     261|       1|   -1|       0| unknown|yes|\n| 31|  blue-collar|married|secondary|     no|    360|    yes| yes|cellular| 29|  jan|      89|       1|  241|       1| failure| no|\n| 40|   management|married| tertiary|     no|    194|     no| yes|cellular| 29|  aug|     189|       2|   -1|       0| unknown| no|\n| 56|   technician|married|secondary|     no|   4073|     no|  no|cellular| 27|  aug|     239|       5|   -1|       0| unknown| no|\n| 37|       admin.| single| tertiary|     no|   2317|    yes|  no|cellular| 20|  apr|     114|       1|  152|       2| failure| no|\n| 25|  blue-collar| single|  primary|     no|   -221|    yes|  no| unknown| 23|  may|     250|       1|   -1|       0| unknown| no|\n| 31|     services|married|secondary|     no|    132|     no|  no|cellular|  7|  jul|     148|       1|  152|       1|   other| no|\n+---+-------------+-------+---------+-------+-------+-------+----+--------+---+-----+--------+--------+-----+--------+--------+---+\nonly showing top 20 rows\n\n",
       "datasetInfos": [],
       "metadata": {},
       "removedWidgets": [],
       "type": "ansi"
      }
     },
     "output_type": "display_data"
    }
   ],
   "source": [
    "df.show()"
   ]
  },
  {
   "cell_type": "code",
   "execution_count": 0,
   "metadata": {
    "application/vnd.databricks.v1+cell": {
     "cellMetadata": {},
     "inputWidgets": {},
     "nuid": "dd07968d-38d3-40ab-b274-1972ecd9d2b6",
     "showTitle": false,
     "title": ""
    }
   },
   "outputs": [],
   "source": [
    "# Create table with path using DataFrame's schema and write data to it\n",
    "# Note if you are overwriting to specificy overwrite option\n",
    "# [YOUR CODE HERE]\n",
    "#df.write.format(write_format).saveAsTable(table_name,path=save_path,overwrite='yes')\n",
    "(\n",
    "df.write.format('delta')\n",
    ".mode('overwrite')\n",
    ".save(save_path) \n",
    ")\n",
    "\n",
    "#'file:/databricks/driver/tmp/delta/bank-4k/default.bank4k'\n",
    "#.save(save_path) \n",
    "\n",
    "\n"
   ]
  },
  {
   "cell_type": "markdown",
   "metadata": {
    "application/vnd.databricks.v1+cell": {
     "cellMetadata": {},
     "inputWidgets": {},
     "nuid": "282861cd-d1d6-4211-a340-fa44593bd5c1",
     "showTitle": false,
     "title": ""
    },
    "id": "xSPA8U_WUr8s"
   },
   "source": [
    "6. Verify what we just created."
   ]
  },
  {
   "cell_type": "code",
   "execution_count": 0,
   "metadata": {
    "application/vnd.databricks.v1+cell": {
     "cellMetadata": {},
     "inputWidgets": {},
     "nuid": "b34cd122-522c-4bbf-b11a-a5d107820a8e",
     "showTitle": false,
     "title": ""
    },
    "colab": {
     "base_uri": "https://localhost:8080/"
    },
    "id": "1jqA0JktUqg8",
    "outputId": "2dfea55f-a85f-4348-c55e-b1456e5b3cda"
   },
   "outputs": [
    {
     "data": {
      "text/plain": [
       "total 4.0K\r\n",
       "drwxr-xr-x 3 root root 4.0K Jan 15 01:46 \u001b[0m\u001b[01;34mbank-4k\u001b[0m/\r\n"
      ]
     },
     "metadata": {
      "application/vnd.databricks.v1+output": {
       "addedWidgets": {},
       "arguments": {},
       "data": "total 4.0K\r\ndrwxr-xr-x 3 root root 4.0K Jan 15 01:46 \u001b[0m\u001b[01;34mbank-4k\u001b[0m/\r\n",
       "datasetInfos": [],
       "metadata": {},
       "removedWidgets": [],
       "type": "ansi"
      }
     },
     "output_type": "display_data"
    }
   ],
   "source": [
    "ls -lh /databricks/driver/tmp/delta"
   ]
  },
  {
   "cell_type": "markdown",
   "metadata": {
    "application/vnd.databricks.v1+cell": {
     "cellMetadata": {},
     "inputWidgets": {},
     "nuid": "0568170e-ae63-47fe-bc86-a6fa624d0f86",
     "showTitle": false,
     "title": ""
    },
    "id": "tz2noJLho8ME"
   },
   "source": [
    "7. Partition data by `job` status. \n",
    "\n",
    "  To speed up queries that have predicates involving the partition columns, we should partition data. Often time, we partition by anonymized user id; here we demonstrate the idea with `job`.\n",
    "\n",
    "__NOTE__ We saw previously that the data can be loaded in Delta lake as one table. Now to partition the data, we need to remove the existing directory, or load it into a different directoty. The goal is to showcase delta lake capabilities."
   ]
  },
  {
   "cell_type": "code",
   "execution_count": 0,
   "metadata": {
    "application/vnd.databricks.v1+cell": {
     "cellMetadata": {},
     "inputWidgets": {},
     "nuid": "d17070e0-bda0-41a4-b5b8-3c363043b6c0",
     "showTitle": false,
     "title": ""
    },
    "id": "hJCHS1OxnoUu"
   },
   "outputs": [],
   "source": [
    "import shutil\n",
    "shutil.rmtree('/databricks/driver/tmp/delta/bank-4k') # To replace data, we need to remove the existing directory"
   ]
  },
  {
   "cell_type": "code",
   "execution_count": 0,
   "metadata": {
    "application/vnd.databricks.v1+cell": {
     "cellMetadata": {},
     "inputWidgets": {},
     "nuid": "0367da0a-b96d-4b08-aa16-fad13c169491",
     "showTitle": false,
     "title": ""
    }
   },
   "outputs": [],
   "source": [
    "partition_by = 'job'\n",
    "\n",
    "# Write the data to its target.\n",
    "(\n",
    "df.write.format('delta')\n",
    ".mode('overwrite')\n",
    ".partitionBy(partition_by)\n",
    ".saveAsTable(table_name) \n",
    ")\n",
    "\n"
   ]
  },
  {
   "cell_type": "code",
   "execution_count": 0,
   "metadata": {
    "application/vnd.databricks.v1+cell": {
     "cellMetadata": {},
     "inputWidgets": {},
     "nuid": "25cc51bb-0b94-470a-85d4-4c365e216837",
     "showTitle": false,
     "title": ""
    },
    "colab": {
     "base_uri": "https://localhost:8080/"
    },
    "id": "3N57HCGCoA6Y",
    "outputId": "6e0e381f-4c10-4f1c-87f3-6edc442a6b08"
   },
   "outputs": [
    {
     "data": {
      "text/plain": [
       "total 52K\r\n",
       "drwxr-xr-x 2 root root 4.0K Jan 15 01:47  \u001b[0m\u001b[01;34m_delta_log\u001b[0m/\r\n",
       "drwxr-xr-x 2 root root 4.0K Jan 15 01:47 \u001b[01;34m'job=admin.'\u001b[0m/\r\n",
       "drwxr-xr-x 2 root root 4.0K Jan 15 01:47 \u001b[01;34m'job=blue-collar'\u001b[0m/\r\n",
       "drwxr-xr-x 2 root root 4.0K Jan 15 01:47 \u001b[01;34m'job=entrepreneur'\u001b[0m/\r\n",
       "drwxr-xr-x 2 root root 4.0K Jan 15 01:47 \u001b[01;34m'job=housemaid'\u001b[0m/\r\n",
       "drwxr-xr-x 2 root root 4.0K Jan 15 01:47 \u001b[01;34m'job=management'\u001b[0m/\r\n",
       "drwxr-xr-x 2 root root 4.0K Jan 15 01:47 \u001b[01;34m'job=retired'\u001b[0m/\r\n",
       "drwxr-xr-x 2 root root 4.0K Jan 15 01:47 \u001b[01;34m'job=self-employed'\u001b[0m/\r\n",
       "drwxr-xr-x 2 root root 4.0K Jan 15 01:47 \u001b[01;34m'job=services'\u001b[0m/\r\n",
       "drwxr-xr-x 2 root root 4.0K Jan 15 01:47 \u001b[01;34m'job=student'\u001b[0m/\r\n",
       "drwxr-xr-x 2 root root 4.0K Jan 15 01:47 \u001b[01;34m'job=technician'\u001b[0m/\r\n",
       "drwxr-xr-x 2 root root 4.0K Jan 15 01:47 \u001b[01;34m'job=unemployed'\u001b[0m/\r\n",
       "drwxr-xr-x 2 root root 4.0K Jan 15 01:47 \u001b[01;34m'job=unknown'\u001b[0m/\r\n"
      ]
     },
     "metadata": {
      "application/vnd.databricks.v1+output": {
       "addedWidgets": {},
       "arguments": {},
       "data": "total 52K\r\ndrwxr-xr-x 2 root root 4.0K Jan 15 01:47  \u001b[0m\u001b[01;34m_delta_log\u001b[0m/\r\ndrwxr-xr-x 2 root root 4.0K Jan 15 01:47 \u001b[01;34m'job=admin.'\u001b[0m/\r\ndrwxr-xr-x 2 root root 4.0K Jan 15 01:47 \u001b[01;34m'job=blue-collar'\u001b[0m/\r\ndrwxr-xr-x 2 root root 4.0K Jan 15 01:47 \u001b[01;34m'job=entrepreneur'\u001b[0m/\r\ndrwxr-xr-x 2 root root 4.0K Jan 15 01:47 \u001b[01;34m'job=housemaid'\u001b[0m/\r\ndrwxr-xr-x 2 root root 4.0K Jan 15 01:47 \u001b[01;34m'job=management'\u001b[0m/\r\ndrwxr-xr-x 2 root root 4.0K Jan 15 01:47 \u001b[01;34m'job=retired'\u001b[0m/\r\ndrwxr-xr-x 2 root root 4.0K Jan 15 01:47 \u001b[01;34m'job=self-employed'\u001b[0m/\r\ndrwxr-xr-x 2 root root 4.0K Jan 15 01:47 \u001b[01;34m'job=services'\u001b[0m/\r\ndrwxr-xr-x 2 root root 4.0K Jan 15 01:47 \u001b[01;34m'job=student'\u001b[0m/\r\ndrwxr-xr-x 2 root root 4.0K Jan 15 01:47 \u001b[01;34m'job=technician'\u001b[0m/\r\ndrwxr-xr-x 2 root root 4.0K Jan 15 01:47 \u001b[01;34m'job=unemployed'\u001b[0m/\r\ndrwxr-xr-x 2 root root 4.0K Jan 15 01:47 \u001b[01;34m'job=unknown'\u001b[0m/\r\n",
       "datasetInfos": [],
       "metadata": {},
       "removedWidgets": [],
       "type": "ansi"
      }
     },
     "output_type": "display_data"
    }
   ],
   "source": [
    "ls -lh /databricks/driver/tmp/delta/bank-4k/"
   ]
  },
  {
   "cell_type": "markdown",
   "metadata": {
    "application/vnd.databricks.v1+cell": {
     "cellMetadata": {},
     "inputWidgets": {},
     "nuid": "59fa3326-ed49-46a1-89df-dc8202199dd4",
     "showTitle": false,
     "title": ""
    },
    "id": "LFRWT4qobDCw"
   },
   "source": [
    "We only touch the surface of Delta Lake, for more information, check [Delta Lake guide](https://docs.databricks.com/delta/index.html)"
   ]
  },
  {
   "cell_type": "markdown",
   "metadata": {
    "application/vnd.databricks.v1+cell": {
     "cellMetadata": {},
     "inputWidgets": {},
     "nuid": "9e212db6-6e87-468b-abd7-15a720ff8b96",
     "showTitle": false,
     "title": ""
    },
    "id": "d6e3Lpd8606A"
   },
   "source": [
    "## Part 2: Exploring The Data\n",
    "\n",
    "We will use the direct marketing campaigns (phone calls) of a Portuguese banking institution. The classification goal is to predict whether the client will subscribe (Yes/No) to a term deposit."
   ]
  },
  {
   "cell_type": "markdown",
   "metadata": {
    "application/vnd.databricks.v1+cell": {
     "cellMetadata": {},
     "inputWidgets": {},
     "nuid": "ca2aa3db-2d8d-4e9c-a3cb-ce40360250da",
     "showTitle": false,
     "title": ""
    },
    "id": "ySKvPhY8ZOQx"
   },
   "source": [
    "1. Load data from its source by specifying the data format and path; then check out the schemas."
   ]
  },
  {
   "cell_type": "code",
   "execution_count": 0,
   "metadata": {
    "application/vnd.databricks.v1+cell": {
     "cellMetadata": {},
     "inputWidgets": {},
     "nuid": "24bcf95a-d1ca-497c-9243-b0ab5556c6c4",
     "showTitle": false,
     "title": ""
    },
    "colab": {
     "base_uri": "https://localhost:8080/"
    },
    "id": "GVLwrGAN606A",
    "outputId": "97781c0e-cea0-4476-a2b7-12e294da3113"
   },
   "outputs": [
    {
     "data": {
      "text/plain": [
       "root\n",
       " |-- age: string (nullable = true)\n",
       " |-- job: string (nullable = true)\n",
       " |-- marital: string (nullable = true)\n",
       " |-- education: string (nullable = true)\n",
       " |-- default: string (nullable = true)\n",
       " |-- balance: string (nullable = true)\n",
       " |-- housing: string (nullable = true)\n",
       " |-- loan: string (nullable = true)\n",
       " |-- contact: string (nullable = true)\n",
       " |-- day: string (nullable = true)\n",
       " |-- month: string (nullable = true)\n",
       " |-- duration: string (nullable = true)\n",
       " |-- campaign: string (nullable = true)\n",
       " |-- pdays: string (nullable = true)\n",
       " |-- previous: string (nullable = true)\n",
       " |-- poutcome: string (nullable = true)\n",
       " |-- y: string (nullable = true)\n",
       "\n"
      ]
     },
     "metadata": {
      "application/vnd.databricks.v1+output": {
       "addedWidgets": {},
       "arguments": {},
       "data": "root\n |-- age: string (nullable = true)\n |-- job: string (nullable = true)\n |-- marital: string (nullable = true)\n |-- education: string (nullable = true)\n |-- default: string (nullable = true)\n |-- balance: string (nullable = true)\n |-- housing: string (nullable = true)\n |-- loan: string (nullable = true)\n |-- contact: string (nullable = true)\n |-- day: string (nullable = true)\n |-- month: string (nullable = true)\n |-- duration: string (nullable = true)\n |-- campaign: string (nullable = true)\n |-- pdays: string (nullable = true)\n |-- previous: string (nullable = true)\n |-- poutcome: string (nullable = true)\n |-- y: string (nullable = true)\n\n",
       "datasetInfos": [],
       "metadata": {},
       "removedWidgets": [],
       "type": "ansi"
      }
     },
     "output_type": "display_data"
    }
   ],
   "source": [
    "read_format = 'delta'\n",
    "load_path = '/tmp/delta/bank-4k/'\n",
    "\n",
    "df = spark.read.format(read_format).load(load_path) \n",
    "\n",
    "df.printSchema()\n",
    "#everything is a string - bad news"
   ]
  },
  {
   "cell_type": "markdown",
   "metadata": {
    "application/vnd.databricks.v1+cell": {
     "cellMetadata": {},
     "inputWidgets": {},
     "nuid": "08b5bb73-fc91-4240-a31c-036605467e8f",
     "showTitle": false,
     "title": ""
    },
    "id": "Aiqk3hQO606B"
   },
   "source": [
    "Here are the columns you should see:\n",
    "\n",
    "* Input variables: age, job, marital, education, default, balance, housing, loan, contact, day, month, duration, campaign, pdays, previous, poutcome\n",
    "\n",
    "* Output variable: y (deposit)\n",
    "\n",
    "2. Have a peek of the first five observations. Use the `.show()` method."
   ]
  },
  {
   "cell_type": "code",
   "execution_count": 0,
   "metadata": {
    "application/vnd.databricks.v1+cell": {
     "cellMetadata": {},
     "inputWidgets": {},
     "nuid": "1a16a8b0-ed99-470a-a4c0-64aa10fbab73",
     "showTitle": false,
     "title": ""
    },
    "colab": {
     "base_uri": "https://localhost:8080/"
    },
    "id": "CWPoxTh7606B",
    "outputId": "3287ef72-969f-463f-b922-46ed3d95dd46"
   },
   "outputs": [
    {
     "data": {
      "text/plain": [
       "+---+------+--------+---------+-------+-------+-------+----+--------+---+-----+--------+--------+-----+--------+--------+---+\n",
       "|age|   job| marital|education|default|balance|housing|loan| contact|day|month|duration|campaign|pdays|previous|poutcome|  y|\n",
       "+---+------+--------+---------+-------+-------+-------+----+--------+---+-----+--------+--------+-----+--------+--------+---+\n",
       "| 43|admin.| married|secondary|     no|    264|    yes|  no|cellular| 17|  apr|     113|       2|   -1|       0| unknown| no|\n",
       "| 37|admin.|  single| tertiary|     no|   2317|    yes|  no|cellular| 20|  apr|     114|       1|  152|       2| failure| no|\n",
       "| 53|admin.| married|secondary|     no|    105|     no| yes|cellular| 21|  aug|      74|       2|   -1|       0| unknown| no|\n",
       "| 42|admin.|divorced|secondary|     no|   1811|    yes|  no| unknown| 14|  may|     150|       1|   -1|       0| unknown| no|\n",
       "| 61|admin.| married|  unknown|     no|   4629|    yes|  no|cellular| 27|  jan|     181|       1|   92|       1| success|yes|\n",
       "+---+------+--------+---------+-------+-------+-------+----+--------+---+-----+--------+--------+-----+--------+--------+---+\n",
       "only showing top 5 rows\n",
       "\n"
      ]
     },
     "metadata": {
      "application/vnd.databricks.v1+output": {
       "addedWidgets": {},
       "arguments": {},
       "data": "+---+------+--------+---------+-------+-------+-------+----+--------+---+-----+--------+--------+-----+--------+--------+---+\n|age|   job| marital|education|default|balance|housing|loan| contact|day|month|duration|campaign|pdays|previous|poutcome|  y|\n+---+------+--------+---------+-------+-------+-------+----+--------+---+-----+--------+--------+-----+--------+--------+---+\n| 43|admin.| married|secondary|     no|    264|    yes|  no|cellular| 17|  apr|     113|       2|   -1|       0| unknown| no|\n| 37|admin.|  single| tertiary|     no|   2317|    yes|  no|cellular| 20|  apr|     114|       1|  152|       2| failure| no|\n| 53|admin.| married|secondary|     no|    105|     no| yes|cellular| 21|  aug|      74|       2|   -1|       0| unknown| no|\n| 42|admin.|divorced|secondary|     no|   1811|    yes|  no| unknown| 14|  may|     150|       1|   -1|       0| unknown| no|\n| 61|admin.| married|  unknown|     no|   4629|    yes|  no|cellular| 27|  jan|     181|       1|   92|       1| success|yes|\n+---+------+--------+---------+-------+-------+-------+----+--------+---+-----+--------+--------+-----+--------+--------+---+\nonly showing top 5 rows\n\n",
       "datasetInfos": [],
       "metadata": {},
       "removedWidgets": [],
       "type": "ansi"
      }
     },
     "output_type": "display_data"
    }
   ],
   "source": [
    "df.show(5)\n",
    "# [YOUR CODE HERE]"
   ]
  },
  {
   "cell_type": "markdown",
   "metadata": {
    "application/vnd.databricks.v1+cell": {
     "cellMetadata": {},
     "inputWidgets": {},
     "nuid": "74daf4bb-eb2e-46f5-892d-533ab2c89950",
     "showTitle": false,
     "title": ""
    },
    "id": "mOITLLCvG4Sb"
   },
   "source": [
    "To get a prettier result, it can be nice to use Pandas to display our DataFrame. Use the Spark `.take()` method to get the first 5 rows and then convert to a pandas DataFrame. Don't forget to pass along the column names. You should see the same result as above, but in a more aesthetically appealing format."
   ]
  },
  {
   "cell_type": "code",
   "execution_count": 0,
   "metadata": {
    "application/vnd.databricks.v1+cell": {
     "cellMetadata": {},
     "inputWidgets": {},
     "nuid": "70ea394f-03f7-43c9-bb24-8836b08cb1ef",
     "showTitle": false,
     "title": ""
    },
    "colab": {
     "base_uri": "https://localhost:8080/",
     "height": 201
    },
    "id": "VRenwPrOGz0D",
    "outputId": "3502ad2b-5d95-4f5c-b80c-e2e1fa68417b"
   },
   "outputs": [
    {
     "data": {
      "text/html": [
       "<div>\n",
       "<style scoped>\n",
       "    .dataframe tbody tr th:only-of-type {\n",
       "        vertical-align: middle;\n",
       "    }\n",
       "\n",
       "    .dataframe tbody tr th {\n",
       "        vertical-align: top;\n",
       "    }\n",
       "\n",
       "    .dataframe thead th {\n",
       "        text-align: right;\n",
       "    }\n",
       "</style>\n",
       "<table border=\"1\" class=\"dataframe\">\n",
       "  <thead>\n",
       "    <tr style=\"text-align: right;\">\n",
       "      <th></th>\n",
       "      <th>age</th>\n",
       "      <th>job</th>\n",
       "      <th>marital</th>\n",
       "      <th>education</th>\n",
       "      <th>default</th>\n",
       "      <th>balance</th>\n",
       "      <th>housing</th>\n",
       "      <th>loan</th>\n",
       "      <th>contact</th>\n",
       "      <th>day</th>\n",
       "      <th>month</th>\n",
       "      <th>duration</th>\n",
       "      <th>campaign</th>\n",
       "      <th>pdays</th>\n",
       "      <th>previous</th>\n",
       "      <th>poutcome</th>\n",
       "      <th>y</th>\n",
       "    </tr>\n",
       "  </thead>\n",
       "  <tbody>\n",
       "    <tr>\n",
       "      <th>0</th>\n",
       "      <td>43</td>\n",
       "      <td>admin.</td>\n",
       "      <td>married</td>\n",
       "      <td>secondary</td>\n",
       "      <td>no</td>\n",
       "      <td>264</td>\n",
       "      <td>yes</td>\n",
       "      <td>no</td>\n",
       "      <td>cellular</td>\n",
       "      <td>17</td>\n",
       "      <td>apr</td>\n",
       "      <td>113</td>\n",
       "      <td>2</td>\n",
       "      <td>-1</td>\n",
       "      <td>0</td>\n",
       "      <td>unknown</td>\n",
       "      <td>no</td>\n",
       "    </tr>\n",
       "    <tr>\n",
       "      <th>1</th>\n",
       "      <td>37</td>\n",
       "      <td>admin.</td>\n",
       "      <td>single</td>\n",
       "      <td>tertiary</td>\n",
       "      <td>no</td>\n",
       "      <td>2317</td>\n",
       "      <td>yes</td>\n",
       "      <td>no</td>\n",
       "      <td>cellular</td>\n",
       "      <td>20</td>\n",
       "      <td>apr</td>\n",
       "      <td>114</td>\n",
       "      <td>1</td>\n",
       "      <td>152</td>\n",
       "      <td>2</td>\n",
       "      <td>failure</td>\n",
       "      <td>no</td>\n",
       "    </tr>\n",
       "    <tr>\n",
       "      <th>2</th>\n",
       "      <td>53</td>\n",
       "      <td>admin.</td>\n",
       "      <td>married</td>\n",
       "      <td>secondary</td>\n",
       "      <td>no</td>\n",
       "      <td>105</td>\n",
       "      <td>no</td>\n",
       "      <td>yes</td>\n",
       "      <td>cellular</td>\n",
       "      <td>21</td>\n",
       "      <td>aug</td>\n",
       "      <td>74</td>\n",
       "      <td>2</td>\n",
       "      <td>-1</td>\n",
       "      <td>0</td>\n",
       "      <td>unknown</td>\n",
       "      <td>no</td>\n",
       "    </tr>\n",
       "    <tr>\n",
       "      <th>3</th>\n",
       "      <td>42</td>\n",
       "      <td>admin.</td>\n",
       "      <td>divorced</td>\n",
       "      <td>secondary</td>\n",
       "      <td>no</td>\n",
       "      <td>1811</td>\n",
       "      <td>yes</td>\n",
       "      <td>no</td>\n",
       "      <td>unknown</td>\n",
       "      <td>14</td>\n",
       "      <td>may</td>\n",
       "      <td>150</td>\n",
       "      <td>1</td>\n",
       "      <td>-1</td>\n",
       "      <td>0</td>\n",
       "      <td>unknown</td>\n",
       "      <td>no</td>\n",
       "    </tr>\n",
       "    <tr>\n",
       "      <th>4</th>\n",
       "      <td>61</td>\n",
       "      <td>admin.</td>\n",
       "      <td>married</td>\n",
       "      <td>unknown</td>\n",
       "      <td>no</td>\n",
       "      <td>4629</td>\n",
       "      <td>yes</td>\n",
       "      <td>no</td>\n",
       "      <td>cellular</td>\n",
       "      <td>27</td>\n",
       "      <td>jan</td>\n",
       "      <td>181</td>\n",
       "      <td>1</td>\n",
       "      <td>92</td>\n",
       "      <td>1</td>\n",
       "      <td>success</td>\n",
       "      <td>yes</td>\n",
       "    </tr>\n",
       "  </tbody>\n",
       "</table>\n",
       "</div>"
      ]
     },
     "metadata": {
      "application/vnd.databricks.v1+output": {
       "addedWidgets": {},
       "arguments": {},
       "data": "<div>\n<style scoped>\n    .dataframe tbody tr th:only-of-type {\n        vertical-align: middle;\n    }\n\n    .dataframe tbody tr th {\n        vertical-align: top;\n    }\n\n    .dataframe thead th {\n        text-align: right;\n    }\n</style>\n<table border=\"1\" class=\"dataframe\">\n  <thead>\n    <tr style=\"text-align: right;\">\n      <th></th>\n      <th>age</th>\n      <th>job</th>\n      <th>marital</th>\n      <th>education</th>\n      <th>default</th>\n      <th>balance</th>\n      <th>housing</th>\n      <th>loan</th>\n      <th>contact</th>\n      <th>day</th>\n      <th>month</th>\n      <th>duration</th>\n      <th>campaign</th>\n      <th>pdays</th>\n      <th>previous</th>\n      <th>poutcome</th>\n      <th>y</th>\n    </tr>\n  </thead>\n  <tbody>\n    <tr>\n      <th>0</th>\n      <td>43</td>\n      <td>admin.</td>\n      <td>married</td>\n      <td>secondary</td>\n      <td>no</td>\n      <td>264</td>\n      <td>yes</td>\n      <td>no</td>\n      <td>cellular</td>\n      <td>17</td>\n      <td>apr</td>\n      <td>113</td>\n      <td>2</td>\n      <td>-1</td>\n      <td>0</td>\n      <td>unknown</td>\n      <td>no</td>\n    </tr>\n    <tr>\n      <th>1</th>\n      <td>37</td>\n      <td>admin.</td>\n      <td>single</td>\n      <td>tertiary</td>\n      <td>no</td>\n      <td>2317</td>\n      <td>yes</td>\n      <td>no</td>\n      <td>cellular</td>\n      <td>20</td>\n      <td>apr</td>\n      <td>114</td>\n      <td>1</td>\n      <td>152</td>\n      <td>2</td>\n      <td>failure</td>\n      <td>no</td>\n    </tr>\n    <tr>\n      <th>2</th>\n      <td>53</td>\n      <td>admin.</td>\n      <td>married</td>\n      <td>secondary</td>\n      <td>no</td>\n      <td>105</td>\n      <td>no</td>\n      <td>yes</td>\n      <td>cellular</td>\n      <td>21</td>\n      <td>aug</td>\n      <td>74</td>\n      <td>2</td>\n      <td>-1</td>\n      <td>0</td>\n      <td>unknown</td>\n      <td>no</td>\n    </tr>\n    <tr>\n      <th>3</th>\n      <td>42</td>\n      <td>admin.</td>\n      <td>divorced</td>\n      <td>secondary</td>\n      <td>no</td>\n      <td>1811</td>\n      <td>yes</td>\n      <td>no</td>\n      <td>unknown</td>\n      <td>14</td>\n      <td>may</td>\n      <td>150</td>\n      <td>1</td>\n      <td>-1</td>\n      <td>0</td>\n      <td>unknown</td>\n      <td>no</td>\n    </tr>\n    <tr>\n      <th>4</th>\n      <td>61</td>\n      <td>admin.</td>\n      <td>married</td>\n      <td>unknown</td>\n      <td>no</td>\n      <td>4629</td>\n      <td>yes</td>\n      <td>no</td>\n      <td>cellular</td>\n      <td>27</td>\n      <td>jan</td>\n      <td>181</td>\n      <td>1</td>\n      <td>92</td>\n      <td>1</td>\n      <td>success</td>\n      <td>yes</td>\n    </tr>\n  </tbody>\n</table>\n</div>",
       "datasetInfos": [],
       "metadata": {},
       "removedWidgets": [],
       "textData": null,
       "type": "htmlSandbox"
      }
     },
     "output_type": "display_data"
    }
   ],
   "source": [
    "import pandas as pd\n",
    "dfp = pd.DataFrame(df.take(5),columns=df.columns)\n",
    "dfp"
   ]
  },
  {
   "cell_type": "markdown",
   "metadata": {
    "application/vnd.databricks.v1+cell": {
     "cellMetadata": {},
     "inputWidgets": {},
     "nuid": "ba4fb56e-8dd1-461b-8fc1-03e6502ceca8",
     "showTitle": false,
     "title": ""
    },
    "id": "1uKOs_Ka606B"
   },
   "source": [
    "3. We can also perform transformations on our DataFrame using the Pandas commands that we know and love using the [Pandas on Spark API](https://spark.apache.org/docs/latest/api/python/user_guide/pandas_on_spark/index.html) **(new on Spark versions >= 3.2)**.  Pandas on Spark API was born out of the Databricks project, Koalas 🐨, allows us to use the Pandas commands and aesthetically pleasing output that we know and love distributed on the speed and scale of Spark!  For a nice quickstart on Pandas on Spark, check out this [article](https://towardsdatascience.com/run-pandas-as-fast-as-spark-f5eefe780c45)!  Let's convert our Spark DataFrame to a Pandas on Spark DataFrame!"
   ]
  },
  {
   "cell_type": "code",
   "execution_count": 0,
   "metadata": {
    "application/vnd.databricks.v1+cell": {
     "cellMetadata": {},
     "inputWidgets": {},
     "nuid": "9abd6308-77f0-420b-a80a-03ef2928c963",
     "showTitle": false,
     "title": ""
    },
    "colab": {
     "base_uri": "https://localhost:8080/",
     "height": 237
    },
    "id": "p7G6371u606C",
    "outputId": "9a07865b-02c9-4c7f-a89e-c15b0265e6f4"
   },
   "outputs": [
    {
     "data": {
      "text/html": [
       "<div>\n",
       "<style scoped>\n",
       "    .dataframe tbody tr th:only-of-type {\n",
       "        vertical-align: middle;\n",
       "    }\n",
       "\n",
       "    .dataframe tbody tr th {\n",
       "        vertical-align: top;\n",
       "    }\n",
       "\n",
       "    .dataframe thead th {\n",
       "        text-align: right;\n",
       "    }\n",
       "</style>\n",
       "<table border=\"1\" class=\"dataframe\">\n",
       "  <thead>\n",
       "    <tr style=\"text-align: right;\">\n",
       "      <th></th>\n",
       "      <th>age</th>\n",
       "      <th>job</th>\n",
       "      <th>marital</th>\n",
       "      <th>education</th>\n",
       "      <th>default</th>\n",
       "      <th>balance</th>\n",
       "      <th>housing</th>\n",
       "      <th>loan</th>\n",
       "      <th>contact</th>\n",
       "      <th>day</th>\n",
       "      <th>month</th>\n",
       "      <th>duration</th>\n",
       "      <th>campaign</th>\n",
       "      <th>pdays</th>\n",
       "      <th>previous</th>\n",
       "      <th>poutcome</th>\n",
       "      <th>y</th>\n",
       "    </tr>\n",
       "  </thead>\n",
       "  <tbody>\n",
       "    <tr>\n",
       "      <th>0</th>\n",
       "      <td>35</td>\n",
       "      <td>management</td>\n",
       "      <td>single</td>\n",
       "      <td>tertiary</td>\n",
       "      <td>no</td>\n",
       "      <td>1350</td>\n",
       "      <td>yes</td>\n",
       "      <td>no</td>\n",
       "      <td>cellular</td>\n",
       "      <td>16</td>\n",
       "      <td>apr</td>\n",
       "      <td>185</td>\n",
       "      <td>1</td>\n",
       "      <td>330</td>\n",
       "      <td>1</td>\n",
       "      <td>failure</td>\n",
       "      <td>no</td>\n",
       "    </tr>\n",
       "    <tr>\n",
       "      <th>1</th>\n",
       "      <td>30</td>\n",
       "      <td>management</td>\n",
       "      <td>married</td>\n",
       "      <td>tertiary</td>\n",
       "      <td>no</td>\n",
       "      <td>1476</td>\n",
       "      <td>yes</td>\n",
       "      <td>yes</td>\n",
       "      <td>unknown</td>\n",
       "      <td>3</td>\n",
       "      <td>jun</td>\n",
       "      <td>199</td>\n",
       "      <td>4</td>\n",
       "      <td>-1</td>\n",
       "      <td>0</td>\n",
       "      <td>unknown</td>\n",
       "      <td>no</td>\n",
       "    </tr>\n",
       "    <tr>\n",
       "      <th>2</th>\n",
       "      <td>35</td>\n",
       "      <td>management</td>\n",
       "      <td>single</td>\n",
       "      <td>tertiary</td>\n",
       "      <td>no</td>\n",
       "      <td>747</td>\n",
       "      <td>no</td>\n",
       "      <td>no</td>\n",
       "      <td>cellular</td>\n",
       "      <td>23</td>\n",
       "      <td>feb</td>\n",
       "      <td>141</td>\n",
       "      <td>2</td>\n",
       "      <td>176</td>\n",
       "      <td>3</td>\n",
       "      <td>failure</td>\n",
       "      <td>no</td>\n",
       "    </tr>\n",
       "    <tr>\n",
       "      <th>3</th>\n",
       "      <td>40</td>\n",
       "      <td>management</td>\n",
       "      <td>married</td>\n",
       "      <td>tertiary</td>\n",
       "      <td>no</td>\n",
       "      <td>194</td>\n",
       "      <td>no</td>\n",
       "      <td>yes</td>\n",
       "      <td>cellular</td>\n",
       "      <td>29</td>\n",
       "      <td>aug</td>\n",
       "      <td>189</td>\n",
       "      <td>2</td>\n",
       "      <td>-1</td>\n",
       "      <td>0</td>\n",
       "      <td>unknown</td>\n",
       "      <td>no</td>\n",
       "    </tr>\n",
       "    <tr>\n",
       "      <th>4</th>\n",
       "      <td>38</td>\n",
       "      <td>management</td>\n",
       "      <td>divorced</td>\n",
       "      <td>unknown</td>\n",
       "      <td>no</td>\n",
       "      <td>0</td>\n",
       "      <td>yes</td>\n",
       "      <td>no</td>\n",
       "      <td>cellular</td>\n",
       "      <td>18</td>\n",
       "      <td>nov</td>\n",
       "      <td>96</td>\n",
       "      <td>2</td>\n",
       "      <td>-1</td>\n",
       "      <td>0</td>\n",
       "      <td>unknown</td>\n",
       "      <td>no</td>\n",
       "    </tr>\n",
       "  </tbody>\n",
       "</table>\n",
       "</div>"
      ]
     },
     "metadata": {
      "application/vnd.databricks.v1+output": {
       "addedWidgets": {},
       "arguments": {},
       "data": "<div>\n<style scoped>\n    .dataframe tbody tr th:only-of-type {\n        vertical-align: middle;\n    }\n\n    .dataframe tbody tr th {\n        vertical-align: top;\n    }\n\n    .dataframe thead th {\n        text-align: right;\n    }\n</style>\n<table border=\"1\" class=\"dataframe\">\n  <thead>\n    <tr style=\"text-align: right;\">\n      <th></th>\n      <th>age</th>\n      <th>job</th>\n      <th>marital</th>\n      <th>education</th>\n      <th>default</th>\n      <th>balance</th>\n      <th>housing</th>\n      <th>loan</th>\n      <th>contact</th>\n      <th>day</th>\n      <th>month</th>\n      <th>duration</th>\n      <th>campaign</th>\n      <th>pdays</th>\n      <th>previous</th>\n      <th>poutcome</th>\n      <th>y</th>\n    </tr>\n  </thead>\n  <tbody>\n    <tr>\n      <th>0</th>\n      <td>35</td>\n      <td>management</td>\n      <td>single</td>\n      <td>tertiary</td>\n      <td>no</td>\n      <td>1350</td>\n      <td>yes</td>\n      <td>no</td>\n      <td>cellular</td>\n      <td>16</td>\n      <td>apr</td>\n      <td>185</td>\n      <td>1</td>\n      <td>330</td>\n      <td>1</td>\n      <td>failure</td>\n      <td>no</td>\n    </tr>\n    <tr>\n      <th>1</th>\n      <td>30</td>\n      <td>management</td>\n      <td>married</td>\n      <td>tertiary</td>\n      <td>no</td>\n      <td>1476</td>\n      <td>yes</td>\n      <td>yes</td>\n      <td>unknown</td>\n      <td>3</td>\n      <td>jun</td>\n      <td>199</td>\n      <td>4</td>\n      <td>-1</td>\n      <td>0</td>\n      <td>unknown</td>\n      <td>no</td>\n    </tr>\n    <tr>\n      <th>2</th>\n      <td>35</td>\n      <td>management</td>\n      <td>single</td>\n      <td>tertiary</td>\n      <td>no</td>\n      <td>747</td>\n      <td>no</td>\n      <td>no</td>\n      <td>cellular</td>\n      <td>23</td>\n      <td>feb</td>\n      <td>141</td>\n      <td>2</td>\n      <td>176</td>\n      <td>3</td>\n      <td>failure</td>\n      <td>no</td>\n    </tr>\n    <tr>\n      <th>3</th>\n      <td>40</td>\n      <td>management</td>\n      <td>married</td>\n      <td>tertiary</td>\n      <td>no</td>\n      <td>194</td>\n      <td>no</td>\n      <td>yes</td>\n      <td>cellular</td>\n      <td>29</td>\n      <td>aug</td>\n      <td>189</td>\n      <td>2</td>\n      <td>-1</td>\n      <td>0</td>\n      <td>unknown</td>\n      <td>no</td>\n    </tr>\n    <tr>\n      <th>4</th>\n      <td>38</td>\n      <td>management</td>\n      <td>divorced</td>\n      <td>unknown</td>\n      <td>no</td>\n      <td>0</td>\n      <td>yes</td>\n      <td>no</td>\n      <td>cellular</td>\n      <td>18</td>\n      <td>nov</td>\n      <td>96</td>\n      <td>2</td>\n      <td>-1</td>\n      <td>0</td>\n      <td>unknown</td>\n      <td>no</td>\n    </tr>\n  </tbody>\n</table>\n</div>",
       "datasetInfos": [],
       "metadata": {},
       "removedWidgets": [],
       "textData": null,
       "type": "htmlSandbox"
      }
     },
     "output_type": "display_data"
    }
   ],
   "source": [
    "import pyspark.pandas as ps\n",
    "\n",
    "psdf = df.pandas_api()\n",
    "psdf.head(5)"
   ]
  },
  {
   "cell_type": "markdown",
   "metadata": {
    "application/vnd.databricks.v1+cell": {
     "cellMetadata": {},
     "inputWidgets": {},
     "nuid": "94c134bc-0cbb-41e6-80a2-28230bbdb81f",
     "showTitle": false,
     "title": ""
    },
    "id": "UMK2KbvG606C"
   },
   "source": [
    "4. How many datapoints are there in the dataset? Use the `.count()` method."
   ]
  },
  {
   "cell_type": "code",
   "execution_count": 0,
   "metadata": {
    "application/vnd.databricks.v1+cell": {
     "cellMetadata": {},
     "inputWidgets": {},
     "nuid": "d2bccb04-2a21-4053-bac9-44db61d30a14",
     "showTitle": false,
     "title": ""
    },
    "colab": {
     "base_uri": "https://localhost:8080/"
    },
    "id": "CGCjBX-8606C",
    "outputId": "dbf49fd1-5cb4-458c-c7f8-188dd8d9ecb0"
   },
   "outputs": [
    {
     "data": {
      "text/plain": [
       "Out[67]: (4521, 17)"
      ]
     },
     "metadata": {
      "application/vnd.databricks.v1+output": {
       "addedWidgets": {},
       "arguments": {},
       "data": "Out[67]: (4521, 17)",
       "datasetInfos": [],
       "metadata": {},
       "removedWidgets": [],
       "type": "ansi"
      }
     },
     "output_type": "display_data"
    }
   ],
   "source": [
    "psdf.shape"
   ]
  },
  {
   "cell_type": "code",
   "execution_count": 0,
   "metadata": {
    "application/vnd.databricks.v1+cell": {
     "cellMetadata": {},
     "inputWidgets": {},
     "nuid": "3631ee87-d426-4dba-8142-ceca7920ce7e",
     "showTitle": false,
     "title": ""
    }
   },
   "outputs": [
    {
     "data": {
      "text/plain": [
       "Out[68]: age          4521\n",
       "job          4521\n",
       "marital      4521\n",
       "education    4521\n",
       "default      4521\n",
       "balance      4521\n",
       "housing      4521\n",
       "loan         4521\n",
       "contact      4521\n",
       "day          4521\n",
       "month        4521\n",
       "duration     4521\n",
       "campaign     4521\n",
       "pdays        4521\n",
       "previous     4521\n",
       "poutcome     4521\n",
       "y            4521\n",
       "dtype: int64"
      ]
     },
     "metadata": {
      "application/vnd.databricks.v1+output": {
       "addedWidgets": {},
       "arguments": {},
       "data": "Out[68]: age          4521\njob          4521\nmarital      4521\neducation    4521\ndefault      4521\nbalance      4521\nhousing      4521\nloan         4521\ncontact      4521\nday          4521\nmonth        4521\nduration     4521\ncampaign     4521\npdays        4521\nprevious     4521\npoutcome     4521\ny            4521\ndtype: int64",
       "datasetInfos": [],
       "metadata": {},
       "removedWidgets": [],
       "type": "ansi"
      }
     },
     "output_type": "display_data"
    }
   ],
   "source": [
    "psdf.count()"
   ]
  },
  {
   "cell_type": "markdown",
   "metadata": {
    "application/vnd.databricks.v1+cell": {
     "cellMetadata": {},
     "inputWidgets": {},
     "nuid": "b6144fb2-2fb0-43d3-815c-f27cf860b1a4",
     "showTitle": false,
     "title": ""
    },
    "id": "B6chyZha606D"
   },
   "source": [
    "5. Use the `.describe()` method to see summary statistics on the features."
   ]
  },
  {
   "cell_type": "code",
   "execution_count": 0,
   "metadata": {
    "application/vnd.databricks.v1+cell": {
     "cellMetadata": {},
     "inputWidgets": {},
     "nuid": "37ed301c-bb4a-4c2d-ad01-9928daf3f06e",
     "showTitle": false,
     "title": ""
    },
    "colab": {
     "base_uri": "https://localhost:8080/",
     "height": 291
    },
    "id": "mpmp504K606D",
    "outputId": "97911142-6fb9-4ddc-f49c-363dfac124c4"
   },
   "outputs": [
    {
     "data": {
      "text/html": [
       "<div>\n",
       "<style scoped>\n",
       "    .dataframe tbody tr th:only-of-type {\n",
       "        vertical-align: middle;\n",
       "    }\n",
       "\n",
       "    .dataframe tbody tr th {\n",
       "        vertical-align: top;\n",
       "    }\n",
       "\n",
       "    .dataframe thead th {\n",
       "        text-align: right;\n",
       "    }\n",
       "</style>\n",
       "<table border=\"1\" class=\"dataframe\">\n",
       "  <thead>\n",
       "    <tr style=\"text-align: right;\">\n",
       "      <th></th>\n",
       "      <th>age</th>\n",
       "      <th>job</th>\n",
       "      <th>marital</th>\n",
       "      <th>education</th>\n",
       "      <th>default</th>\n",
       "      <th>balance</th>\n",
       "      <th>housing</th>\n",
       "      <th>loan</th>\n",
       "      <th>contact</th>\n",
       "      <th>day</th>\n",
       "      <th>month</th>\n",
       "      <th>duration</th>\n",
       "      <th>campaign</th>\n",
       "      <th>pdays</th>\n",
       "      <th>previous</th>\n",
       "      <th>poutcome</th>\n",
       "      <th>y</th>\n",
       "    </tr>\n",
       "  </thead>\n",
       "  <tbody>\n",
       "    <tr>\n",
       "      <th>count</th>\n",
       "      <td>4521</td>\n",
       "      <td>4521</td>\n",
       "      <td>4521</td>\n",
       "      <td>4521</td>\n",
       "      <td>4521</td>\n",
       "      <td>4521</td>\n",
       "      <td>4521</td>\n",
       "      <td>4521</td>\n",
       "      <td>4521</td>\n",
       "      <td>4521</td>\n",
       "      <td>4521</td>\n",
       "      <td>4521</td>\n",
       "      <td>4521</td>\n",
       "      <td>4521</td>\n",
       "      <td>4521</td>\n",
       "      <td>4521</td>\n",
       "      <td>4521</td>\n",
       "    </tr>\n",
       "    <tr>\n",
       "      <th>unique</th>\n",
       "      <td>67</td>\n",
       "      <td>12</td>\n",
       "      <td>3</td>\n",
       "      <td>4</td>\n",
       "      <td>2</td>\n",
       "      <td>2353</td>\n",
       "      <td>2</td>\n",
       "      <td>2</td>\n",
       "      <td>3</td>\n",
       "      <td>31</td>\n",
       "      <td>12</td>\n",
       "      <td>875</td>\n",
       "      <td>32</td>\n",
       "      <td>292</td>\n",
       "      <td>24</td>\n",
       "      <td>4</td>\n",
       "      <td>2</td>\n",
       "    </tr>\n",
       "    <tr>\n",
       "      <th>top</th>\n",
       "      <td>34</td>\n",
       "      <td>management</td>\n",
       "      <td>married</td>\n",
       "      <td>secondary</td>\n",
       "      <td>no</td>\n",
       "      <td>0</td>\n",
       "      <td>yes</td>\n",
       "      <td>no</td>\n",
       "      <td>cellular</td>\n",
       "      <td>20</td>\n",
       "      <td>may</td>\n",
       "      <td>123</td>\n",
       "      <td>1</td>\n",
       "      <td>-1</td>\n",
       "      <td>0</td>\n",
       "      <td>unknown</td>\n",
       "      <td>no</td>\n",
       "    </tr>\n",
       "    <tr>\n",
       "      <th>freq</th>\n",
       "      <td>231</td>\n",
       "      <td>969</td>\n",
       "      <td>2797</td>\n",
       "      <td>2306</td>\n",
       "      <td>4445</td>\n",
       "      <td>357</td>\n",
       "      <td>2559</td>\n",
       "      <td>3830</td>\n",
       "      <td>2896</td>\n",
       "      <td>257</td>\n",
       "      <td>1398</td>\n",
       "      <td>27</td>\n",
       "      <td>1734</td>\n",
       "      <td>3705</td>\n",
       "      <td>3705</td>\n",
       "      <td>3705</td>\n",
       "      <td>4000</td>\n",
       "    </tr>\n",
       "  </tbody>\n",
       "</table>\n",
       "</div>"
      ]
     },
     "metadata": {
      "application/vnd.databricks.v1+output": {
       "addedWidgets": {},
       "arguments": {},
       "data": "<div>\n<style scoped>\n    .dataframe tbody tr th:only-of-type {\n        vertical-align: middle;\n    }\n\n    .dataframe tbody tr th {\n        vertical-align: top;\n    }\n\n    .dataframe thead th {\n        text-align: right;\n    }\n</style>\n<table border=\"1\" class=\"dataframe\">\n  <thead>\n    <tr style=\"text-align: right;\">\n      <th></th>\n      <th>age</th>\n      <th>job</th>\n      <th>marital</th>\n      <th>education</th>\n      <th>default</th>\n      <th>balance</th>\n      <th>housing</th>\n      <th>loan</th>\n      <th>contact</th>\n      <th>day</th>\n      <th>month</th>\n      <th>duration</th>\n      <th>campaign</th>\n      <th>pdays</th>\n      <th>previous</th>\n      <th>poutcome</th>\n      <th>y</th>\n    </tr>\n  </thead>\n  <tbody>\n    <tr>\n      <th>count</th>\n      <td>4521</td>\n      <td>4521</td>\n      <td>4521</td>\n      <td>4521</td>\n      <td>4521</td>\n      <td>4521</td>\n      <td>4521</td>\n      <td>4521</td>\n      <td>4521</td>\n      <td>4521</td>\n      <td>4521</td>\n      <td>4521</td>\n      <td>4521</td>\n      <td>4521</td>\n      <td>4521</td>\n      <td>4521</td>\n      <td>4521</td>\n    </tr>\n    <tr>\n      <th>unique</th>\n      <td>67</td>\n      <td>12</td>\n      <td>3</td>\n      <td>4</td>\n      <td>2</td>\n      <td>2353</td>\n      <td>2</td>\n      <td>2</td>\n      <td>3</td>\n      <td>31</td>\n      <td>12</td>\n      <td>875</td>\n      <td>32</td>\n      <td>292</td>\n      <td>24</td>\n      <td>4</td>\n      <td>2</td>\n    </tr>\n    <tr>\n      <th>top</th>\n      <td>34</td>\n      <td>management</td>\n      <td>married</td>\n      <td>secondary</td>\n      <td>no</td>\n      <td>0</td>\n      <td>yes</td>\n      <td>no</td>\n      <td>cellular</td>\n      <td>20</td>\n      <td>may</td>\n      <td>123</td>\n      <td>1</td>\n      <td>-1</td>\n      <td>0</td>\n      <td>unknown</td>\n      <td>no</td>\n    </tr>\n    <tr>\n      <th>freq</th>\n      <td>231</td>\n      <td>969</td>\n      <td>2797</td>\n      <td>2306</td>\n      <td>4445</td>\n      <td>357</td>\n      <td>2559</td>\n      <td>3830</td>\n      <td>2896</td>\n      <td>257</td>\n      <td>1398</td>\n      <td>27</td>\n      <td>1734</td>\n      <td>3705</td>\n      <td>3705</td>\n      <td>3705</td>\n      <td>4000</td>\n    </tr>\n  </tbody>\n</table>\n</div>",
       "datasetInfos": [],
       "metadata": {},
       "removedWidgets": [],
       "textData": null,
       "type": "htmlSandbox"
      }
     },
     "output_type": "display_data"
    }
   ],
   "source": [
    "psdf.describe()"
   ]
  },
  {
   "cell_type": "markdown",
   "metadata": {
    "application/vnd.databricks.v1+cell": {
     "cellMetadata": {},
     "inputWidgets": {},
     "nuid": "c7e85015-5739-4f67-bd73-af23d1decf4c",
     "showTitle": false,
     "title": ""
    },
    "id": "8hdB0-gZ606D"
   },
   "source": [
    "6. The above result includes the columns that are categorical, so those columns don't have useful summary statistics. Let's inspect just the numeric features.\n",
    "\n",
    "    `numeric_features` is defined below to contain the column names of the numeric features.  Notice we use the `zip` functions to iterate through two lists at the same time!\n",
    "    \n",
    "    Filter the DataFrame as you would in pandas to select only the numeric features from the DataFrame and then get the summary statistics on the resulting DataFrame as we did above."
   ]
  },
  {
   "cell_type": "code",
   "execution_count": 0,
   "metadata": {
    "application/vnd.databricks.v1+cell": {
     "cellMetadata": {},
     "inputWidgets": {},
     "nuid": "5bf7d3c0-349f-45e7-ad29-27ef3934ac32",
     "showTitle": false,
     "title": ""
    }
   },
   "outputs": [],
   "source": [
    "'''\n",
    "the bank.csv only loaded strings..\n",
    "let's convert some of the features to int32\n",
    "'''\n",
    "psdf1 = psdf.astype({\"age\":\"int32\",\"balance\":\"int32\",\"day\":\"int32\",\"month\":\"int32\",\n",
    "                   \"duration\":\"int32\",\"previous\":\"int32\",\"pdays\":\"int32\",\"campaign\":\"int32\"})"
   ]
  },
  {
   "cell_type": "code",
   "execution_count": 0,
   "metadata": {
    "application/vnd.databricks.v1+cell": {
     "cellMetadata": {},
     "inputWidgets": {},
     "nuid": "95a02fe6-bf10-4867-9ddd-eeef8b015a5c",
     "showTitle": false,
     "title": ""
    }
   },
   "outputs": [
    {
     "data": {
      "text/html": [
       "<div>\n",
       "<style scoped>\n",
       "    .dataframe tbody tr th:only-of-type {\n",
       "        vertical-align: middle;\n",
       "    }\n",
       "\n",
       "    .dataframe tbody tr th {\n",
       "        vertical-align: top;\n",
       "    }\n",
       "\n",
       "    .dataframe thead th {\n",
       "        text-align: right;\n",
       "    }\n",
       "</style>\n",
       "<table border=\"1\" class=\"dataframe\">\n",
       "  <thead>\n",
       "    <tr style=\"text-align: right;\">\n",
       "      <th></th>\n",
       "      <th>age</th>\n",
       "      <th>job</th>\n",
       "      <th>marital</th>\n",
       "      <th>education</th>\n",
       "      <th>default</th>\n",
       "      <th>balance</th>\n",
       "      <th>housing</th>\n",
       "      <th>loan</th>\n",
       "      <th>contact</th>\n",
       "      <th>day</th>\n",
       "      <th>month</th>\n",
       "      <th>duration</th>\n",
       "      <th>campaign</th>\n",
       "      <th>pdays</th>\n",
       "      <th>previous</th>\n",
       "      <th>poutcome</th>\n",
       "      <th>y</th>\n",
       "    </tr>\n",
       "  </thead>\n",
       "  <tbody>\n",
       "    <tr>\n",
       "      <th>0</th>\n",
       "      <td>35</td>\n",
       "      <td>management</td>\n",
       "      <td>single</td>\n",
       "      <td>tertiary</td>\n",
       "      <td>no</td>\n",
       "      <td>1350</td>\n",
       "      <td>yes</td>\n",
       "      <td>no</td>\n",
       "      <td>cellular</td>\n",
       "      <td>16</td>\n",
       "      <td>NaN</td>\n",
       "      <td>185</td>\n",
       "      <td>1</td>\n",
       "      <td>330</td>\n",
       "      <td>1</td>\n",
       "      <td>failure</td>\n",
       "      <td>no</td>\n",
       "    </tr>\n",
       "    <tr>\n",
       "      <th>1</th>\n",
       "      <td>30</td>\n",
       "      <td>management</td>\n",
       "      <td>married</td>\n",
       "      <td>tertiary</td>\n",
       "      <td>no</td>\n",
       "      <td>1476</td>\n",
       "      <td>yes</td>\n",
       "      <td>yes</td>\n",
       "      <td>unknown</td>\n",
       "      <td>3</td>\n",
       "      <td>NaN</td>\n",
       "      <td>199</td>\n",
       "      <td>4</td>\n",
       "      <td>-1</td>\n",
       "      <td>0</td>\n",
       "      <td>unknown</td>\n",
       "      <td>no</td>\n",
       "    </tr>\n",
       "    <tr>\n",
       "      <th>2</th>\n",
       "      <td>35</td>\n",
       "      <td>management</td>\n",
       "      <td>single</td>\n",
       "      <td>tertiary</td>\n",
       "      <td>no</td>\n",
       "      <td>747</td>\n",
       "      <td>no</td>\n",
       "      <td>no</td>\n",
       "      <td>cellular</td>\n",
       "      <td>23</td>\n",
       "      <td>NaN</td>\n",
       "      <td>141</td>\n",
       "      <td>2</td>\n",
       "      <td>176</td>\n",
       "      <td>3</td>\n",
       "      <td>failure</td>\n",
       "      <td>no</td>\n",
       "    </tr>\n",
       "    <tr>\n",
       "      <th>3</th>\n",
       "      <td>40</td>\n",
       "      <td>management</td>\n",
       "      <td>married</td>\n",
       "      <td>tertiary</td>\n",
       "      <td>no</td>\n",
       "      <td>194</td>\n",
       "      <td>no</td>\n",
       "      <td>yes</td>\n",
       "      <td>cellular</td>\n",
       "      <td>29</td>\n",
       "      <td>NaN</td>\n",
       "      <td>189</td>\n",
       "      <td>2</td>\n",
       "      <td>-1</td>\n",
       "      <td>0</td>\n",
       "      <td>unknown</td>\n",
       "      <td>no</td>\n",
       "    </tr>\n",
       "    <tr>\n",
       "      <th>4</th>\n",
       "      <td>38</td>\n",
       "      <td>management</td>\n",
       "      <td>divorced</td>\n",
       "      <td>unknown</td>\n",
       "      <td>no</td>\n",
       "      <td>0</td>\n",
       "      <td>yes</td>\n",
       "      <td>no</td>\n",
       "      <td>cellular</td>\n",
       "      <td>18</td>\n",
       "      <td>NaN</td>\n",
       "      <td>96</td>\n",
       "      <td>2</td>\n",
       "      <td>-1</td>\n",
       "      <td>0</td>\n",
       "      <td>unknown</td>\n",
       "      <td>no</td>\n",
       "    </tr>\n",
       "  </tbody>\n",
       "</table>\n",
       "</div>"
      ]
     },
     "metadata": {
      "application/vnd.databricks.v1+output": {
       "addedWidgets": {},
       "arguments": {},
       "data": "<div>\n<style scoped>\n    .dataframe tbody tr th:only-of-type {\n        vertical-align: middle;\n    }\n\n    .dataframe tbody tr th {\n        vertical-align: top;\n    }\n\n    .dataframe thead th {\n        text-align: right;\n    }\n</style>\n<table border=\"1\" class=\"dataframe\">\n  <thead>\n    <tr style=\"text-align: right;\">\n      <th></th>\n      <th>age</th>\n      <th>job</th>\n      <th>marital</th>\n      <th>education</th>\n      <th>default</th>\n      <th>balance</th>\n      <th>housing</th>\n      <th>loan</th>\n      <th>contact</th>\n      <th>day</th>\n      <th>month</th>\n      <th>duration</th>\n      <th>campaign</th>\n      <th>pdays</th>\n      <th>previous</th>\n      <th>poutcome</th>\n      <th>y</th>\n    </tr>\n  </thead>\n  <tbody>\n    <tr>\n      <th>0</th>\n      <td>35</td>\n      <td>management</td>\n      <td>single</td>\n      <td>tertiary</td>\n      <td>no</td>\n      <td>1350</td>\n      <td>yes</td>\n      <td>no</td>\n      <td>cellular</td>\n      <td>16</td>\n      <td>NaN</td>\n      <td>185</td>\n      <td>1</td>\n      <td>330</td>\n      <td>1</td>\n      <td>failure</td>\n      <td>no</td>\n    </tr>\n    <tr>\n      <th>1</th>\n      <td>30</td>\n      <td>management</td>\n      <td>married</td>\n      <td>tertiary</td>\n      <td>no</td>\n      <td>1476</td>\n      <td>yes</td>\n      <td>yes</td>\n      <td>unknown</td>\n      <td>3</td>\n      <td>NaN</td>\n      <td>199</td>\n      <td>4</td>\n      <td>-1</td>\n      <td>0</td>\n      <td>unknown</td>\n      <td>no</td>\n    </tr>\n    <tr>\n      <th>2</th>\n      <td>35</td>\n      <td>management</td>\n      <td>single</td>\n      <td>tertiary</td>\n      <td>no</td>\n      <td>747</td>\n      <td>no</td>\n      <td>no</td>\n      <td>cellular</td>\n      <td>23</td>\n      <td>NaN</td>\n      <td>141</td>\n      <td>2</td>\n      <td>176</td>\n      <td>3</td>\n      <td>failure</td>\n      <td>no</td>\n    </tr>\n    <tr>\n      <th>3</th>\n      <td>40</td>\n      <td>management</td>\n      <td>married</td>\n      <td>tertiary</td>\n      <td>no</td>\n      <td>194</td>\n      <td>no</td>\n      <td>yes</td>\n      <td>cellular</td>\n      <td>29</td>\n      <td>NaN</td>\n      <td>189</td>\n      <td>2</td>\n      <td>-1</td>\n      <td>0</td>\n      <td>unknown</td>\n      <td>no</td>\n    </tr>\n    <tr>\n      <th>4</th>\n      <td>38</td>\n      <td>management</td>\n      <td>divorced</td>\n      <td>unknown</td>\n      <td>no</td>\n      <td>0</td>\n      <td>yes</td>\n      <td>no</td>\n      <td>cellular</td>\n      <td>18</td>\n      <td>NaN</td>\n      <td>96</td>\n      <td>2</td>\n      <td>-1</td>\n      <td>0</td>\n      <td>unknown</td>\n      <td>no</td>\n    </tr>\n  </tbody>\n</table>\n</div>",
       "datasetInfos": [],
       "metadata": {},
       "removedWidgets": [],
       "textData": null,
       "type": "htmlSandbox"
      }
     },
     "output_type": "display_data"
    }
   ],
   "source": [
    "psdf1.head()"
   ]
  },
  {
   "cell_type": "code",
   "execution_count": 0,
   "metadata": {
    "application/vnd.databricks.v1+cell": {
     "cellMetadata": {},
     "inputWidgets": {},
     "nuid": "50c25e63-e62b-4ce7-b963-e20c3c0d5060",
     "showTitle": false,
     "title": ""
    }
   },
   "outputs": [
    {
     "data": {
      "text/plain": [
       "Out[110]: age           int32\n",
       "job          object\n",
       "marital      object\n",
       "education    object\n",
       "default      object\n",
       "balance       int32\n",
       "housing      object\n",
       "loan         object\n",
       "contact      object\n",
       "day           int32\n",
       "month         int32\n",
       "duration      int32\n",
       "campaign      int32\n",
       "pdays         int32\n",
       "previous      int32\n",
       "poutcome     object\n",
       "y            object\n",
       "dtype: object"
      ]
     },
     "metadata": {
      "application/vnd.databricks.v1+output": {
       "addedWidgets": {},
       "arguments": {},
       "data": "Out[110]: age           int32\njob          object\nmarital      object\neducation    object\ndefault      object\nbalance       int32\nhousing      object\nloan         object\ncontact      object\nday           int32\nmonth         int32\nduration      int32\ncampaign      int32\npdays         int32\nprevious      int32\npoutcome     object\ny            object\ndtype: object",
       "datasetInfos": [],
       "metadata": {},
       "removedWidgets": [],
       "type": "ansi"
      }
     },
     "output_type": "display_data"
    }
   ],
   "source": [
    "psdf1.dtypes"
   ]
  },
  {
   "cell_type": "code",
   "execution_count": 0,
   "metadata": {
    "application/vnd.databricks.v1+cell": {
     "cellMetadata": {},
     "inputWidgets": {},
     "nuid": "b843ce9c-92bb-4e45-b54a-4fea20d7e5d7",
     "showTitle": false,
     "title": ""
    },
    "colab": {
     "base_uri": "https://localhost:8080/",
     "height": 291
    },
    "id": "xP4uY29z606E",
    "outputId": "8fbfb144-ab13-41be-f43e-1137c256b5d8"
   },
   "outputs": [
    {
     "data": {
      "text/html": [
       "<div>\n",
       "<style scoped>\n",
       "    .dataframe tbody tr th:only-of-type {\n",
       "        vertical-align: middle;\n",
       "    }\n",
       "\n",
       "    .dataframe tbody tr th {\n",
       "        vertical-align: top;\n",
       "    }\n",
       "\n",
       "    .dataframe thead th {\n",
       "        text-align: right;\n",
       "    }\n",
       "</style>\n",
       "<table border=\"1\" class=\"dataframe\">\n",
       "  <thead>\n",
       "    <tr style=\"text-align: right;\">\n",
       "      <th></th>\n",
       "      <th>age</th>\n",
       "      <th>balance</th>\n",
       "      <th>day</th>\n",
       "      <th>month</th>\n",
       "      <th>duration</th>\n",
       "      <th>campaign</th>\n",
       "      <th>pdays</th>\n",
       "      <th>previous</th>\n",
       "    </tr>\n",
       "  </thead>\n",
       "  <tbody>\n",
       "    <tr>\n",
       "      <th>count</th>\n",
       "      <td>4521.000000</td>\n",
       "      <td>4521.000000</td>\n",
       "      <td>4521.000000</td>\n",
       "      <td>0.0</td>\n",
       "      <td>4521.000000</td>\n",
       "      <td>4521.000000</td>\n",
       "      <td>4521.000000</td>\n",
       "      <td>4521.000000</td>\n",
       "    </tr>\n",
       "    <tr>\n",
       "      <th>mean</th>\n",
       "      <td>41.170095</td>\n",
       "      <td>1422.657819</td>\n",
       "      <td>15.915284</td>\n",
       "      <td>NaN</td>\n",
       "      <td>263.961292</td>\n",
       "      <td>2.793630</td>\n",
       "      <td>39.766645</td>\n",
       "      <td>0.542579</td>\n",
       "    </tr>\n",
       "    <tr>\n",
       "      <th>std</th>\n",
       "      <td>10.576211</td>\n",
       "      <td>3009.638142</td>\n",
       "      <td>8.247667</td>\n",
       "      <td>NaN</td>\n",
       "      <td>259.856633</td>\n",
       "      <td>3.109807</td>\n",
       "      <td>100.121124</td>\n",
       "      <td>1.693562</td>\n",
       "    </tr>\n",
       "    <tr>\n",
       "      <th>min</th>\n",
       "      <td>19.000000</td>\n",
       "      <td>-3313.000000</td>\n",
       "      <td>1.000000</td>\n",
       "      <td>NaN</td>\n",
       "      <td>4.000000</td>\n",
       "      <td>1.000000</td>\n",
       "      <td>-1.000000</td>\n",
       "      <td>0.000000</td>\n",
       "    </tr>\n",
       "    <tr>\n",
       "      <th>25%</th>\n",
       "      <td>33.000000</td>\n",
       "      <td>69.000000</td>\n",
       "      <td>9.000000</td>\n",
       "      <td>NaN</td>\n",
       "      <td>104.000000</td>\n",
       "      <td>1.000000</td>\n",
       "      <td>-1.000000</td>\n",
       "      <td>0.000000</td>\n",
       "    </tr>\n",
       "    <tr>\n",
       "      <th>50%</th>\n",
       "      <td>39.000000</td>\n",
       "      <td>444.000000</td>\n",
       "      <td>16.000000</td>\n",
       "      <td>NaN</td>\n",
       "      <td>185.000000</td>\n",
       "      <td>2.000000</td>\n",
       "      <td>-1.000000</td>\n",
       "      <td>0.000000</td>\n",
       "    </tr>\n",
       "    <tr>\n",
       "      <th>75%</th>\n",
       "      <td>49.000000</td>\n",
       "      <td>1480.000000</td>\n",
       "      <td>21.000000</td>\n",
       "      <td>NaN</td>\n",
       "      <td>329.000000</td>\n",
       "      <td>3.000000</td>\n",
       "      <td>-1.000000</td>\n",
       "      <td>0.000000</td>\n",
       "    </tr>\n",
       "    <tr>\n",
       "      <th>max</th>\n",
       "      <td>87.000000</td>\n",
       "      <td>71188.000000</td>\n",
       "      <td>31.000000</td>\n",
       "      <td>NaN</td>\n",
       "      <td>3025.000000</td>\n",
       "      <td>50.000000</td>\n",
       "      <td>871.000000</td>\n",
       "      <td>25.000000</td>\n",
       "    </tr>\n",
       "  </tbody>\n",
       "</table>\n",
       "</div>"
      ]
     },
     "metadata": {
      "application/vnd.databricks.v1+output": {
       "addedWidgets": {},
       "arguments": {},
       "data": "<div>\n<style scoped>\n    .dataframe tbody tr th:only-of-type {\n        vertical-align: middle;\n    }\n\n    .dataframe tbody tr th {\n        vertical-align: top;\n    }\n\n    .dataframe thead th {\n        text-align: right;\n    }\n</style>\n<table border=\"1\" class=\"dataframe\">\n  <thead>\n    <tr style=\"text-align: right;\">\n      <th></th>\n      <th>age</th>\n      <th>balance</th>\n      <th>day</th>\n      <th>month</th>\n      <th>duration</th>\n      <th>campaign</th>\n      <th>pdays</th>\n      <th>previous</th>\n    </tr>\n  </thead>\n  <tbody>\n    <tr>\n      <th>count</th>\n      <td>4521.000000</td>\n      <td>4521.000000</td>\n      <td>4521.000000</td>\n      <td>0.0</td>\n      <td>4521.000000</td>\n      <td>4521.000000</td>\n      <td>4521.000000</td>\n      <td>4521.000000</td>\n    </tr>\n    <tr>\n      <th>mean</th>\n      <td>41.170095</td>\n      <td>1422.657819</td>\n      <td>15.915284</td>\n      <td>NaN</td>\n      <td>263.961292</td>\n      <td>2.793630</td>\n      <td>39.766645</td>\n      <td>0.542579</td>\n    </tr>\n    <tr>\n      <th>std</th>\n      <td>10.576211</td>\n      <td>3009.638142</td>\n      <td>8.247667</td>\n      <td>NaN</td>\n      <td>259.856633</td>\n      <td>3.109807</td>\n      <td>100.121124</td>\n      <td>1.693562</td>\n    </tr>\n    <tr>\n      <th>min</th>\n      <td>19.000000</td>\n      <td>-3313.000000</td>\n      <td>1.000000</td>\n      <td>NaN</td>\n      <td>4.000000</td>\n      <td>1.000000</td>\n      <td>-1.000000</td>\n      <td>0.000000</td>\n    </tr>\n    <tr>\n      <th>25%</th>\n      <td>33.000000</td>\n      <td>69.000000</td>\n      <td>9.000000</td>\n      <td>NaN</td>\n      <td>104.000000</td>\n      <td>1.000000</td>\n      <td>-1.000000</td>\n      <td>0.000000</td>\n    </tr>\n    <tr>\n      <th>50%</th>\n      <td>39.000000</td>\n      <td>444.000000</td>\n      <td>16.000000</td>\n      <td>NaN</td>\n      <td>185.000000</td>\n      <td>2.000000</td>\n      <td>-1.000000</td>\n      <td>0.000000</td>\n    </tr>\n    <tr>\n      <th>75%</th>\n      <td>49.000000</td>\n      <td>1480.000000</td>\n      <td>21.000000</td>\n      <td>NaN</td>\n      <td>329.000000</td>\n      <td>3.000000</td>\n      <td>-1.000000</td>\n      <td>0.000000</td>\n    </tr>\n    <tr>\n      <th>max</th>\n      <td>87.000000</td>\n      <td>71188.000000</td>\n      <td>31.000000</td>\n      <td>NaN</td>\n      <td>3025.000000</td>\n      <td>50.000000</td>\n      <td>871.000000</td>\n      <td>25.000000</td>\n    </tr>\n  </tbody>\n</table>\n</div>",
       "datasetInfos": [],
       "metadata": {},
       "removedWidgets": [],
       "textData": null,
       "type": "htmlSandbox"
      }
     },
     "output_type": "display_data"
    }
   ],
   "source": [
    "col_names = [name for name in psdf1.dtypes.index]\n",
    "dtypes = [dtype for dtype in psdf1.dtypes.tolist()]\n",
    "\n",
    "numeric_features = [name for name, dtype in zip(col_names, dtypes) if dtype == 'int32']\n",
    "psdf1[numeric_features].describe()"
   ]
  },
  {
   "cell_type": "markdown",
   "metadata": {
    "application/vnd.databricks.v1+cell": {
     "cellMetadata": {},
     "inputWidgets": {},
     "nuid": "72534767-044a-417d-957c-ab26679b103d",
     "showTitle": false,
     "title": ""
    },
    "id": "gOBPcOPe606E"
   },
   "source": [
    "7. Run the following code to look at correlation between the numeric features.  Let's convert our Pandas on Spark DataFrame to a Pandas DataFrame using the `to_pandas()` command. This will enable us to plot the data.  What do you see?"
   ]
  },
  {
   "cell_type": "code",
   "execution_count": 0,
   "metadata": {
    "application/vnd.databricks.v1+cell": {
     "cellMetadata": {},
     "inputWidgets": {},
     "nuid": "1cfda4ef-8aa3-4f69-8ca8-101d11f17e8e",
     "showTitle": false,
     "title": ""
    },
    "colab": {
     "base_uri": "https://localhost:8080/",
     "height": 571
    },
    "id": "_3iYP4Ma606E",
    "outputId": "f719637a-43b2-4817-99b1-3293e5875b4a"
   },
   "outputs": [
    {
     "data": {
      "text/plain": [
       "\u001b[0;31m---------------------------------------------------------------------------\u001b[0m\n",
       "\u001b[0;31mAttributeError\u001b[0m                            Traceback (most recent call last)\n",
       "File \u001b[0;32m<command-1665095427324476>:4\u001b[0m\n",
       "\u001b[1;32m      1\u001b[0m \u001b[38;5;66;03m# Convert Pandas on Spark DataFrame to Spark DataFrame\u001b[39;00m\n",
       "\u001b[1;32m      2\u001b[0m numeric_data \u001b[38;5;241m=\u001b[39m psdf1[numeric_features]\u001b[38;5;241m.\u001b[39mto_pandas()\n",
       "\u001b[0;32m----> 4\u001b[0m axs \u001b[38;5;241m=\u001b[39m pd\u001b[38;5;241m.\u001b[39mscatter_matrix(numeric_data, figsize\u001b[38;5;241m=\u001b[39m(\u001b[38;5;241m8\u001b[39m, \u001b[38;5;241m8\u001b[39m));\n",
       "\u001b[1;32m      5\u001b[0m n \u001b[38;5;241m=\u001b[39m \u001b[38;5;28mlen\u001b[39m(numeric_data\u001b[38;5;241m.\u001b[39mcolumns)\n",
       "\u001b[1;32m      7\u001b[0m \u001b[38;5;28;01mfor\u001b[39;00m i \u001b[38;5;129;01min\u001b[39;00m \u001b[38;5;28mrange\u001b[39m(n):\n",
       "\n",
       "File \u001b[0;32m/databricks/python/lib/python3.9/site-packages/pandas/__init__.py:261\u001b[0m, in \u001b[0;36m__getattr__\u001b[0;34m(name)\u001b[0m\n",
       "\u001b[1;32m    257\u001b[0m     \u001b[38;5;28;01mfrom\u001b[39;00m \u001b[38;5;21;01mpandas\u001b[39;00m\u001b[38;5;21;01m.\u001b[39;00m\u001b[38;5;21;01mcore\u001b[39;00m\u001b[38;5;21;01m.\u001b[39;00m\u001b[38;5;21;01marrays\u001b[39;00m\u001b[38;5;21;01m.\u001b[39;00m\u001b[38;5;21;01msparse\u001b[39;00m \u001b[38;5;28;01mimport\u001b[39;00m SparseArray \u001b[38;5;28;01mas\u001b[39;00m _SparseArray\n",
       "\u001b[1;32m    259\u001b[0m     \u001b[38;5;28;01mreturn\u001b[39;00m _SparseArray\n",
       "\u001b[0;32m--> 261\u001b[0m \u001b[38;5;28;01mraise\u001b[39;00m \u001b[38;5;167;01mAttributeError\u001b[39;00m(\u001b[38;5;124mf\u001b[39m\u001b[38;5;124m\"\u001b[39m\u001b[38;5;124mmodule \u001b[39m\u001b[38;5;124m'\u001b[39m\u001b[38;5;124mpandas\u001b[39m\u001b[38;5;124m'\u001b[39m\u001b[38;5;124m has no attribute \u001b[39m\u001b[38;5;124m'\u001b[39m\u001b[38;5;132;01m{\u001b[39;00mname\u001b[38;5;132;01m}\u001b[39;00m\u001b[38;5;124m'\u001b[39m\u001b[38;5;124m\"\u001b[39m)\n",
       "\n",
       "\u001b[0;31mAttributeError\u001b[0m: module 'pandas' has no attribute 'scatter_matrix'"
      ]
     },
     "metadata": {
      "application/vnd.databricks.v1+output": {
       "arguments": {},
       "data": "\u001b[0;31m---------------------------------------------------------------------------\u001b[0m\n\u001b[0;31mAttributeError\u001b[0m                            Traceback (most recent call last)\nFile \u001b[0;32m<command-1665095427324476>:4\u001b[0m\n\u001b[1;32m      1\u001b[0m \u001b[38;5;66;03m# Convert Pandas on Spark DataFrame to Spark DataFrame\u001b[39;00m\n\u001b[1;32m      2\u001b[0m numeric_data \u001b[38;5;241m=\u001b[39m psdf1[numeric_features]\u001b[38;5;241m.\u001b[39mto_pandas()\n\u001b[0;32m----> 4\u001b[0m axs \u001b[38;5;241m=\u001b[39m pd\u001b[38;5;241m.\u001b[39mscatter_matrix(numeric_data, figsize\u001b[38;5;241m=\u001b[39m(\u001b[38;5;241m8\u001b[39m, \u001b[38;5;241m8\u001b[39m));\n\u001b[1;32m      5\u001b[0m n \u001b[38;5;241m=\u001b[39m \u001b[38;5;28mlen\u001b[39m(numeric_data\u001b[38;5;241m.\u001b[39mcolumns)\n\u001b[1;32m      7\u001b[0m \u001b[38;5;28;01mfor\u001b[39;00m i \u001b[38;5;129;01min\u001b[39;00m \u001b[38;5;28mrange\u001b[39m(n):\n\nFile \u001b[0;32m/databricks/python/lib/python3.9/site-packages/pandas/__init__.py:261\u001b[0m, in \u001b[0;36m__getattr__\u001b[0;34m(name)\u001b[0m\n\u001b[1;32m    257\u001b[0m     \u001b[38;5;28;01mfrom\u001b[39;00m \u001b[38;5;21;01mpandas\u001b[39;00m\u001b[38;5;21;01m.\u001b[39;00m\u001b[38;5;21;01mcore\u001b[39;00m\u001b[38;5;21;01m.\u001b[39;00m\u001b[38;5;21;01marrays\u001b[39;00m\u001b[38;5;21;01m.\u001b[39;00m\u001b[38;5;21;01msparse\u001b[39;00m \u001b[38;5;28;01mimport\u001b[39;00m SparseArray \u001b[38;5;28;01mas\u001b[39;00m _SparseArray\n\u001b[1;32m    259\u001b[0m     \u001b[38;5;28;01mreturn\u001b[39;00m _SparseArray\n\u001b[0;32m--> 261\u001b[0m \u001b[38;5;28;01mraise\u001b[39;00m \u001b[38;5;167;01mAttributeError\u001b[39;00m(\u001b[38;5;124mf\u001b[39m\u001b[38;5;124m\"\u001b[39m\u001b[38;5;124mmodule \u001b[39m\u001b[38;5;124m'\u001b[39m\u001b[38;5;124mpandas\u001b[39m\u001b[38;5;124m'\u001b[39m\u001b[38;5;124m has no attribute \u001b[39m\u001b[38;5;124m'\u001b[39m\u001b[38;5;132;01m{\u001b[39;00mname\u001b[38;5;132;01m}\u001b[39;00m\u001b[38;5;124m'\u001b[39m\u001b[38;5;124m\"\u001b[39m)\n\n\u001b[0;31mAttributeError\u001b[0m: module 'pandas' has no attribute 'scatter_matrix'",
       "errorSummary": "<span class='ansi-red-fg'>AttributeError</span>: module 'pandas' has no attribute 'scatter_matrix'",
       "errorTraceType": "ansi",
       "metadata": {},
       "type": "ipynbError"
      }
     },
     "output_type": "display_data"
    }
   ],
   "source": [
    "# Convert Pandas on Spark DataFrame to Spark DataFrame\n",
    "numeric_data = psdf1[numeric_features].to_pandas()\n",
    "\n",
    "axs = pd.scatter_matrix(numeric_data, figsize=(8, 8));\n",
    "n = len(numeric_data.columns)\n",
    "\n",
    "for i in range(n):\n",
    "    v = axs[i, 0]\n",
    "    v.yaxis.label.set_rotation(0)\n",
    "    v.yaxis.label.set_ha('right')\n",
    "    v.set_yticks(())\n",
    "    h = axs[n - 1, i]\n",
    "    h.xaxis.label.set_rotation(90)\n",
    "    h.set_xticks(())"
   ]
  },
  {
   "cell_type": "markdown",
   "metadata": {
    "application/vnd.databricks.v1+cell": {
     "cellMetadata": {},
     "inputWidgets": {},
     "nuid": "79d455fa-6ee2-4de6-b055-fece294607d9",
     "showTitle": false,
     "title": ""
    },
    "id": "oqJ0UpN7606E"
   },
   "source": [
    "There aren't any highly correlated variables, implying that we can keep them all for the model. However, day and month columns are not really useful, so will remove these two columns.\n",
    "\n",
    "8. Use the `.drop()` method to remove the `month` and `day` columns.\n",
    "    \n",
    "    Note that this method returns a new DataFrame, so save that result as `sdf`.\n",
    "\n",
    "    Use the `.dtypes` method to verify that `sdf` now has the correct columns."
   ]
  },
  {
   "cell_type": "code",
   "execution_count": 0,
   "metadata": {
    "application/vnd.databricks.v1+cell": {
     "cellMetadata": {},
     "inputWidgets": {},
     "nuid": "adef7a84-4270-4108-9849-ef699d0d7541",
     "showTitle": false,
     "title": ""
    },
    "colab": {
     "base_uri": "https://localhost:8080/"
    },
    "id": "BBiC1jtR606F",
    "outputId": "22b40379-bf5e-47a0-b338-5e936d58109b"
   },
   "outputs": [
    {
     "data": {
      "text/plain": [
       "Out[113]: age           int32\n",
       "job          object\n",
       "marital      object\n",
       "education    object\n",
       "default      object\n",
       "balance       int32\n",
       "housing      object\n",
       "loan         object\n",
       "contact      object\n",
       "day           int32\n",
       "month         int32\n",
       "duration      int32\n",
       "campaign      int32\n",
       "pdays         int32\n",
       "previous      int32\n",
       "poutcome     object\n",
       "y            object\n",
       "dtype: object"
      ]
     },
     "metadata": {
      "application/vnd.databricks.v1+output": {
       "addedWidgets": {},
       "arguments": {},
       "data": "Out[113]: age           int32\njob          object\nmarital      object\neducation    object\ndefault      object\nbalance       int32\nhousing      object\nloan         object\ncontact      object\nday           int32\nmonth         int32\nduration      int32\ncampaign      int32\npdays         int32\nprevious      int32\npoutcome     object\ny            object\ndtype: object",
       "datasetInfos": [],
       "metadata": {},
       "removedWidgets": [],
       "type": "ansi"
      }
     },
     "output_type": "display_data"
    }
   ],
   "source": [
    "psdf1.dtypes"
   ]
  },
  {
   "cell_type": "code",
   "execution_count": 0,
   "metadata": {
    "application/vnd.databricks.v1+cell": {
     "cellMetadata": {},
     "inputWidgets": {},
     "nuid": "4ac8bab5-101a-419e-b7b8-aa59fa14681e",
     "showTitle": false,
     "title": ""
    }
   },
   "outputs": [],
   "source": [
    "sdf = psdf1.drop(columns=['day','month'],axis=1)"
   ]
  },
  {
   "cell_type": "code",
   "execution_count": 0,
   "metadata": {
    "application/vnd.databricks.v1+cell": {
     "cellMetadata": {},
     "inputWidgets": {},
     "nuid": "aa80e5b0-21a4-4fbf-8461-ef24aa9ed18c",
     "showTitle": false,
     "title": ""
    }
   },
   "outputs": [
    {
     "data": {
      "text/plain": [
       "Out[115]: age           int32\n",
       "job          object\n",
       "marital      object\n",
       "education    object\n",
       "default      object\n",
       "balance       int32\n",
       "housing      object\n",
       "loan         object\n",
       "contact      object\n",
       "duration      int32\n",
       "campaign      int32\n",
       "pdays         int32\n",
       "previous      int32\n",
       "poutcome     object\n",
       "y            object\n",
       "dtype: object"
      ]
     },
     "metadata": {
      "application/vnd.databricks.v1+output": {
       "addedWidgets": {},
       "arguments": {},
       "data": "Out[115]: age           int32\njob          object\nmarital      object\neducation    object\ndefault      object\nbalance       int32\nhousing      object\nloan         object\ncontact      object\nduration      int32\ncampaign      int32\npdays         int32\nprevious      int32\npoutcome     object\ny            object\ndtype: object",
       "datasetInfos": [],
       "metadata": {},
       "removedWidgets": [],
       "type": "ansi"
      }
     },
     "output_type": "display_data"
    }
   ],
   "source": [
    "sdf.dtypes"
   ]
  },
  {
   "cell_type": "markdown",
   "metadata": {
    "application/vnd.databricks.v1+cell": {
     "cellMetadata": {},
     "inputWidgets": {},
     "nuid": "dc7c7c08-3090-4609-b0b3-a5ffa6be0981",
     "showTitle": false,
     "title": ""
    },
    "id": "NaVpHgTy606F"
   },
   "source": [
    "## Part 3: Preparing Data for Training a Model\n",
    "\n",
    "What follows is something analagous to a dataloader pipeline in Tensorflow--we're going to chain together some transformations that will convert our categorical variables into a one-hot format more amenable to training a machine learning model. \n",
    "The next code cell just sets this all up, but it doesn't run these transformations on our data yet."
   ]
  },
  {
   "cell_type": "markdown",
   "metadata": {
    "application/vnd.databricks.v1+cell": {
     "cellMetadata": {},
     "inputWidgets": {},
     "nuid": "72e6e744-d740-4365-b02a-cec38e4b0779",
     "showTitle": false,
     "title": ""
    },
    "id": "gO45xEZ9606F"
   },
   "source": [
    "The process includes Category Indexing, One-Hot Encoding and VectorAssembler — a feature transformation that merges multiple columns into a vector column."
   ]
  },
  {
   "cell_type": "markdown",
   "metadata": {
    "application/vnd.databricks.v1+cell": {
     "cellMetadata": {},
     "inputWidgets": {},
     "nuid": "c20c43bc-899c-46fd-8cd8-68f7faddd8b9",
     "showTitle": false,
     "title": ""
    },
    "id": "TIBGTMSU606G"
   },
   "source": [
    "The code is taken from [databricks’ official site](https://docs.databricks.com/applications/machine-learning/train-model/mllib/index.html#binary-classification-example) and it indexes each categorical column using the StringIndexer, then converts the indexed categories into one-hot encoded variables. \n",
    "The resulting output has the binary vectors appended to the end of each row. \n",
    "We use the StringIndexer again to encode our labels to label indices. \n",
    "Next, we use the VectorAssembler to combine all the feature columns into a single vector column."
   ]
  },
  {
   "cell_type": "markdown",
   "metadata": {
    "application/vnd.databricks.v1+cell": {
     "cellMetadata": {},
     "inputWidgets": {},
     "nuid": "e588fd56-5dcb-42b2-b6da-3a61fa85ed3c",
     "showTitle": false,
     "title": ""
    },
    "id": "q5Zs_fki606G"
   },
   "source": [
    "1. Complete the code by completing the assignment of `assembler`. Use `VectorAssembler` and pass in `assemblerInputs` as `inputCols` and name the `outputCol` `\"features\"`."
   ]
  },
  {
   "cell_type": "code",
   "execution_count": 0,
   "metadata": {
    "application/vnd.databricks.v1+cell": {
     "cellMetadata": {},
     "inputWidgets": {},
     "nuid": "2f4b6f3b-a25b-4c93-ae7b-d9fcf8d451df",
     "showTitle": false,
     "title": ""
    },
    "id": "beyBChtD606G"
   },
   "outputs": [],
   "source": [
    "from pyspark.ml.feature import OneHotEncoder , StringIndexer, VectorAssembler\n",
    "\n",
    "categoricalColumns = ['job', 'marital', 'education', 'default', 'housing', 'loan', 'contact', 'poutcome']\n",
    "stages = []\n",
    "\n",
    "for categoricalCol in categoricalColumns:\n",
    "    stringIndexer = StringIndexer(inputCol = categoricalCol, outputCol = categoricalCol + 'Index')\n",
    "    encoder = OneHotEncoder(inputCols=[stringIndexer.getOutputCol()], outputCols=[categoricalCol + \"classVec\"])\n",
    "    stages += [stringIndexer, encoder]\n",
    "\n",
    "label_stringIdx = StringIndexer(inputCol = 'y', outputCol = 'label')\n",
    "stages += [label_stringIdx]\n",
    "numericCols = ['age', 'balance', 'duration', 'campaign', 'pdays', 'previous']\n",
    "assemblerInputs = [c + \"classVec\" for c in categoricalColumns] + numericCols\n",
    "assembler = VectorAssembler(inputCols = assemblerInputs, outputCol = \"features\")# [YOUR CODE HERE]\n",
    "stages += [assembler]"
   ]
  },
  {
   "cell_type": "code",
   "execution_count": 0,
   "metadata": {
    "application/vnd.databricks.v1+cell": {
     "cellMetadata": {},
     "inputWidgets": {},
     "nuid": "a2a14213-81db-4118-8805-43066016aee8",
     "showTitle": false,
     "title": ""
    }
   },
   "outputs": [
    {
     "data": {
      "text/plain": [
       "Out[117]: [StringIndexer_b9ddc8c7b389,\n",
       " OneHotEncoder_fb8f59141756,\n",
       " StringIndexer_d59f4a50f98c,\n",
       " OneHotEncoder_93023ac6f549,\n",
       " StringIndexer_e5445bf93522,\n",
       " OneHotEncoder_0ff4f213cab1,\n",
       " StringIndexer_ad30e300b101,\n",
       " OneHotEncoder_1849c81384fc,\n",
       " StringIndexer_19d5239fa488,\n",
       " OneHotEncoder_fcfbb77bc0ed,\n",
       " StringIndexer_c0029498a414,\n",
       " OneHotEncoder_39f7ed5e70eb,\n",
       " StringIndexer_85526a42ac98,\n",
       " OneHotEncoder_0f4a02fbd12e,\n",
       " StringIndexer_f4527a52409a,\n",
       " OneHotEncoder_16aaf1fe701f,\n",
       " StringIndexer_29953bdb7038,\n",
       " VectorAssembler_91bba379a1ef]"
      ]
     },
     "metadata": {
      "application/vnd.databricks.v1+output": {
       "addedWidgets": {},
       "arguments": {},
       "data": "Out[117]: [StringIndexer_b9ddc8c7b389,\n OneHotEncoder_fb8f59141756,\n StringIndexer_d59f4a50f98c,\n OneHotEncoder_93023ac6f549,\n StringIndexer_e5445bf93522,\n OneHotEncoder_0ff4f213cab1,\n StringIndexer_ad30e300b101,\n OneHotEncoder_1849c81384fc,\n StringIndexer_19d5239fa488,\n OneHotEncoder_fcfbb77bc0ed,\n StringIndexer_c0029498a414,\n OneHotEncoder_39f7ed5e70eb,\n StringIndexer_85526a42ac98,\n OneHotEncoder_0f4a02fbd12e,\n StringIndexer_f4527a52409a,\n OneHotEncoder_16aaf1fe701f,\n StringIndexer_29953bdb7038,\n VectorAssembler_91bba379a1ef]",
       "datasetInfos": [],
       "metadata": {},
       "removedWidgets": [],
       "type": "ansi"
      }
     },
     "output_type": "display_data"
    }
   ],
   "source": [
    "stages # couple for label, age, balance, duration, campaign, pdays, previous,features?"
   ]
  },
  {
   "cell_type": "markdown",
   "metadata": {
    "application/vnd.databricks.v1+cell": {
     "cellMetadata": {},
     "inputWidgets": {},
     "nuid": "0a430a65-f90a-4941-8476-7497416dd0b8",
     "showTitle": false,
     "title": ""
    },
    "id": "gsTuJQBk606G"
   },
   "source": [
    "## Part 4: Pipeline"
   ]
  },
  {
   "cell_type": "markdown",
   "metadata": {
    "application/vnd.databricks.v1+cell": {
     "cellMetadata": {},
     "inputWidgets": {},
     "nuid": "e6191ae8-826c-405c-835b-85ccde4ed00d",
     "showTitle": false,
     "title": ""
    },
    "id": "mDNzrSSr606H"
   },
   "source": [
    "We use Pipeline to chain multiple transformations and estimators together to specify our machine learning workflow. \n",
    "A Pipeline’s stages are specified as an ordered array.  \n",
    "To run the pipeline on our Pandas on Spark DataFrame, we will convert it back to a Spark DataFrame using the **`to_spark()`** command\n",
    "\n",
    "1. Fit a pipeline on df."
   ]
  },
  {
   "cell_type": "code",
   "execution_count": 0,
   "metadata": {
    "application/vnd.databricks.v1+cell": {
     "cellMetadata": {},
     "inputWidgets": {},
     "nuid": "47f46c87-ed5e-425d-bf78-16a63b4b80b3",
     "showTitle": false,
     "title": ""
    }
   },
   "outputs": [],
   "source": [
    "from pyspark.ml import Pipeline\n",
    "sdf = sdf.to_spark()\n",
    "pipeline = Pipeline(stages=stages)\n",
    "\n",
    "pipelineModel = pipeline.fit(sdf)# [YOUR CODE HERE]"
   ]
  },
  {
   "cell_type": "markdown",
   "metadata": {
    "application/vnd.databricks.v1+cell": {
     "cellMetadata": {},
     "inputWidgets": {},
     "nuid": "6f617899-f82a-46eb-be95-f3af6ead8755",
     "showTitle": false,
     "title": ""
    },
    "id": "FN6xXah5606H"
   },
   "source": [
    "2. Transform `pipelineModel` on `df` and assign this to variable `transformed_df`."
   ]
  },
  {
   "cell_type": "code",
   "execution_count": 0,
   "metadata": {
    "application/vnd.databricks.v1+cell": {
     "cellMetadata": {},
     "inputWidgets": {},
     "nuid": "af28f2a8-e0ab-4bdb-a88d-e4ea4666588b",
     "showTitle": false,
     "title": ""
    },
    "colab": {
     "base_uri": "https://localhost:8080/"
    },
    "id": "QTsKIGt1606H",
    "outputId": "d42b5902-4ac8-4e97-80ab-1d29f4753250"
   },
   "outputs": [
    {
     "data": {
      "text/plain": [
       "root\n",
       " |-- age: integer (nullable = true)\n",
       " |-- job: string (nullable = true)\n",
       " |-- marital: string (nullable = true)\n",
       " |-- education: string (nullable = true)\n",
       " |-- default: string (nullable = true)\n",
       " |-- balance: integer (nullable = true)\n",
       " |-- housing: string (nullable = true)\n",
       " |-- loan: string (nullable = true)\n",
       " |-- contact: string (nullable = true)\n",
       " |-- duration: integer (nullable = true)\n",
       " |-- campaign: integer (nullable = true)\n",
       " |-- pdays: integer (nullable = true)\n",
       " |-- previous: integer (nullable = true)\n",
       " |-- poutcome: string (nullable = true)\n",
       " |-- y: string (nullable = true)\n",
       " |-- jobIndex: double (nullable = false)\n",
       " |-- jobclassVec: vector (nullable = true)\n",
       " |-- maritalIndex: double (nullable = false)\n",
       " |-- maritalclassVec: vector (nullable = true)\n",
       " |-- educationIndex: double (nullable = false)\n",
       " |-- educationclassVec: vector (nullable = true)\n",
       " |-- defaultIndex: double (nullable = false)\n",
       " |-- defaultclassVec: vector (nullable = true)\n",
       " |-- housingIndex: double (nullable = false)\n",
       " |-- housingclassVec: vector (nullable = true)\n",
       " |-- loanIndex: double (nullable = false)\n",
       " |-- loanclassVec: vector (nullable = true)\n",
       " |-- contactIndex: double (nullable = false)\n",
       " |-- contactclassVec: vector (nullable = true)\n",
       " |-- poutcomeIndex: double (nullable = false)\n",
       " |-- poutcomeclassVec: vector (nullable = true)\n",
       " |-- label: double (nullable = false)\n",
       " |-- features: vector (nullable = true)\n",
       "\n"
      ]
     },
     "metadata": {
      "application/vnd.databricks.v1+output": {
       "addedWidgets": {},
       "arguments": {},
       "data": "root\n |-- age: integer (nullable = true)\n |-- job: string (nullable = true)\n |-- marital: string (nullable = true)\n |-- education: string (nullable = true)\n |-- default: string (nullable = true)\n |-- balance: integer (nullable = true)\n |-- housing: string (nullable = true)\n |-- loan: string (nullable = true)\n |-- contact: string (nullable = true)\n |-- duration: integer (nullable = true)\n |-- campaign: integer (nullable = true)\n |-- pdays: integer (nullable = true)\n |-- previous: integer (nullable = true)\n |-- poutcome: string (nullable = true)\n |-- y: string (nullable = true)\n |-- jobIndex: double (nullable = false)\n |-- jobclassVec: vector (nullable = true)\n |-- maritalIndex: double (nullable = false)\n |-- maritalclassVec: vector (nullable = true)\n |-- educationIndex: double (nullable = false)\n |-- educationclassVec: vector (nullable = true)\n |-- defaultIndex: double (nullable = false)\n |-- defaultclassVec: vector (nullable = true)\n |-- housingIndex: double (nullable = false)\n |-- housingclassVec: vector (nullable = true)\n |-- loanIndex: double (nullable = false)\n |-- loanclassVec: vector (nullable = true)\n |-- contactIndex: double (nullable = false)\n |-- contactclassVec: vector (nullable = true)\n |-- poutcomeIndex: double (nullable = false)\n |-- poutcomeclassVec: vector (nullable = true)\n |-- label: double (nullable = false)\n |-- features: vector (nullable = true)\n\n",
       "datasetInfos": [],
       "metadata": {},
       "removedWidgets": [],
       "type": "ansi"
      }
     },
     "output_type": "display_data"
    }
   ],
   "source": [
    "transformed_df = pipelineModel.transform(sdf) # [YOUR CODE HERE]\n",
    "transformed_df.printSchema()"
   ]
  },
  {
   "cell_type": "markdown",
   "metadata": {
    "application/vnd.databricks.v1+cell": {
     "cellMetadata": {},
     "inputWidgets": {},
     "nuid": "2817bc28-7c97-483e-bb9b-4f56582a6265",
     "showTitle": false,
     "title": ""
    },
    "id": "fS3OQX0p606H"
   },
   "source": [
    "From the transformation, we'd like to take the `label` and `features` columns as well as the original columns from `sdf.`\n",
    "\n",
    "3. Use the `.select()` method to pull these columns from the `transformed_df` and reassign the resulting DataFrame to `sdf`."
   ]
  },
  {
   "cell_type": "code",
   "execution_count": 0,
   "metadata": {
    "application/vnd.databricks.v1+cell": {
     "cellMetadata": {},
     "inputWidgets": {},
     "nuid": "f64197f6-c673-4461-a7fc-6b2a367273cb",
     "showTitle": false,
     "title": ""
    },
    "colab": {
     "base_uri": "https://localhost:8080/"
    },
    "id": "OWLr2mo0606I",
    "outputId": "4ebeaf4d-f3f3-4a67-9480-93455b92cff3"
   },
   "outputs": [
    {
     "data": {
      "text/plain": [
       "root\n",
       " |-- label: double (nullable = false)\n",
       " |-- features: vector (nullable = true)\n",
       " |-- age: integer (nullable = true)\n",
       " |-- job: string (nullable = true)\n",
       " |-- marital: string (nullable = true)\n",
       " |-- education: string (nullable = true)\n",
       " |-- default: string (nullable = true)\n",
       " |-- balance: integer (nullable = true)\n",
       " |-- housing: string (nullable = true)\n",
       " |-- loan: string (nullable = true)\n",
       " |-- contact: string (nullable = true)\n",
       " |-- duration: integer (nullable = true)\n",
       " |-- campaign: integer (nullable = true)\n",
       " |-- pdays: integer (nullable = true)\n",
       " |-- previous: integer (nullable = true)\n",
       " |-- poutcome: string (nullable = true)\n",
       " |-- y: string (nullable = true)\n",
       "\n"
      ]
     },
     "metadata": {
      "application/vnd.databricks.v1+output": {
       "addedWidgets": {},
       "arguments": {},
       "data": "root\n |-- label: double (nullable = false)\n |-- features: vector (nullable = true)\n |-- age: integer (nullable = true)\n |-- job: string (nullable = true)\n |-- marital: string (nullable = true)\n |-- education: string (nullable = true)\n |-- default: string (nullable = true)\n |-- balance: integer (nullable = true)\n |-- housing: string (nullable = true)\n |-- loan: string (nullable = true)\n |-- contact: string (nullable = true)\n |-- duration: integer (nullable = true)\n |-- campaign: integer (nullable = true)\n |-- pdays: integer (nullable = true)\n |-- previous: integer (nullable = true)\n |-- poutcome: string (nullable = true)\n |-- y: string (nullable = true)\n\n",
       "datasetInfos": [],
       "metadata": {},
       "removedWidgets": [],
       "type": "ansi"
      }
     },
     "output_type": "display_data"
    }
   ],
   "source": [
    "selectedCols = ['label', 'features'] + sdf.columns\n",
    "sdf = transformed_df.select(selectedCols) # [YOUR CODE HERE]\n",
    "sdf.printSchema()"
   ]
  },
  {
   "cell_type": "markdown",
   "metadata": {
    "application/vnd.databricks.v1+cell": {
     "cellMetadata": {},
     "inputWidgets": {},
     "nuid": "56ec1c53-d996-44c7-99e9-134b6ab55cec",
     "showTitle": false,
     "title": ""
    },
    "id": "rCA4o74C606I"
   },
   "source": [
    "4. Let's view the first five rows of the `sdf` DataFrame using the methods we learned in Part 2:\n",
    "    * `.show()` method\n",
    "    * `.take()` method and convert result to a Pandas DataFrame"
   ]
  },
  {
   "cell_type": "code",
   "execution_count": 0,
   "metadata": {
    "application/vnd.databricks.v1+cell": {
     "cellMetadata": {},
     "inputWidgets": {},
     "nuid": "b177c7ee-96a4-4340-952b-e02cb46faf25",
     "showTitle": false,
     "title": ""
    },
    "colab": {
     "base_uri": "https://localhost:8080/",
     "height": 594
    },
    "id": "rUnHgPSY606I",
    "outputId": "ad6b8ce7-5306-416e-cd30-4b5dad1acbbe"
   },
   "outputs": [
    {
     "data": {
      "text/plain": [
       "+-----+--------------------+---+----------+--------+---------+-------+-------+-------+----+--------+--------+--------+-----+--------+--------+---+\n",
       "|label|            features|age|       job| marital|education|default|balance|housing|loan| contact|duration|campaign|pdays|previous|poutcome|  y|\n",
       "+-----+--------------------+---+----------+--------+---------+-------+-------+-------+----+--------+--------+--------+-----+--------+--------+---+\n",
       "|  0.0|(30,[0,12,14,16,1...| 35|management|  single| tertiary|     no|   1350|    yes|  no|cellular|     185|       1|  330|       1| failure| no|\n",
       "|  0.0|(30,[0,11,14,16,1...| 30|management| married| tertiary|     no|   1476|    yes| yes| unknown|     199|       4|   -1|       0| unknown| no|\n",
       "|  0.0|(30,[0,12,14,16,1...| 35|management|  single| tertiary|     no|    747|     no|  no|cellular|     141|       2|  176|       3| failure| no|\n",
       "|  0.0|(30,[0,11,14,16,1...| 40|management| married| tertiary|     no|    194|     no| yes|cellular|     189|       2|   -1|       0| unknown| no|\n",
       "|  0.0|(30,[0,16,17,18,1...| 38|management|divorced|  unknown|     no|      0|    yes|  no|cellular|      96|       2|   -1|       0| unknown| no|\n",
       "+-----+--------------------+---+----------+--------+---------+-------+-------+-------+----+--------+--------+--------+-----+--------+--------+---+\n",
       "only showing top 5 rows\n",
       "\n"
      ]
     },
     "metadata": {
      "application/vnd.databricks.v1+output": {
       "addedWidgets": {},
       "arguments": {},
       "data": "+-----+--------------------+---+----------+--------+---------+-------+-------+-------+----+--------+--------+--------+-----+--------+--------+---+\n|label|            features|age|       job| marital|education|default|balance|housing|loan| contact|duration|campaign|pdays|previous|poutcome|  y|\n+-----+--------------------+---+----------+--------+---------+-------+-------+-------+----+--------+--------+--------+-----+--------+--------+---+\n|  0.0|(30,[0,12,14,16,1...| 35|management|  single| tertiary|     no|   1350|    yes|  no|cellular|     185|       1|  330|       1| failure| no|\n|  0.0|(30,[0,11,14,16,1...| 30|management| married| tertiary|     no|   1476|    yes| yes| unknown|     199|       4|   -1|       0| unknown| no|\n|  0.0|(30,[0,12,14,16,1...| 35|management|  single| tertiary|     no|    747|     no|  no|cellular|     141|       2|  176|       3| failure| no|\n|  0.0|(30,[0,11,14,16,1...| 40|management| married| tertiary|     no|    194|     no| yes|cellular|     189|       2|   -1|       0| unknown| no|\n|  0.0|(30,[0,16,17,18,1...| 38|management|divorced|  unknown|     no|      0|    yes|  no|cellular|      96|       2|   -1|       0| unknown| no|\n+-----+--------------------+---+----------+--------+---------+-------+-------+-------+----+--------+--------+--------+-----+--------+--------+---+\nonly showing top 5 rows\n\n",
       "datasetInfos": [],
       "metadata": {},
       "removedWidgets": [],
       "type": "ansi"
      }
     },
     "output_type": "display_data"
    }
   ],
   "source": [
    "sdf.show(5)"
   ]
  },
  {
   "cell_type": "code",
   "execution_count": 0,
   "metadata": {
    "application/vnd.databricks.v1+cell": {
     "cellMetadata": {},
     "inputWidgets": {},
     "nuid": "3e594abd-ab1b-4d9a-a024-984ca9cef1ab",
     "showTitle": false,
     "title": ""
    }
   },
   "outputs": [
    {
     "data": {
      "text/html": [
       "<div>\n",
       "<style scoped>\n",
       "    .dataframe tbody tr th:only-of-type {\n",
       "        vertical-align: middle;\n",
       "    }\n",
       "\n",
       "    .dataframe tbody tr th {\n",
       "        vertical-align: top;\n",
       "    }\n",
       "\n",
       "    .dataframe thead th {\n",
       "        text-align: right;\n",
       "    }\n",
       "</style>\n",
       "<table border=\"1\" class=\"dataframe\">\n",
       "  <thead>\n",
       "    <tr style=\"text-align: right;\">\n",
       "      <th></th>\n",
       "      <th>label</th>\n",
       "      <th>features</th>\n",
       "      <th>age</th>\n",
       "      <th>job</th>\n",
       "      <th>marital</th>\n",
       "      <th>education</th>\n",
       "      <th>default</th>\n",
       "      <th>balance</th>\n",
       "      <th>housing</th>\n",
       "      <th>loan</th>\n",
       "      <th>contact</th>\n",
       "      <th>duration</th>\n",
       "      <th>campaign</th>\n",
       "      <th>pdays</th>\n",
       "      <th>previous</th>\n",
       "      <th>poutcome</th>\n",
       "      <th>y</th>\n",
       "    </tr>\n",
       "  </thead>\n",
       "  <tbody>\n",
       "    <tr>\n",
       "      <th>0</th>\n",
       "      <td>0.0</td>\n",
       "      <td>(1.0, 0.0, 0.0, 0.0, 0.0, 0.0, 0.0, 0.0, 0.0, ...</td>\n",
       "      <td>35</td>\n",
       "      <td>management</td>\n",
       "      <td>single</td>\n",
       "      <td>tertiary</td>\n",
       "      <td>no</td>\n",
       "      <td>1350</td>\n",
       "      <td>yes</td>\n",
       "      <td>no</td>\n",
       "      <td>cellular</td>\n",
       "      <td>185</td>\n",
       "      <td>1</td>\n",
       "      <td>330</td>\n",
       "      <td>1</td>\n",
       "      <td>failure</td>\n",
       "      <td>no</td>\n",
       "    </tr>\n",
       "    <tr>\n",
       "      <th>1</th>\n",
       "      <td>0.0</td>\n",
       "      <td>(1.0, 0.0, 0.0, 0.0, 0.0, 0.0, 0.0, 0.0, 0.0, ...</td>\n",
       "      <td>30</td>\n",
       "      <td>management</td>\n",
       "      <td>married</td>\n",
       "      <td>tertiary</td>\n",
       "      <td>no</td>\n",
       "      <td>1476</td>\n",
       "      <td>yes</td>\n",
       "      <td>yes</td>\n",
       "      <td>unknown</td>\n",
       "      <td>199</td>\n",
       "      <td>4</td>\n",
       "      <td>-1</td>\n",
       "      <td>0</td>\n",
       "      <td>unknown</td>\n",
       "      <td>no</td>\n",
       "    </tr>\n",
       "    <tr>\n",
       "      <th>2</th>\n",
       "      <td>0.0</td>\n",
       "      <td>(1.0, 0.0, 0.0, 0.0, 0.0, 0.0, 0.0, 0.0, 0.0, ...</td>\n",
       "      <td>35</td>\n",
       "      <td>management</td>\n",
       "      <td>single</td>\n",
       "      <td>tertiary</td>\n",
       "      <td>no</td>\n",
       "      <td>747</td>\n",
       "      <td>no</td>\n",
       "      <td>no</td>\n",
       "      <td>cellular</td>\n",
       "      <td>141</td>\n",
       "      <td>2</td>\n",
       "      <td>176</td>\n",
       "      <td>3</td>\n",
       "      <td>failure</td>\n",
       "      <td>no</td>\n",
       "    </tr>\n",
       "    <tr>\n",
       "      <th>3</th>\n",
       "      <td>0.0</td>\n",
       "      <td>(1.0, 0.0, 0.0, 0.0, 0.0, 0.0, 0.0, 0.0, 0.0, ...</td>\n",
       "      <td>40</td>\n",
       "      <td>management</td>\n",
       "      <td>married</td>\n",
       "      <td>tertiary</td>\n",
       "      <td>no</td>\n",
       "      <td>194</td>\n",
       "      <td>no</td>\n",
       "      <td>yes</td>\n",
       "      <td>cellular</td>\n",
       "      <td>189</td>\n",
       "      <td>2</td>\n",
       "      <td>-1</td>\n",
       "      <td>0</td>\n",
       "      <td>unknown</td>\n",
       "      <td>no</td>\n",
       "    </tr>\n",
       "    <tr>\n",
       "      <th>4</th>\n",
       "      <td>0.0</td>\n",
       "      <td>(1.0, 0.0, 0.0, 0.0, 0.0, 0.0, 0.0, 0.0, 0.0, ...</td>\n",
       "      <td>38</td>\n",
       "      <td>management</td>\n",
       "      <td>divorced</td>\n",
       "      <td>unknown</td>\n",
       "      <td>no</td>\n",
       "      <td>0</td>\n",
       "      <td>yes</td>\n",
       "      <td>no</td>\n",
       "      <td>cellular</td>\n",
       "      <td>96</td>\n",
       "      <td>2</td>\n",
       "      <td>-1</td>\n",
       "      <td>0</td>\n",
       "      <td>unknown</td>\n",
       "      <td>no</td>\n",
       "    </tr>\n",
       "  </tbody>\n",
       "</table>\n",
       "</div>"
      ]
     },
     "metadata": {
      "application/vnd.databricks.v1+output": {
       "addedWidgets": {},
       "arguments": {},
       "data": "<div>\n<style scoped>\n    .dataframe tbody tr th:only-of-type {\n        vertical-align: middle;\n    }\n\n    .dataframe tbody tr th {\n        vertical-align: top;\n    }\n\n    .dataframe thead th {\n        text-align: right;\n    }\n</style>\n<table border=\"1\" class=\"dataframe\">\n  <thead>\n    <tr style=\"text-align: right;\">\n      <th></th>\n      <th>label</th>\n      <th>features</th>\n      <th>age</th>\n      <th>job</th>\n      <th>marital</th>\n      <th>education</th>\n      <th>default</th>\n      <th>balance</th>\n      <th>housing</th>\n      <th>loan</th>\n      <th>contact</th>\n      <th>duration</th>\n      <th>campaign</th>\n      <th>pdays</th>\n      <th>previous</th>\n      <th>poutcome</th>\n      <th>y</th>\n    </tr>\n  </thead>\n  <tbody>\n    <tr>\n      <th>0</th>\n      <td>0.0</td>\n      <td>(1.0, 0.0, 0.0, 0.0, 0.0, 0.0, 0.0, 0.0, 0.0, ...</td>\n      <td>35</td>\n      <td>management</td>\n      <td>single</td>\n      <td>tertiary</td>\n      <td>no</td>\n      <td>1350</td>\n      <td>yes</td>\n      <td>no</td>\n      <td>cellular</td>\n      <td>185</td>\n      <td>1</td>\n      <td>330</td>\n      <td>1</td>\n      <td>failure</td>\n      <td>no</td>\n    </tr>\n    <tr>\n      <th>1</th>\n      <td>0.0</td>\n      <td>(1.0, 0.0, 0.0, 0.0, 0.0, 0.0, 0.0, 0.0, 0.0, ...</td>\n      <td>30</td>\n      <td>management</td>\n      <td>married</td>\n      <td>tertiary</td>\n      <td>no</td>\n      <td>1476</td>\n      <td>yes</td>\n      <td>yes</td>\n      <td>unknown</td>\n      <td>199</td>\n      <td>4</td>\n      <td>-1</td>\n      <td>0</td>\n      <td>unknown</td>\n      <td>no</td>\n    </tr>\n    <tr>\n      <th>2</th>\n      <td>0.0</td>\n      <td>(1.0, 0.0, 0.0, 0.0, 0.0, 0.0, 0.0, 0.0, 0.0, ...</td>\n      <td>35</td>\n      <td>management</td>\n      <td>single</td>\n      <td>tertiary</td>\n      <td>no</td>\n      <td>747</td>\n      <td>no</td>\n      <td>no</td>\n      <td>cellular</td>\n      <td>141</td>\n      <td>2</td>\n      <td>176</td>\n      <td>3</td>\n      <td>failure</td>\n      <td>no</td>\n    </tr>\n    <tr>\n      <th>3</th>\n      <td>0.0</td>\n      <td>(1.0, 0.0, 0.0, 0.0, 0.0, 0.0, 0.0, 0.0, 0.0, ...</td>\n      <td>40</td>\n      <td>management</td>\n      <td>married</td>\n      <td>tertiary</td>\n      <td>no</td>\n      <td>194</td>\n      <td>no</td>\n      <td>yes</td>\n      <td>cellular</td>\n      <td>189</td>\n      <td>2</td>\n      <td>-1</td>\n      <td>0</td>\n      <td>unknown</td>\n      <td>no</td>\n    </tr>\n    <tr>\n      <th>4</th>\n      <td>0.0</td>\n      <td>(1.0, 0.0, 0.0, 0.0, 0.0, 0.0, 0.0, 0.0, 0.0, ...</td>\n      <td>38</td>\n      <td>management</td>\n      <td>divorced</td>\n      <td>unknown</td>\n      <td>no</td>\n      <td>0</td>\n      <td>yes</td>\n      <td>no</td>\n      <td>cellular</td>\n      <td>96</td>\n      <td>2</td>\n      <td>-1</td>\n      <td>0</td>\n      <td>unknown</td>\n      <td>no</td>\n    </tr>\n  </tbody>\n</table>\n</div>",
       "datasetInfos": [],
       "metadata": {},
       "removedWidgets": [],
       "textData": null,
       "type": "htmlSandbox"
      }
     },
     "output_type": "display_data"
    }
   ],
   "source": [
    "pd.DataFrame(sdf.take(5),columns=sdf.columns)"
   ]
  },
  {
   "cell_type": "markdown",
   "metadata": {
    "application/vnd.databricks.v1+cell": {
     "cellMetadata": {},
     "inputWidgets": {},
     "nuid": "aebb912a-63b7-4db6-8c01-9b8900cd985b",
     "showTitle": false,
     "title": ""
    },
    "id": "NgtkTLyN606I"
   },
   "source": [
    "5. Randomly split the dataset in training and test sets, with 70% of the data in the training set and the remaining 30% in the test set.\n",
    "\n",
    "    Hint: Call the `.randomSplit()` method."
   ]
  },
  {
   "cell_type": "code",
   "execution_count": 0,
   "metadata": {
    "application/vnd.databricks.v1+cell": {
     "cellMetadata": {},
     "inputWidgets": {},
     "nuid": "b4798af7-e77f-4ebb-891f-c814799f8618",
     "showTitle": false,
     "title": ""
    },
    "id": "pOV9t-nj606I"
   },
   "outputs": [],
   "source": [
    "train, test = sdf.randomSplit([.7,.3]) # [YOUR CODE HERE]"
   ]
  },
  {
   "cell_type": "markdown",
   "metadata": {
    "application/vnd.databricks.v1+cell": {
     "cellMetadata": {},
     "inputWidgets": {},
     "nuid": "2d2d9830-1191-4ef3-b719-af0acebcce90",
     "showTitle": false,
     "title": ""
    },
    "id": "ch88ygkE606J"
   },
   "source": [
    "6. What are the sizes of the training and test sets?"
   ]
  },
  {
   "cell_type": "code",
   "execution_count": 0,
   "metadata": {
    "application/vnd.databricks.v1+cell": {
     "cellMetadata": {},
     "inputWidgets": {},
     "nuid": "b03c0474-bd45-4204-b84c-50d78a60c648",
     "showTitle": false,
     "title": ""
    },
    "colab": {
     "base_uri": "https://localhost:8080/"
    },
    "id": "qYQ9e6Ha606J",
    "outputId": "2d73d0d2-decb-42de-e7ec-813bc2f1caf2"
   },
   "outputs": [
    {
     "data": {
      "text/plain": [
       "size of the training set:  3218   size of the test set:  1303\n"
      ]
     },
     "metadata": {
      "application/vnd.databricks.v1+output": {
       "addedWidgets": {},
       "arguments": {},
       "data": "size of the training set:  3218   size of the test set:  1303\n",
       "datasetInfos": [],
       "metadata": {},
       "removedWidgets": [],
       "type": "ansi"
      }
     },
     "output_type": "display_data"
    }
   ],
   "source": [
    "print('size of the training set: ',train.count(),'  size of the test set: ',test.count())"
   ]
  },
  {
   "cell_type": "markdown",
   "metadata": {
    "application/vnd.databricks.v1+cell": {
     "cellMetadata": {},
     "inputWidgets": {},
     "nuid": "42af67c4-7257-40f0-8219-069494123190",
     "showTitle": false,
     "title": ""
    },
    "id": "IWNVbqgU606J"
   },
   "source": [
    "## Part 5: Logistic Regression Model\n",
    "\n",
    "Optional:\n",
    "- You can build a RandomForestClassifier with : from pyspark.ml.classification import RandomForestClassifier\n",
    "- You can build a Gradient-Boosted Tree Classifier with : from pyspark.ml.classification import GBTClassifier\n",
    "\n",
    "1. Fit a logistic regression with `featuresCol` as `\"features\"`, `labelCol` as `\"label\"` and a `maxIter` of 10."
   ]
  },
  {
   "cell_type": "code",
   "execution_count": 0,
   "metadata": {
    "application/vnd.databricks.v1+cell": {
     "cellMetadata": {},
     "inputWidgets": {},
     "nuid": "45df93be-c36f-4b6c-8393-13e39311e218",
     "showTitle": false,
     "title": ""
    },
    "id": "7StSP1Jv606J"
   },
   "outputs": [],
   "source": [
    "from pyspark.ml.classification import LogisticRegression\n",
    "\n",
    "logregmodel = LogisticRegression(featuresCol = \"features\", labelCol = \"label\",maxIter = 10)\n",
    "logregmodel = logregmodel.fit(train)"
   ]
  },
  {
   "cell_type": "markdown",
   "metadata": {
    "application/vnd.databricks.v1+cell": {
     "cellMetadata": {},
     "inputWidgets": {},
     "nuid": "eb297027-929c-4637-8ed2-64bff31e1fd4",
     "showTitle": false,
     "title": ""
    },
    "id": "OMSgeFA1606J"
   },
   "source": [
    "2. We can obtain the coefficients by using logistic regression model’s attributes. Look at the following plot of the beta coefficients."
   ]
  },
  {
   "cell_type": "code",
   "execution_count": 0,
   "metadata": {
    "application/vnd.databricks.v1+cell": {
     "cellMetadata": {},
     "inputWidgets": {},
     "nuid": "c1766292-117f-4ea2-89fe-2c62612a600b",
     "showTitle": false,
     "title": ""
    },
    "colab": {
     "base_uri": "https://localhost:8080/",
     "height": 264
    },
    "id": "bh28ROSu606J",
    "outputId": "c208b6b6-2be5-4fbf-ec7b-c6e387a4fd12"
   },
   "outputs": [
    {
     "data": {
      "image/png": "[encoded data removed]"
     },
     "metadata": {
      "application/vnd.databricks.v1+output": {
       "addedWidgets": {},
       "arguments": {},
       "data": "data:image/png;base64,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\n",
       "datasetInfos": [],
       "metadata": {},
       "removedWidgets": [],
       "type": "image"
      }
     },
     "output_type": "display_data"
    }
   ],
   "source": [
    "import matplotlib.pyplot as plt\n",
    "import numpy as np\n",
    "beta = np.sort(logregmodel.coefficients)\n",
    "plt.plot(beta)\n",
    "plt.ylabel('Beta Coefficients')\n",
    "plt.show()"
   ]
  },
  {
   "cell_type": "markdown",
   "metadata": {
    "application/vnd.databricks.v1+cell": {
     "cellMetadata": {},
     "inputWidgets": {},
     "nuid": "a850fb0a-0d4d-4f58-8c23-2aea0db2f3f1",
     "showTitle": false,
     "title": ""
    },
    "id": "K3hE2Ja2606K"
   },
   "source": [
    "3. Use the `.transform()` method to make predictions and save them as `predictions`."
   ]
  },
  {
   "cell_type": "code",
   "execution_count": 0,
   "metadata": {
    "application/vnd.databricks.v1+cell": {
     "cellMetadata": {},
     "inputWidgets": {},
     "nuid": "cdf395d5-b7ef-4f5a-8a32-f1eb76b59122",
     "showTitle": false,
     "title": ""
    },
    "id": "9X_xoxnF606K"
   },
   "outputs": [],
   "source": [
    "predictions = logregmodel.transform(test) # [YOUR CODE HERE]"
   ]
  },
  {
   "cell_type": "markdown",
   "metadata": {
    "application/vnd.databricks.v1+cell": {
     "cellMetadata": {},
     "inputWidgets": {},
     "nuid": "4075a3d6-1f36-4380-980b-a90969458c41",
     "showTitle": false,
     "title": ""
    },
    "id": "NIXVUZLv606K"
   },
   "source": [
    "4. View the first 10 rows of the `predictions` DataFrame."
   ]
  },
  {
   "cell_type": "code",
   "execution_count": 0,
   "metadata": {
    "application/vnd.databricks.v1+cell": {
     "cellMetadata": {},
     "inputWidgets": {},
     "nuid": "0567a0c4-9c83-41c0-8cfb-429a470850c7",
     "showTitle": false,
     "title": ""
    }
   },
   "outputs": [
    {
     "data": {
      "text/plain": [
       "Out[140]: [Row(label=0.0, features=SparseVector(30, {0: 1.0, 11: 1.0, 13: 1.0, 16: 1.0, 17: 1.0, 18: 1.0, 19: 1.0, 21: 1.0, 24: 34.0, 25: 857.0, 26: 238.0, 27: 6.0, 28: -1.0}), age=34, job='management', marital='married', education='secondary', default='no', balance=857, housing='yes', loan='no', contact='cellular', duration=238, campaign=6, pdays=-1, previous=0, poutcome='unknown', y='no', rawPrediction=DenseVector([3.0011, -3.0011]), probability=DenseVector([0.9526, 0.0474]), prediction=0.0),\n",
       " Row(label=0.0, features=SparseVector(30, {0: 1.0, 11: 1.0, 13: 1.0, 16: 1.0, 17: 1.0, 18: 1.0, 19: 1.0, 21: 1.0, 24: 34.0, 25: 1007.0, 26: 240.0, 27: 2.0, 28: -1.0}), age=34, job='management', marital='married', education='secondary', default='no', balance=1007, housing='yes', loan='no', contact='cellular', duration=240, campaign=2, pdays=-1, previous=0, poutcome='unknown', y='no', rawPrediction=DenseVector([2.7362, -2.7362]), probability=DenseVector([0.9391, 0.0609]), prediction=0.0),\n",
       " Row(label=0.0, features=SparseVector(30, {0: 1.0, 11: 1.0, 13: 1.0, 16: 1.0, 17: 1.0, 18: 1.0, 19: 1.0, 21: 1.0, 24: 36.0, 25: 644.0, 26: 54.0, 27: 2.0, 28: -1.0}), age=36, job='management', marital='married', education='secondary', default='no', balance=644, housing='yes', loan='no', contact='cellular', duration=54, campaign=2, pdays=-1, previous=0, poutcome='unknown', y='no', rawPrediction=DenseVector([3.4935, -3.4935]), probability=DenseVector([0.9705, 0.0295]), prediction=0.0),\n",
       " Row(label=0.0, features=SparseVector(30, {0: 1.0, 11: 1.0, 13: 1.0, 16: 1.0, 17: 1.0, 18: 1.0, 19: 1.0, 21: 1.0, 24: 42.0, 25: -105.0, 26: 60.0, 27: 2.0, 28: -1.0}), age=42, job='management', marital='married', education='secondary', default='no', balance=-105, housing='yes', loan='no', contact='cellular', duration=60, campaign=2, pdays=-1, previous=0, poutcome='unknown', y='no', rawPrediction=DenseVector([3.494, -3.494]), probability=DenseVector([0.9705, 0.0295]), prediction=0.0),\n",
       " Row(label=0.0, features=SparseVector(30, {0: 1.0, 11: 1.0, 13: 1.0, 16: 1.0, 17: 1.0, 18: 1.0, 19: 1.0, 21: 1.0, 24: 30.0, 26: 756.0, 27: 3.0, 28: -1.0}), age=30, job='management', marital='married', education='secondary', default='no', balance=0, housing='yes', loan='no', contact='cellular', duration=756, campaign=3, pdays=-1, previous=0, poutcome='unknown', y='no', rawPrediction=DenseVector([0.7272, -0.7272]), probability=DenseVector([0.6742, 0.3258]), prediction=0.0),\n",
       " Row(label=0.0, features=SparseVector(30, {0: 1.0, 11: 1.0, 13: 1.0, 16: 1.0, 17: 1.0, 18: 1.0, 19: 1.0, 22: 1.0, 24: 31.0, 25: 625.0, 26: 424.0, 27: 1.0, 28: 138.0, 29: 1.0}), age=31, job='management', marital='married', education='secondary', default='no', balance=625, housing='yes', loan='no', contact='cellular', duration=424, campaign=1, pdays=138, previous=1, poutcome='failure', y='no', rawPrediction=DenseVector([1.647, -1.647]), probability=DenseVector([0.8385, 0.1615]), prediction=0.0),\n",
       " Row(label=0.0, features=SparseVector(30, {0: 1.0, 11: 1.0, 13: 1.0, 16: 1.0, 17: 1.0, 18: 1.0, 19: 1.0, 22: 1.0, 24: 40.0, 25: 643.0, 26: 74.0, 27: 2.0, 28: 256.0, 29: 1.0}), age=40, job='management', marital='married', education='secondary', default='no', balance=643, housing='yes', loan='no', contact='cellular', duration=74, campaign=2, pdays=256, previous=1, poutcome='failure', y='no', rawPrediction=DenseVector([3.1911, -3.1911]), probability=DenseVector([0.9605, 0.0395]), prediction=0.0),\n",
       " Row(label=0.0, features=SparseVector(30, {0: 1.0, 11: 1.0, 13: 1.0, 16: 1.0, 17: 1.0, 18: 1.0, 20: 1.0, 21: 1.0, 24: 35.0, 25: 1160.0, 26: 116.0, 27: 3.0, 28: -1.0}), age=35, job='management', marital='married', education='secondary', default='no', balance=1160, housing='yes', loan='no', contact='unknown', duration=116, campaign=3, pdays=-1, previous=0, poutcome='unknown', y='no', rawPrediction=DenseVector([4.4547, -4.4547]), probability=DenseVector([0.9885, 0.0115]), prediction=0.0),\n",
       " Row(label=0.0, features=SparseVector(30, {0: 1.0, 11: 1.0, 13: 1.0, 16: 1.0, 17: 1.0, 19: 1.0, 22: 1.0, 24: 30.0, 25: -559.0, 26: 98.0, 27: 1.0, 28: 167.0, 29: 2.0}), age=30, job='management', marital='married', education='secondary', default='no', balance=-559, housing='yes', loan='yes', contact='cellular', duration=98, campaign=1, pdays=167, previous=2, poutcome='failure', y='no', rawPrediction=DenseVector([3.7786, -3.7786]), probability=DenseVector([0.9777, 0.0223]), prediction=0.0),\n",
       " Row(label=0.0, features=SparseVector(30, {0: 1.0, 11: 1.0, 13: 1.0, 16: 1.0, 17: 1.0, 19: 1.0, 22: 1.0, 24: 32.0, 25: 6217.0, 26: 486.0, 27: 2.0, 28: 181.0, 29: 2.0}), age=32, job='management', marital='married', education='secondary', default='no', balance=6217, housing='yes', loan='yes', contact='cellular', duration=486, campaign=2, pdays=181, previous=2, poutcome='failure', y='no', rawPrediction=DenseVector([2.2115, -2.2115]), probability=DenseVector([0.9013, 0.0987]), prediction=0.0)]"
      ]
     },
     "metadata": {
      "application/vnd.databricks.v1+output": {
       "addedWidgets": {},
       "arguments": {},
       "data": "Out[140]: [Row(label=0.0, features=SparseVector(30, {0: 1.0, 11: 1.0, 13: 1.0, 16: 1.0, 17: 1.0, 18: 1.0, 19: 1.0, 21: 1.0, 24: 34.0, 25: 857.0, 26: 238.0, 27: 6.0, 28: -1.0}), age=34, job='management', marital='married', education='secondary', default='no', balance=857, housing='yes', loan='no', contact='cellular', duration=238, campaign=6, pdays=-1, previous=0, poutcome='unknown', y='no', rawPrediction=DenseVector([3.0011, -3.0011]), probability=DenseVector([0.9526, 0.0474]), prediction=0.0),\n Row(label=0.0, features=SparseVector(30, {0: 1.0, 11: 1.0, 13: 1.0, 16: 1.0, 17: 1.0, 18: 1.0, 19: 1.0, 21: 1.0, 24: 34.0, 25: 1007.0, 26: 240.0, 27: 2.0, 28: -1.0}), age=34, job='management', marital='married', education='secondary', default='no', balance=1007, housing='yes', loan='no', contact='cellular', duration=240, campaign=2, pdays=-1, previous=0, poutcome='unknown', y='no', rawPrediction=DenseVector([2.7362, -2.7362]), probability=DenseVector([0.9391, 0.0609]), prediction=0.0),\n Row(label=0.0, features=SparseVector(30, {0: 1.0, 11: 1.0, 13: 1.0, 16: 1.0, 17: 1.0, 18: 1.0, 19: 1.0, 21: 1.0, 24: 36.0, 25: 644.0, 26: 54.0, 27: 2.0, 28: -1.0}), age=36, job='management', marital='married', education='secondary', default='no', balance=644, housing='yes', loan='no', contact='cellular', duration=54, campaign=2, pdays=-1, previous=0, poutcome='unknown', y='no', rawPrediction=DenseVector([3.4935, -3.4935]), probability=DenseVector([0.9705, 0.0295]), prediction=0.0),\n Row(label=0.0, features=SparseVector(30, {0: 1.0, 11: 1.0, 13: 1.0, 16: 1.0, 17: 1.0, 18: 1.0, 19: 1.0, 21: 1.0, 24: 42.0, 25: -105.0, 26: 60.0, 27: 2.0, 28: -1.0}), age=42, job='management', marital='married', education='secondary', default='no', balance=-105, housing='yes', loan='no', contact='cellular', duration=60, campaign=2, pdays=-1, previous=0, poutcome='unknown', y='no', rawPrediction=DenseVector([3.494, -3.494]), probability=DenseVector([0.9705, 0.0295]), prediction=0.0),\n Row(label=0.0, features=SparseVector(30, {0: 1.0, 11: 1.0, 13: 1.0, 16: 1.0, 17: 1.0, 18: 1.0, 19: 1.0, 21: 1.0, 24: 30.0, 26: 756.0, 27: 3.0, 28: -1.0}), age=30, job='management', marital='married', education='secondary', default='no', balance=0, housing='yes', loan='no', contact='cellular', duration=756, campaign=3, pdays=-1, previous=0, poutcome='unknown', y='no', rawPrediction=DenseVector([0.7272, -0.7272]), probability=DenseVector([0.6742, 0.3258]), prediction=0.0),\n Row(label=0.0, features=SparseVector(30, {0: 1.0, 11: 1.0, 13: 1.0, 16: 1.0, 17: 1.0, 18: 1.0, 19: 1.0, 22: 1.0, 24: 31.0, 25: 625.0, 26: 424.0, 27: 1.0, 28: 138.0, 29: 1.0}), age=31, job='management', marital='married', education='secondary', default='no', balance=625, housing='yes', loan='no', contact='cellular', duration=424, campaign=1, pdays=138, previous=1, poutcome='failure', y='no', rawPrediction=DenseVector([1.647, -1.647]), probability=DenseVector([0.8385, 0.1615]), prediction=0.0),\n Row(label=0.0, features=SparseVector(30, {0: 1.0, 11: 1.0, 13: 1.0, 16: 1.0, 17: 1.0, 18: 1.0, 19: 1.0, 22: 1.0, 24: 40.0, 25: 643.0, 26: 74.0, 27: 2.0, 28: 256.0, 29: 1.0}), age=40, job='management', marital='married', education='secondary', default='no', balance=643, housing='yes', loan='no', contact='cellular', duration=74, campaign=2, pdays=256, previous=1, poutcome='failure', y='no', rawPrediction=DenseVector([3.1911, -3.1911]), probability=DenseVector([0.9605, 0.0395]), prediction=0.0),\n Row(label=0.0, features=SparseVector(30, {0: 1.0, 11: 1.0, 13: 1.0, 16: 1.0, 17: 1.0, 18: 1.0, 20: 1.0, 21: 1.0, 24: 35.0, 25: 1160.0, 26: 116.0, 27: 3.0, 28: -1.0}), age=35, job='management', marital='married', education='secondary', default='no', balance=1160, housing='yes', loan='no', contact='unknown', duration=116, campaign=3, pdays=-1, previous=0, poutcome='unknown', y='no', rawPrediction=DenseVector([4.4547, -4.4547]), probability=DenseVector([0.9885, 0.0115]), prediction=0.0),\n Row(label=0.0, features=SparseVector(30, {0: 1.0, 11: 1.0, 13: 1.0, 16: 1.0, 17: 1.0, 19: 1.0, 22: 1.0, 24: 30.0, 25: -559.0, 26: 98.0, 27: 1.0, 28: 167.0, 29: 2.0}), age=30, job='management', marital='married', education='secondary', default='no', balance=-559, housing='yes', loan='yes', contact='cellular', duration=98, campaign=1, pdays=167, previous=2, poutcome='failure', y='no', rawPrediction=DenseVector([3.7786, -3.7786]), probability=DenseVector([0.9777, 0.0223]), prediction=0.0),\n Row(label=0.0, features=SparseVector(30, {0: 1.0, 11: 1.0, 13: 1.0, 16: 1.0, 17: 1.0, 19: 1.0, 22: 1.0, 24: 32.0, 25: 6217.0, 26: 486.0, 27: 2.0, 28: 181.0, 29: 2.0}), age=32, job='management', marital='married', education='secondary', default='no', balance=6217, housing='yes', loan='yes', contact='cellular', duration=486, campaign=2, pdays=181, previous=2, poutcome='failure', y='no', rawPrediction=DenseVector([2.2115, -2.2115]), probability=DenseVector([0.9013, 0.0987]), prediction=0.0)]",
       "datasetInfos": [],
       "metadata": {},
       "removedWidgets": [],
       "type": "ansi"
      }
     },
     "output_type": "display_data"
    }
   ],
   "source": [
    "predictions.head(10)"
   ]
  },
  {
   "cell_type": "code",
   "execution_count": 0,
   "metadata": {
    "application/vnd.databricks.v1+cell": {
     "cellMetadata": {},
     "inputWidgets": {},
     "nuid": "9b063f77-1a9a-46a9-a938-aa00f3c642a5",
     "showTitle": false,
     "title": ""
    }
   },
   "outputs": [
    {
     "data": {
      "text/plain": [
       "Out[136]: ['label',\n",
       " 'features',\n",
       " 'age',\n",
       " 'job',\n",
       " 'marital',\n",
       " 'education',\n",
       " 'default',\n",
       " 'balance',\n",
       " 'housing',\n",
       " 'loan',\n",
       " 'contact',\n",
       " 'duration',\n",
       " 'campaign',\n",
       " 'pdays',\n",
       " 'previous',\n",
       " 'poutcome',\n",
       " 'y']"
      ]
     },
     "metadata": {
      "application/vnd.databricks.v1+output": {
       "addedWidgets": {},
       "arguments": {},
       "data": "Out[136]: ['label',\n 'features',\n 'age',\n 'job',\n 'marital',\n 'education',\n 'default',\n 'balance',\n 'housing',\n 'loan',\n 'contact',\n 'duration',\n 'campaign',\n 'pdays',\n 'previous',\n 'poutcome',\n 'y']",
       "datasetInfos": [],
       "metadata": {},
       "removedWidgets": [],
       "type": "ansi"
      }
     },
     "output_type": "display_data"
    }
   ],
   "source": [
    "sdf.columns"
   ]
  },
  {
   "cell_type": "code",
   "execution_count": 0,
   "metadata": {
    "application/vnd.databricks.v1+cell": {
     "cellMetadata": {},
     "inputWidgets": {},
     "nuid": "a5bcd4e2-ab1a-4a20-bc93-cb52d173bf5d",
     "showTitle": false,
     "title": ""
    }
   },
   "outputs": [
    {
     "data": {
      "text/plain": [
       "Out[137]: ['label',\n",
       " 'features',\n",
       " 'age',\n",
       " 'job',\n",
       " 'marital',\n",
       " 'education',\n",
       " 'default',\n",
       " 'balance',\n",
       " 'housing',\n",
       " 'loan',\n",
       " 'contact',\n",
       " 'duration',\n",
       " 'campaign',\n",
       " 'pdays',\n",
       " 'previous',\n",
       " 'poutcome',\n",
       " 'y',\n",
       " 'rawPrediction',\n",
       " 'probability',\n",
       " 'prediction']"
      ]
     },
     "metadata": {
      "application/vnd.databricks.v1+output": {
       "addedWidgets": {},
       "arguments": {},
       "data": "Out[137]: ['label',\n 'features',\n 'age',\n 'job',\n 'marital',\n 'education',\n 'default',\n 'balance',\n 'housing',\n 'loan',\n 'contact',\n 'duration',\n 'campaign',\n 'pdays',\n 'previous',\n 'poutcome',\n 'y',\n 'rawPrediction',\n 'probability',\n 'prediction']",
       "datasetInfos": [],
       "metadata": {},
       "removedWidgets": [],
       "type": "ansi"
      }
     },
     "output_type": "display_data"
    }
   ],
   "source": [
    "liste2 = ['rawPrediction','probability','prediction']\n",
    "colonnes = sdf.columns + liste2\n",
    "colonnes"
   ]
  },
  {
   "cell_type": "code",
   "execution_count": 0,
   "metadata": {
    "application/vnd.databricks.v1+cell": {
     "cellMetadata": {},
     "inputWidgets": {},
     "nuid": "e97ab471-ab1b-4335-8197-773531fb480f",
     "showTitle": false,
     "title": ""
    },
    "colab": {
     "base_uri": "https://localhost:8080/",
     "height": 1000
    },
    "id": "1AD_mkwl606K",
    "outputId": "0024428e-6085-4f88-80d4-629d3e0c8130"
   },
   "outputs": [
    {
     "data": {
      "text/html": [
       "<div>\n",
       "<style scoped>\n",
       "    .dataframe tbody tr th:only-of-type {\n",
       "        vertical-align: middle;\n",
       "    }\n",
       "\n",
       "    .dataframe tbody tr th {\n",
       "        vertical-align: top;\n",
       "    }\n",
       "\n",
       "    .dataframe thead th {\n",
       "        text-align: right;\n",
       "    }\n",
       "</style>\n",
       "<table border=\"1\" class=\"dataframe\">\n",
       "  <thead>\n",
       "    <tr style=\"text-align: right;\">\n",
       "      <th></th>\n",
       "      <th>label</th>\n",
       "      <th>features</th>\n",
       "      <th>age</th>\n",
       "      <th>job</th>\n",
       "      <th>marital</th>\n",
       "      <th>education</th>\n",
       "      <th>default</th>\n",
       "      <th>balance</th>\n",
       "      <th>housing</th>\n",
       "      <th>loan</th>\n",
       "      <th>contact</th>\n",
       "      <th>duration</th>\n",
       "      <th>campaign</th>\n",
       "      <th>pdays</th>\n",
       "      <th>previous</th>\n",
       "      <th>poutcome</th>\n",
       "      <th>y</th>\n",
       "      <th>rawPrediction</th>\n",
       "      <th>probability</th>\n",
       "      <th>prediction</th>\n",
       "    </tr>\n",
       "  </thead>\n",
       "  <tbody>\n",
       "    <tr>\n",
       "      <th>0</th>\n",
       "      <td>0.0</td>\n",
       "      <td>(1.0, 0.0, 0.0, 0.0, 0.0, 0.0, 0.0, 0.0, 0.0, ...</td>\n",
       "      <td>34</td>\n",
       "      <td>management</td>\n",
       "      <td>married</td>\n",
       "      <td>secondary</td>\n",
       "      <td>no</td>\n",
       "      <td>857</td>\n",
       "      <td>yes</td>\n",
       "      <td>no</td>\n",
       "      <td>cellular</td>\n",
       "      <td>238</td>\n",
       "      <td>6</td>\n",
       "      <td>-1</td>\n",
       "      <td>0</td>\n",
       "      <td>unknown</td>\n",
       "      <td>no</td>\n",
       "      <td>[3.0011404221003075, -3.0011404221003075]</td>\n",
       "      <td>[0.9526256207007219, 0.047374379299278124]</td>\n",
       "      <td>0.0</td>\n",
       "    </tr>\n",
       "    <tr>\n",
       "      <th>1</th>\n",
       "      <td>0.0</td>\n",
       "      <td>(1.0, 0.0, 0.0, 0.0, 0.0, 0.0, 0.0, 0.0, 0.0, ...</td>\n",
       "      <td>34</td>\n",
       "      <td>management</td>\n",
       "      <td>married</td>\n",
       "      <td>secondary</td>\n",
       "      <td>no</td>\n",
       "      <td>1007</td>\n",
       "      <td>yes</td>\n",
       "      <td>no</td>\n",
       "      <td>cellular</td>\n",
       "      <td>240</td>\n",
       "      <td>2</td>\n",
       "      <td>-1</td>\n",
       "      <td>0</td>\n",
       "      <td>unknown</td>\n",
       "      <td>no</td>\n",
       "      <td>[2.7361806373696695, -2.7361806373696695]</td>\n",
       "      <td>[0.9391281229707699, 0.06087187702923014]</td>\n",
       "      <td>0.0</td>\n",
       "    </tr>\n",
       "    <tr>\n",
       "      <th>2</th>\n",
       "      <td>0.0</td>\n",
       "      <td>(1.0, 0.0, 0.0, 0.0, 0.0, 0.0, 0.0, 0.0, 0.0, ...</td>\n",
       "      <td>36</td>\n",
       "      <td>management</td>\n",
       "      <td>married</td>\n",
       "      <td>secondary</td>\n",
       "      <td>no</td>\n",
       "      <td>644</td>\n",
       "      <td>yes</td>\n",
       "      <td>no</td>\n",
       "      <td>cellular</td>\n",
       "      <td>54</td>\n",
       "      <td>2</td>\n",
       "      <td>-1</td>\n",
       "      <td>0</td>\n",
       "      <td>unknown</td>\n",
       "      <td>no</td>\n",
       "      <td>[3.4935496498394136, -3.4935496498394136]</td>\n",
       "      <td>[0.9705036790032135, 0.02949632099678645]</td>\n",
       "      <td>0.0</td>\n",
       "    </tr>\n",
       "    <tr>\n",
       "      <th>3</th>\n",
       "      <td>0.0</td>\n",
       "      <td>(1.0, 0.0, 0.0, 0.0, 0.0, 0.0, 0.0, 0.0, 0.0, ...</td>\n",
       "      <td>42</td>\n",
       "      <td>management</td>\n",
       "      <td>married</td>\n",
       "      <td>secondary</td>\n",
       "      <td>no</td>\n",
       "      <td>-105</td>\n",
       "      <td>yes</td>\n",
       "      <td>no</td>\n",
       "      <td>cellular</td>\n",
       "      <td>60</td>\n",
       "      <td>2</td>\n",
       "      <td>-1</td>\n",
       "      <td>0</td>\n",
       "      <td>unknown</td>\n",
       "      <td>no</td>\n",
       "      <td>[3.493969052163311, -3.493969052163311]</td>\n",
       "      <td>[0.9705156825661009, 0.02948431743389912]</td>\n",
       "      <td>0.0</td>\n",
       "    </tr>\n",
       "    <tr>\n",
       "      <th>4</th>\n",
       "      <td>0.0</td>\n",
       "      <td>(1.0, 0.0, 0.0, 0.0, 0.0, 0.0, 0.0, 0.0, 0.0, ...</td>\n",
       "      <td>30</td>\n",
       "      <td>management</td>\n",
       "      <td>married</td>\n",
       "      <td>secondary</td>\n",
       "      <td>no</td>\n",
       "      <td>0</td>\n",
       "      <td>yes</td>\n",
       "      <td>no</td>\n",
       "      <td>cellular</td>\n",
       "      <td>756</td>\n",
       "      <td>3</td>\n",
       "      <td>-1</td>\n",
       "      <td>0</td>\n",
       "      <td>unknown</td>\n",
       "      <td>no</td>\n",
       "      <td>[0.7272406546051141, -0.7272406546051141]</td>\n",
       "      <td>[0.6741994614013701, 0.3258005385986299]</td>\n",
       "      <td>0.0</td>\n",
       "    </tr>\n",
       "    <tr>\n",
       "      <th>5</th>\n",
       "      <td>0.0</td>\n",
       "      <td>(1.0, 0.0, 0.0, 0.0, 0.0, 0.0, 0.0, 0.0, 0.0, ...</td>\n",
       "      <td>31</td>\n",
       "      <td>management</td>\n",
       "      <td>married</td>\n",
       "      <td>secondary</td>\n",
       "      <td>no</td>\n",
       "      <td>625</td>\n",
       "      <td>yes</td>\n",
       "      <td>no</td>\n",
       "      <td>cellular</td>\n",
       "      <td>424</td>\n",
       "      <td>1</td>\n",
       "      <td>138</td>\n",
       "      <td>1</td>\n",
       "      <td>failure</td>\n",
       "      <td>no</td>\n",
       "      <td>[1.6469794373785154, -1.6469794373785154]</td>\n",
       "      <td>[0.8384823947523131, 0.16151760524768688]</td>\n",
       "      <td>0.0</td>\n",
       "    </tr>\n",
       "    <tr>\n",
       "      <th>6</th>\n",
       "      <td>0.0</td>\n",
       "      <td>(1.0, 0.0, 0.0, 0.0, 0.0, 0.0, 0.0, 0.0, 0.0, ...</td>\n",
       "      <td>40</td>\n",
       "      <td>management</td>\n",
       "      <td>married</td>\n",
       "      <td>secondary</td>\n",
       "      <td>no</td>\n",
       "      <td>643</td>\n",
       "      <td>yes</td>\n",
       "      <td>no</td>\n",
       "      <td>cellular</td>\n",
       "      <td>74</td>\n",
       "      <td>2</td>\n",
       "      <td>256</td>\n",
       "      <td>1</td>\n",
       "      <td>failure</td>\n",
       "      <td>no</td>\n",
       "      <td>[3.191085410662119, -3.191085410662119]</td>\n",
       "      <td>[0.9604974238241051, 0.03950257617589492]</td>\n",
       "      <td>0.0</td>\n",
       "    </tr>\n",
       "    <tr>\n",
       "      <th>7</th>\n",
       "      <td>0.0</td>\n",
       "      <td>(1.0, 0.0, 0.0, 0.0, 0.0, 0.0, 0.0, 0.0, 0.0, ...</td>\n",
       "      <td>35</td>\n",
       "      <td>management</td>\n",
       "      <td>married</td>\n",
       "      <td>secondary</td>\n",
       "      <td>no</td>\n",
       "      <td>1160</td>\n",
       "      <td>yes</td>\n",
       "      <td>no</td>\n",
       "      <td>unknown</td>\n",
       "      <td>116</td>\n",
       "      <td>3</td>\n",
       "      <td>-1</td>\n",
       "      <td>0</td>\n",
       "      <td>unknown</td>\n",
       "      <td>no</td>\n",
       "      <td>[4.4547385794395495, -4.4547385794395495]</td>\n",
       "      <td>[0.9885101920891444, 0.011489807910855632]</td>\n",
       "      <td>0.0</td>\n",
       "    </tr>\n",
       "    <tr>\n",
       "      <th>8</th>\n",
       "      <td>0.0</td>\n",
       "      <td>(1.0, 0.0, 0.0, 0.0, 0.0, 0.0, 0.0, 0.0, 0.0, ...</td>\n",
       "      <td>30</td>\n",
       "      <td>management</td>\n",
       "      <td>married</td>\n",
       "      <td>secondary</td>\n",
       "      <td>no</td>\n",
       "      <td>-559</td>\n",
       "      <td>yes</td>\n",
       "      <td>yes</td>\n",
       "      <td>cellular</td>\n",
       "      <td>98</td>\n",
       "      <td>1</td>\n",
       "      <td>167</td>\n",
       "      <td>2</td>\n",
       "      <td>failure</td>\n",
       "      <td>no</td>\n",
       "      <td>[3.7786402001744603, -3.7786402001744603]</td>\n",
       "      <td>[0.9776568772440904, 0.02234312275590955]</td>\n",
       "      <td>0.0</td>\n",
       "    </tr>\n",
       "    <tr>\n",
       "      <th>9</th>\n",
       "      <td>0.0</td>\n",
       "      <td>(1.0, 0.0, 0.0, 0.0, 0.0, 0.0, 0.0, 0.0, 0.0, ...</td>\n",
       "      <td>32</td>\n",
       "      <td>management</td>\n",
       "      <td>married</td>\n",
       "      <td>secondary</td>\n",
       "      <td>no</td>\n",
       "      <td>6217</td>\n",
       "      <td>yes</td>\n",
       "      <td>yes</td>\n",
       "      <td>cellular</td>\n",
       "      <td>486</td>\n",
       "      <td>2</td>\n",
       "      <td>181</td>\n",
       "      <td>2</td>\n",
       "      <td>failure</td>\n",
       "      <td>no</td>\n",
       "      <td>[2.21154487789748, -2.21154487789748]</td>\n",
       "      <td>[0.9012814647670665, 0.0987185352329335]</td>\n",
       "      <td>0.0</td>\n",
       "    </tr>\n",
       "  </tbody>\n",
       "</table>\n",
       "</div>"
      ]
     },
     "metadata": {
      "application/vnd.databricks.v1+output": {
       "addedWidgets": {},
       "arguments": {},
       "data": "<div>\n<style scoped>\n    .dataframe tbody tr th:only-of-type {\n        vertical-align: middle;\n    }\n\n    .dataframe tbody tr th {\n        vertical-align: top;\n    }\n\n    .dataframe thead th {\n        text-align: right;\n    }\n</style>\n<table border=\"1\" class=\"dataframe\">\n  <thead>\n    <tr style=\"text-align: right;\">\n      <th></th>\n      <th>label</th>\n      <th>features</th>\n      <th>age</th>\n      <th>job</th>\n      <th>marital</th>\n      <th>education</th>\n      <th>default</th>\n      <th>balance</th>\n      <th>housing</th>\n      <th>loan</th>\n      <th>contact</th>\n      <th>duration</th>\n      <th>campaign</th>\n      <th>pdays</th>\n      <th>previous</th>\n      <th>poutcome</th>\n      <th>y</th>\n      <th>rawPrediction</th>\n      <th>probability</th>\n      <th>prediction</th>\n    </tr>\n  </thead>\n  <tbody>\n    <tr>\n      <th>0</th>\n      <td>0.0</td>\n      <td>(1.0, 0.0, 0.0, 0.0, 0.0, 0.0, 0.0, 0.0, 0.0, ...</td>\n      <td>34</td>\n      <td>management</td>\n      <td>married</td>\n      <td>secondary</td>\n      <td>no</td>\n      <td>857</td>\n      <td>yes</td>\n      <td>no</td>\n      <td>cellular</td>\n      <td>238</td>\n      <td>6</td>\n      <td>-1</td>\n      <td>0</td>\n      <td>unknown</td>\n      <td>no</td>\n      <td>[3.0011404221003075, -3.0011404221003075]</td>\n      <td>[0.9526256207007219, 0.047374379299278124]</td>\n      <td>0.0</td>\n    </tr>\n    <tr>\n      <th>1</th>\n      <td>0.0</td>\n      <td>(1.0, 0.0, 0.0, 0.0, 0.0, 0.0, 0.0, 0.0, 0.0, ...</td>\n      <td>34</td>\n      <td>management</td>\n      <td>married</td>\n      <td>secondary</td>\n      <td>no</td>\n      <td>1007</td>\n      <td>yes</td>\n      <td>no</td>\n      <td>cellular</td>\n      <td>240</td>\n      <td>2</td>\n      <td>-1</td>\n      <td>0</td>\n      <td>unknown</td>\n      <td>no</td>\n      <td>[2.7361806373696695, -2.7361806373696695]</td>\n      <td>[0.9391281229707699, 0.06087187702923014]</td>\n      <td>0.0</td>\n    </tr>\n    <tr>\n      <th>2</th>\n      <td>0.0</td>\n      <td>(1.0, 0.0, 0.0, 0.0, 0.0, 0.0, 0.0, 0.0, 0.0, ...</td>\n      <td>36</td>\n      <td>management</td>\n      <td>married</td>\n      <td>secondary</td>\n      <td>no</td>\n      <td>644</td>\n      <td>yes</td>\n      <td>no</td>\n      <td>cellular</td>\n      <td>54</td>\n      <td>2</td>\n      <td>-1</td>\n      <td>0</td>\n      <td>unknown</td>\n      <td>no</td>\n      <td>[3.4935496498394136, -3.4935496498394136]</td>\n      <td>[0.9705036790032135, 0.02949632099678645]</td>\n      <td>0.0</td>\n    </tr>\n    <tr>\n      <th>3</th>\n      <td>0.0</td>\n      <td>(1.0, 0.0, 0.0, 0.0, 0.0, 0.0, 0.0, 0.0, 0.0, ...</td>\n      <td>42</td>\n      <td>management</td>\n      <td>married</td>\n      <td>secondary</td>\n      <td>no</td>\n      <td>-105</td>\n      <td>yes</td>\n      <td>no</td>\n      <td>cellular</td>\n      <td>60</td>\n      <td>2</td>\n      <td>-1</td>\n      <td>0</td>\n      <td>unknown</td>\n      <td>no</td>\n      <td>[3.493969052163311, -3.493969052163311]</td>\n      <td>[0.9705156825661009, 0.02948431743389912]</td>\n      <td>0.0</td>\n    </tr>\n    <tr>\n      <th>4</th>\n      <td>0.0</td>\n      <td>(1.0, 0.0, 0.0, 0.0, 0.0, 0.0, 0.0, 0.0, 0.0, ...</td>\n      <td>30</td>\n      <td>management</td>\n      <td>married</td>\n      <td>secondary</td>\n      <td>no</td>\n      <td>0</td>\n      <td>yes</td>\n      <td>no</td>\n      <td>cellular</td>\n      <td>756</td>\n      <td>3</td>\n      <td>-1</td>\n      <td>0</td>\n      <td>unknown</td>\n      <td>no</td>\n      <td>[0.7272406546051141, -0.7272406546051141]</td>\n      <td>[0.6741994614013701, 0.3258005385986299]</td>\n      <td>0.0</td>\n    </tr>\n    <tr>\n      <th>5</th>\n      <td>0.0</td>\n      <td>(1.0, 0.0, 0.0, 0.0, 0.0, 0.0, 0.0, 0.0, 0.0, ...</td>\n      <td>31</td>\n      <td>management</td>\n      <td>married</td>\n      <td>secondary</td>\n      <td>no</td>\n      <td>625</td>\n      <td>yes</td>\n      <td>no</td>\n      <td>cellular</td>\n      <td>424</td>\n      <td>1</td>\n      <td>138</td>\n      <td>1</td>\n      <td>failure</td>\n      <td>no</td>\n      <td>[1.6469794373785154, -1.6469794373785154]</td>\n      <td>[0.8384823947523131, 0.16151760524768688]</td>\n      <td>0.0</td>\n    </tr>\n    <tr>\n      <th>6</th>\n      <td>0.0</td>\n      <td>(1.0, 0.0, 0.0, 0.0, 0.0, 0.0, 0.0, 0.0, 0.0, ...</td>\n      <td>40</td>\n      <td>management</td>\n      <td>married</td>\n      <td>secondary</td>\n      <td>no</td>\n      <td>643</td>\n      <td>yes</td>\n      <td>no</td>\n      <td>cellular</td>\n      <td>74</td>\n      <td>2</td>\n      <td>256</td>\n      <td>1</td>\n      <td>failure</td>\n      <td>no</td>\n      <td>[3.191085410662119, -3.191085410662119]</td>\n      <td>[0.9604974238241051, 0.03950257617589492]</td>\n      <td>0.0</td>\n    </tr>\n    <tr>\n      <th>7</th>\n      <td>0.0</td>\n      <td>(1.0, 0.0, 0.0, 0.0, 0.0, 0.0, 0.0, 0.0, 0.0, ...</td>\n      <td>35</td>\n      <td>management</td>\n      <td>married</td>\n      <td>secondary</td>\n      <td>no</td>\n      <td>1160</td>\n      <td>yes</td>\n      <td>no</td>\n      <td>unknown</td>\n      <td>116</td>\n      <td>3</td>\n      <td>-1</td>\n      <td>0</td>\n      <td>unknown</td>\n      <td>no</td>\n      <td>[4.4547385794395495, -4.4547385794395495]</td>\n      <td>[0.9885101920891444, 0.011489807910855632]</td>\n      <td>0.0</td>\n    </tr>\n    <tr>\n      <th>8</th>\n      <td>0.0</td>\n      <td>(1.0, 0.0, 0.0, 0.0, 0.0, 0.0, 0.0, 0.0, 0.0, ...</td>\n      <td>30</td>\n      <td>management</td>\n      <td>married</td>\n      <td>secondary</td>\n      <td>no</td>\n      <td>-559</td>\n      <td>yes</td>\n      <td>yes</td>\n      <td>cellular</td>\n      <td>98</td>\n      <td>1</td>\n      <td>167</td>\n      <td>2</td>\n      <td>failure</td>\n      <td>no</td>\n      <td>[3.7786402001744603, -3.7786402001744603]</td>\n      <td>[0.9776568772440904, 0.02234312275590955]</td>\n      <td>0.0</td>\n    </tr>\n    <tr>\n      <th>9</th>\n      <td>0.0</td>\n      <td>(1.0, 0.0, 0.0, 0.0, 0.0, 0.0, 0.0, 0.0, 0.0, ...</td>\n      <td>32</td>\n      <td>management</td>\n      <td>married</td>\n      <td>secondary</td>\n      <td>no</td>\n      <td>6217</td>\n      <td>yes</td>\n      <td>yes</td>\n      <td>cellular</td>\n      <td>486</td>\n      <td>2</td>\n      <td>181</td>\n      <td>2</td>\n      <td>failure</td>\n      <td>no</td>\n      <td>[2.21154487789748, -2.21154487789748]</td>\n      <td>[0.9012814647670665, 0.0987185352329335]</td>\n      <td>0.0</td>\n    </tr>\n  </tbody>\n</table>\n</div>",
       "datasetInfos": [],
       "metadata": {},
       "removedWidgets": [],
       "textData": null,
       "type": "htmlSandbox"
      }
     },
     "output_type": "display_data"
    }
   ],
   "source": [
    "pd.DataFrame(predictions.take(10),columns=colonnes)"
   ]
  },
  {
   "cell_type": "code",
   "execution_count": 0,
   "metadata": {
    "application/vnd.databricks.v1+cell": {
     "cellMetadata": {},
     "inputWidgets": {},
     "nuid": "0d37835a-2272-44c6-84e9-58f0772dfc7b",
     "showTitle": false,
     "title": ""
    }
   },
   "outputs": [],
   "source": []
  },
  {
   "cell_type": "markdown",
   "metadata": {
    "application/vnd.databricks.v1+cell": {
     "cellMetadata": {},
     "inputWidgets": {},
     "nuid": "3aca3813-20f0-4dc1-971e-4cb494341b16",
     "showTitle": false,
     "title": ""
    },
    "id": "Z-2MVhsn606K"
   },
   "source": [
    "5. What is the area under the curve?\n",
    "\n",
    "    You can find it with the `evaluator.evaluate()` function."
   ]
  },
  {
   "cell_type": "code",
   "execution_count": 0,
   "metadata": {
    "application/vnd.databricks.v1+cell": {
     "cellMetadata": {},
     "inputWidgets": {},
     "nuid": "5308cabd-37c2-43d2-bb24-19d638ec54e9",
     "showTitle": false,
     "title": ""
    },
    "colab": {
     "base_uri": "https://localhost:8080/"
    },
    "id": "-bH62bSe606K",
    "outputId": "eb427a7f-ac11-4e3b-dc59-8f96ca0bc602"
   },
   "outputs": [
    {
     "data": {
      "text/plain": [
       "Out[141]: 0.8805037738575602"
      ]
     },
     "metadata": {
      "application/vnd.databricks.v1+output": {
       "addedWidgets": {},
       "arguments": {},
       "data": "Out[141]: 0.8805037738575602",
       "datasetInfos": [],
       "metadata": {},
       "removedWidgets": [],
       "type": "ansi"
      }
     },
     "output_type": "display_data"
    }
   ],
   "source": [
    "from pyspark.ml.evaluation import BinaryClassificationEvaluator\n",
    "\n",
    "evaluator = BinaryClassificationEvaluator()\n",
    "evaluator.evaluate(predictions)"
   ]
  },
  {
   "cell_type": "markdown",
   "metadata": {
    "application/vnd.databricks.v1+cell": {
     "cellMetadata": {},
     "inputWidgets": {},
     "nuid": "9a5ca7ac-9dd1-4610-93c2-41a53c40da74",
     "showTitle": false,
     "title": ""
    },
    "id": "iL4_IuwT606L"
   },
   "source": [
    "## OPTIONAL: HyperParameter Tuning a Gradient-Boosted Tree Classifier\n",
    "\n",
    "1. Fit and make predictions using `GBTClassifier`. The syntax will match what we did above with `LogisticRegression`."
   ]
  },
  {
   "cell_type": "code",
   "execution_count": 0,
   "metadata": {
    "application/vnd.databricks.v1+cell": {
     "cellMetadata": {},
     "inputWidgets": {},
     "nuid": "e207bd8b-47a0-435a-8e82-affae0da0b9c",
     "showTitle": false,
     "title": ""
    },
    "colab": {
     "base_uri": "https://localhost:8080/"
    },
    "id": "ROwTeFaz606L",
    "outputId": "e4823b97-3e5c-4a18-fb62-4d46e5c31c97"
   },
   "outputs": [
    {
     "data": {
      "text/plain": [
       "+---+----------+-----+--------------------+----------+--------------------+\n",
       "|age|       job|label|       rawPrediction|prediction|         probability|\n",
       "+---+----------+-----+--------------------+----------+--------------------+\n",
       "| 34|management|  0.0|[1.00548986319622...|       0.0|[0.88194506748674...|\n",
       "| 34|management|  0.0|[0.83038956283655...|       0.0|[0.84034256368426...|\n",
       "| 36|management|  0.0|[1.26810003890762...|       0.0|[0.92664093572542...|\n",
       "| 42|management|  0.0|[1.30795435201881...|       0.0|[0.93187844529043...|\n",
       "| 30|management|  0.0|[0.27354941571324...|       0.0|[0.63346223616373...|\n",
       "| 31|management|  0.0|[0.86977736406208...|       0.0|[0.85063049883482...|\n",
       "| 40|management|  0.0|[1.26381037402943...|       0.0|[0.92605559530699...|\n",
       "| 35|management|  0.0|[1.24711898877801...|       0.0|[0.92373689230225...|\n",
       "| 30|management|  0.0|[1.18496161736113...|       0.0|[0.91450485880750...|\n",
       "| 32|management|  0.0|[0.46262576621470...|       0.0|[0.71611093214838...|\n",
       "+---+----------+-----+--------------------+----------+--------------------+\n",
       "only showing top 10 rows\n",
       "\n"
      ]
     },
     "metadata": {
      "application/vnd.databricks.v1+output": {
       "addedWidgets": {},
       "arguments": {},
       "data": "+---+----------+-----+--------------------+----------+--------------------+\n|age|       job|label|       rawPrediction|prediction|         probability|\n+---+----------+-----+--------------------+----------+--------------------+\n| 34|management|  0.0|[1.00548986319622...|       0.0|[0.88194506748674...|\n| 34|management|  0.0|[0.83038956283655...|       0.0|[0.84034256368426...|\n| 36|management|  0.0|[1.26810003890762...|       0.0|[0.92664093572542...|\n| 42|management|  0.0|[1.30795435201881...|       0.0|[0.93187844529043...|\n| 30|management|  0.0|[0.27354941571324...|       0.0|[0.63346223616373...|\n| 31|management|  0.0|[0.86977736406208...|       0.0|[0.85063049883482...|\n| 40|management|  0.0|[1.26381037402943...|       0.0|[0.92605559530699...|\n| 35|management|  0.0|[1.24711898877801...|       0.0|[0.92373689230225...|\n| 30|management|  0.0|[1.18496161736113...|       0.0|[0.91450485880750...|\n| 32|management|  0.0|[0.46262576621470...|       0.0|[0.71611093214838...|\n+---+----------+-----+--------------------+----------+--------------------+\nonly showing top 10 rows\n\n",
       "datasetInfos": [],
       "metadata": {},
       "removedWidgets": [],
       "type": "ansi"
      }
     },
     "output_type": "display_data"
    }
   ],
   "source": [
    "from pyspark.ml.classification import GBTClassifier\n",
    "\n",
    "gbt = GBTClassifier(maxIter=10)\n",
    "gbtModel = gbt.fit(train)\n",
    "predictions = gbtModel.transform(test)\n",
    "predictions.select('age', 'job', 'label', 'rawPrediction', 'prediction', 'probability').show(10)"
   ]
  },
  {
   "cell_type": "markdown",
   "metadata": {
    "application/vnd.databricks.v1+cell": {
     "cellMetadata": {},
     "inputWidgets": {},
     "nuid": "eafee88c-db02-4818-ae96-6165bd61ca1a",
     "showTitle": false,
     "title": ""
    },
    "id": "5Od9M0JV606L"
   },
   "source": [
    "2. Perform cross-validation to compare different parameters.\n",
    "\n",
    "    Note that it can take a while because it's training over many gradient boosted trees. Give it at least 10 minutes to complete."
   ]
  },
  {
   "cell_type": "code",
   "execution_count": 0,
   "metadata": {
    "application/vnd.databricks.v1+cell": {
     "cellMetadata": {},
     "inputWidgets": {},
     "nuid": "0e9fcb9e-a99a-41fa-bc9f-e58a5f5513bb",
     "showTitle": false,
     "title": ""
    },
    "colab": {
     "base_uri": "https://localhost:8080/"
    },
    "id": "_Upc0CJf606L",
    "outputId": "62d9aae2-ed37-491d-b651-1c5ec81d8e2e"
   },
   "outputs": [
    {
     "data": {
      "text/plain": [
       "Out[143]: 0.8811929613943822"
      ]
     },
     "metadata": {
      "application/vnd.databricks.v1+output": {
       "addedWidgets": {},
       "arguments": {},
       "data": "Out[143]: 0.8811929613943822",
       "datasetInfos": [],
       "metadata": {},
       "removedWidgets": [],
       "type": "ansi"
      }
     },
     "output_type": "display_data"
    }
   ],
   "source": [
    "from pyspark.ml.tuning import ParamGridBuilder, CrossValidator\n",
    "paramGrid = (ParamGridBuilder()\n",
    "             .addGrid(gbt.maxDepth, [2, 4, 6])\n",
    "             .addGrid(gbt.maxBins, [20, 60])\n",
    "             .addGrid(gbt.maxIter, [10, 20])\n",
    "             .build())\n",
    "cv = CrossValidator(estimator=gbt, estimatorParamMaps=paramGrid, evaluator=evaluator, numFolds=5)\n",
    "cvModel = cv.fit(train)\n",
    "predictions = cvModel.transform(test)\n",
    "evaluator.evaluate(predictions)"
   ]
  },
  {
   "cell_type": "markdown",
   "metadata": {
    "application/vnd.databricks.v1+cell": {
     "cellMetadata": {},
     "inputWidgets": {},
     "nuid": "b0d5e42e-f942-4f7a-a3ca-16589e13c2e2",
     "showTitle": false,
     "title": ""
    },
    "id": "psf7A_uz606M"
   },
   "source": [
    "## Acknowledgements"
   ]
  },
  {
   "cell_type": "markdown",
   "metadata": {
    "application/vnd.databricks.v1+cell": {
     "cellMetadata": {},
     "inputWidgets": {},
     "nuid": "9c6d1406-e051-42d4-baf9-2eff2ce0e403",
     "showTitle": false,
     "title": ""
    },
    "id": "HH1MXhRU606M"
   },
   "source": [
    "This notebook is adapted from [Machine Learning with PySpark and MLlib](https://towardsdatascience.com/machine-learning-with-pyspark-and-mllib-solving-a-binary-classification-problem-96396065d2aa)"
   ]
  }
 ],
 "metadata": {
  "application/vnd.databricks.v1+notebook": {
   "dashboards": [],
   "language": "python",
   "notebookMetadata": {
    "pythonIndentUnit": 4
   },
   "notebookName": "subscription-prediction",
   "notebookOrigID": 1665095427324433,
   "widgets": {}
  },
  "colab": {
   "collapsed_sections": [],
   "provenance": [],
   "toc_visible": true
  },
  "kernelspec": {
   "display_name": "Python 3 (ipykernel)",
   "language": "python",
   "name": "python3"
  },
  "language_info": {
   "codemirror_mode": {
    "name": "ipython",
    "version": 3
   },
   "file_extension": ".py",
   "mimetype": "text/x-python",
   "name": "python",
   "nbconvert_exporter": "python",
   "pygments_lexer": "ipython3",
   "version": "3.9.7"
  },
  "toc": {
   "base_numbering": 1,
   "nav_menu": {},
   "number_sections": true,
   "sideBar": true,
   "skip_h1_title": false,
   "title_cell": "Table of Contents",
   "title_sidebar": "Contents",
   "toc_cell": false,
   "toc_position": {},
   "toc_section_display": true,
   "toc_window_display": false
  },
  "vscode": {
   "interpreter": {
    "hash": "7fcb8f466a33c63bbe8193dd1a7db3fbb7dc8372d899e486a4ca6094b075b91d"
   }
  }
 },
 "nbformat": 4,
 "nbformat_minor": 1
}
