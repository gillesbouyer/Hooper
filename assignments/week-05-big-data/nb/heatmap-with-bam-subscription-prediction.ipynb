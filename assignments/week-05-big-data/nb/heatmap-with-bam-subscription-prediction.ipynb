{
 "cells": [
  {
   "cell_type": "markdown",
   "metadata": {
    "application/vnd.databricks.v1+cell": {
     "cellMetadata": {},
     "inputWidgets": {},
     "nuid": "cb553c53-e540-4e7f-89a8-4540a8dff5af",
     "showTitle": false,
     "title": ""
    },
    "id": "lmil5P4G6052"
   },
   "source": [
    "<p align = \"center\" draggable=”false” ><img src=\"https://user-images.githubusercontent.com/37101144/161836199-fdb0219d-0361-4988-bf26-48b0fad160a3.png\" \n",
    "     width=\"200px\"\n",
    "     height=\"auto\"/>\n",
    "</p>"
   ]
  },
  {
   "cell_type": "markdown",
   "metadata": {
    "application/vnd.databricks.v1+cell": {
     "cellMetadata": {},
     "inputWidgets": {},
     "nuid": "f25fead1-c5a9-4222-a41c-5d1634dd3446",
     "showTitle": false,
     "title": ""
    },
    "id": "oQU8pT9m6055"
   },
   "source": [
    "# <h1 align=\"center\" id=\"heading\">Subscription Prediction with Delta Lake, PySpark, and MLlib</h1>"
   ]
  },
  {
   "cell_type": "markdown",
   "metadata": {
    "application/vnd.databricks.v1+cell": {
     "cellMetadata": {},
     "inputWidgets": {},
     "nuid": "6d66ab91-f02b-42c2-8fb4-8e154767c216",
     "showTitle": false,
     "title": ""
    },
    "id": "vxs4CnZ8MYR9"
   },
   "source": [
    "# Spark Environment\n",
    "\n",
    "Make sure that you open this notebook in your Spark environment!"
   ]
  },
  {
   "cell_type": "code",
   "execution_count": 0,
   "metadata": {
    "application/vnd.databricks.v1+cell": {
     "cellMetadata": {},
     "inputWidgets": {},
     "nuid": "6a7ff6f5-53e7-4b42-ae42-3cfbcabdd757",
     "showTitle": false,
     "title": ""
    },
    "id": "i5lvRImyZQKy"
   },
   "outputs": [],
   "source": [
    " #!pip install -U -q pyspark delta-spark # If you use Colab uncomment this line"
   ]
  },
  {
   "cell_type": "markdown",
   "metadata": {
    "application/vnd.databricks.v1+cell": {
     "cellMetadata": {},
     "inputWidgets": {},
     "nuid": "7222cf90-a806-40d3-9008-3a39c0c73608",
     "showTitle": false,
     "title": ""
    },
    "id": "B30ILkiC6056"
   },
   "source": [
    "## Learning Objectives"
   ]
  },
  {
   "cell_type": "markdown",
   "metadata": {
    "application/vnd.databricks.v1+cell": {
     "cellMetadata": {},
     "inputWidgets": {},
     "nuid": "b393d097-149c-47c3-ac0c-ce63099f2d5e",
     "showTitle": false,
     "title": ""
    },
    "id": "Dvbp4ifI6057"
   },
   "source": [
    "At the end of this session, you will be able to \n",
    "\n",
    "- Load, save, partition data with Delta Lake tables\n",
    "- Explore data with Spark DataFrames \n",
    "- Build a pipeline in MLlib for machine learning workflow\n",
    "- Fit a logistic regression model, make predictions, and evaluate the model"
   ]
  },
  {
   "cell_type": "markdown",
   "metadata": {
    "application/vnd.databricks.v1+cell": {
     "cellMetadata": {},
     "inputWidgets": {},
     "nuid": "2571c03a-cae9-4b9b-9861-f040eb696b2a",
     "showTitle": false,
     "title": ""
    },
    "id": "tTvh8EkV6057"
   },
   "source": [
    "## Part 1: Data Loader\n",
    "\n",
    "We are using a dataset from the UCI Machine Learning Repository.\n",
    "\n",
    "1. Use `wget` to download the dataset. Then use `ls` to verify that the `bank.zip` file is downloaded."
   ]
  },
  {
   "cell_type": "code",
   "execution_count": 0,
   "metadata": {
    "application/vnd.databricks.v1+cell": {
     "cellMetadata": {},
     "inputWidgets": {},
     "nuid": "5e63d4f9-86ea-450f-872e-603aacb6f096",
     "showTitle": false,
     "title": ""
    },
    "colab": {
     "base_uri": "https://localhost:8080/"
    },
    "id": "z0Su1lUX6058",
    "outputId": "dcf3d53c-06ad-44d6-db86-5c47bd11420e"
   },
   "outputs": [
    {
     "data": {
      "text/plain": [
       "--2023-01-15 14:14:41--  https://archive.ics.uci.edu/ml/machine-learning-databases/00222/bank.zip\n",
       "Resolving archive.ics.uci.edu (archive.ics.uci.edu)... 128.195.10.252\n",
       "Connecting to archive.ics.uci.edu (archive.ics.uci.edu)|128.195.10.252|:443... connected.\n",
       "HTTP request sent, awaiting response... 200 OK\n",
       "Length: 579043 (565K) [application/x-httpd-php]\n",
       "Saving to: ‘bank.zip.1’\n",
       "\n",
       "     0K .......... .......... .......... .......... ..........  8%  356K 1s\n",
       "    50K .......... .......... .......... .......... .......... 17%  712K 1s\n",
       "   100K .......... .......... .......... .......... .......... 26%  722K 1s\n",
       "   150K .......... .......... .......... .......... .......... 35% 48.4M 1s\n",
       "   200K .......... .......... .......... .......... .......... 44%  733K 0s\n",
       "   250K .......... .......... .......... .......... .......... 53% 68.9M 0s\n",
       "   300K .......... .......... .......... .......... .......... 61% 80.9M 0s\n",
       "   350K .......... .......... .......... .......... .......... 70% 92.2M 0s\n",
       "   400K .......... .......... .......... .......... .......... 79% 67.2M 0s\n",
       "   450K .......... .......... .......... .......... .......... 88%  746K 0s\n",
       "   500K .......... .......... .......... .......... .......... 97% 75.2M 0s\n",
       "   550K .......... .....                                      100% 87.2M=0.4s\n",
       "\n",
       "2023-01-15 14:14:42 (1.32 MB/s) - ‘bank.zip.1’ saved [579043/579043]\n",
       "\n"
      ]
     },
     "metadata": {
      "application/vnd.databricks.v1+output": {
       "addedWidgets": {},
       "arguments": {},
       "data": "--2023-01-15 14:14:41--  https://archive.ics.uci.edu/ml/machine-learning-databases/00222/bank.zip\nResolving archive.ics.uci.edu (archive.ics.uci.edu)... 128.195.10.252\nConnecting to archive.ics.uci.edu (archive.ics.uci.edu)|128.195.10.252|:443... connected.\nHTTP request sent, awaiting response... 200 OK\nLength: 579043 (565K) [application/x-httpd-php]\nSaving to: ‘bank.zip.1’\n\n     0K .......... .......... .......... .......... ..........  8%  356K 1s\n    50K .......... .......... .......... .......... .......... 17%  712K 1s\n   100K .......... .......... .......... .......... .......... 26%  722K 1s\n   150K .......... .......... .......... .......... .......... 35% 48.4M 1s\n   200K .......... .......... .......... .......... .......... 44%  733K 0s\n   250K .......... .......... .......... .......... .......... 53% 68.9M 0s\n   300K .......... .......... .......... .......... .......... 61% 80.9M 0s\n   350K .......... .......... .......... .......... .......... 70% 92.2M 0s\n   400K .......... .......... .......... .......... .......... 79% 67.2M 0s\n   450K .......... .......... .......... .......... .......... 88%  746K 0s\n   500K .......... .......... .......... .......... .......... 97% 75.2M 0s\n   550K .......... .....                                      100% 87.2M=0.4s\n\n2023-01-15 14:14:42 (1.32 MB/s) - ‘bank.zip.1’ saved [579043/579043]\n\n",
       "datasetInfos": [],
       "metadata": {},
       "removedWidgets": [],
       "type": "ansi"
      }
     },
     "output_type": "display_data"
    }
   ],
   "source": [
    "%%sh\n",
    "wget https://archive.ics.uci.edu/ml/machine-learning-databases/00222/bank.zip"
   ]
  },
  {
   "cell_type": "code",
   "execution_count": 0,
   "metadata": {
    "application/vnd.databricks.v1+cell": {
     "cellMetadata": {},
     "inputWidgets": {},
     "nuid": "14241a78-c5ad-4962-9322-e0e6bdf3737f",
     "showTitle": false,
     "title": ""
    },
    "colab": {
     "base_uri": "https://localhost:8080/"
    },
    "id": "0gAxRiyy605-",
    "outputId": "9023a057-930e-458c-dd8e-2493d8bc8120"
   },
   "outputs": [
    {
     "data": {
      "text/plain": [
       "\u001b[0m\u001b[01;34mazure\u001b[0m/          bank.csv    \u001b[01;34mconf\u001b[0m/                        \u001b[01;34mlogs\u001b[0m/\r\n",
       "bank-full.csv   bank.zip    \u001b[01;34meventlogs\u001b[0m/                   \u001b[01;32mpreload_class.lst\u001b[0m*\r\n",
       "bank-names.txt  bank.zip.1  \u001b[01;32mhadoop_accessed_config.lst\u001b[0m*  \u001b[01;34mtmp\u001b[0m/\r\n"
      ]
     },
     "metadata": {
      "application/vnd.databricks.v1+output": {
       "addedWidgets": {},
       "arguments": {},
       "data": "\u001b[0m\u001b[01;34mazure\u001b[0m/          bank.csv    \u001b[01;34mconf\u001b[0m/                        \u001b[01;34mlogs\u001b[0m/\r\nbank-full.csv   bank.zip    \u001b[01;34meventlogs\u001b[0m/                   \u001b[01;32mpreload_class.lst\u001b[0m*\r\nbank-names.txt  bank.zip.1  \u001b[01;32mhadoop_accessed_config.lst\u001b[0m*  \u001b[01;34mtmp\u001b[0m/\r\n",
       "datasetInfos": [],
       "metadata": {},
       "removedWidgets": [],
       "type": "ansi"
      }
     },
     "output_type": "display_data"
    }
   ],
   "source": [
    "ls"
   ]
  },
  {
   "cell_type": "markdown",
   "metadata": {
    "application/vnd.databricks.v1+cell": {
     "cellMetadata": {},
     "inputWidgets": {},
     "nuid": "3443e612-e53e-459b-bc7d-4b2e03814c27",
     "showTitle": false,
     "title": ""
    },
    "id": "cGBxoptx605-"
   },
   "source": [
    "2. Unzip the file and use `ls` to see the files."
   ]
  },
  {
   "cell_type": "code",
   "execution_count": 0,
   "metadata": {
    "application/vnd.databricks.v1+cell": {
     "cellMetadata": {},
     "inputWidgets": {},
     "nuid": "000511fa-ff85-406c-9186-34c56a0369a6",
     "showTitle": false,
     "title": ""
    },
    "colab": {
     "base_uri": "https://localhost:8080/"
    },
    "id": "hySwTxHs605_",
    "outputId": "f9ac5ddd-807a-49e0-ca45-bc00e3bb8ac6"
   },
   "outputs": [
    {
     "data": {
      "text/plain": [
       "Archive:  bank.zip\n",
       "  inflating: bank-full.csv           \n",
       "  inflating: bank-names.txt          \n",
       "  inflating: bank.csv                \n"
      ]
     },
     "metadata": {
      "application/vnd.databricks.v1+output": {
       "addedWidgets": {},
       "arguments": {},
       "data": "Archive:  bank.zip\n  inflating: bank-full.csv           \n  inflating: bank-names.txt          \n  inflating: bank.csv                \n",
       "datasetInfos": [],
       "metadata": {},
       "removedWidgets": [],
       "type": "ansi"
      }
     },
     "output_type": "display_data"
    }
   ],
   "source": [
    "%%sh\n",
    "unzip bank.zip"
   ]
  },
  {
   "cell_type": "code",
   "execution_count": 0,
   "metadata": {
    "application/vnd.databricks.v1+cell": {
     "cellMetadata": {},
     "inputWidgets": {},
     "nuid": "2349ba91-fc61-456f-96bf-5f5aea6b32d1",
     "showTitle": false,
     "title": ""
    },
    "colab": {
     "base_uri": "https://localhost:8080/"
    },
    "id": "K6UDQW1y605_",
    "outputId": "4a312342-54ef-4722-98b0-38005bbcd06f"
   },
   "outputs": [
    {
     "data": {
      "text/plain": [
       "total 7.3M\r\n",
       "drwxr-xr-x 2 root root 4.0K Jan 15 13:58 \u001b[0m\u001b[01;34mazure\u001b[0m/\r\n",
       "-rw-r--r-- 1 root root 4.4M Feb 14  2012 bank-full.csv\r\n",
       "-rw-r--r-- 1 root root 3.8K Feb 14  2012 bank-names.txt\r\n",
       "-rw-r--r-- 1 root root 451K Feb 14  2012 bank.csv\r\n",
       "-rw-r--r-- 1 root root 566K Feb 14  2012 bank.zip\r\n",
       "-rw-r--r-- 1 root root 566K Feb 14  2012 bank.zip.1\r\n",
       "drwxr-xr-x 2 root root 4.0K Jan 15 13:58 \u001b[01;34mconf\u001b[0m/\r\n",
       "drwxr-xr-x 3 root root 4.0K Jan 15 14:00 \u001b[01;34meventlogs\u001b[0m/\r\n",
       "-r-xr-xr-x 1 root root 3.0K Jan 15 13:58 \u001b[01;32mhadoop_accessed_config.lst\u001b[0m*\r\n",
       "drwxr-xr-x 2 root root 4.0K Jan 15 14:01 \u001b[01;34mlogs\u001b[0m/\r\n",
       "-r-xr-xr-x 1 root root 1.3M Jan 15 13:58 \u001b[01;32mpreload_class.lst\u001b[0m*\r\n",
       "drwxr-xr-x 3 root root 4.0K Jan 15 14:01 \u001b[01;34mtmp\u001b[0m/\r\n"
      ]
     },
     "metadata": {
      "application/vnd.databricks.v1+output": {
       "addedWidgets": {},
       "arguments": {},
       "data": "total 7.3M\r\ndrwxr-xr-x 2 root root 4.0K Jan 15 13:58 \u001b[0m\u001b[01;34mazure\u001b[0m/\r\n-rw-r--r-- 1 root root 4.4M Feb 14  2012 bank-full.csv\r\n-rw-r--r-- 1 root root 3.8K Feb 14  2012 bank-names.txt\r\n-rw-r--r-- 1 root root 451K Feb 14  2012 bank.csv\r\n-rw-r--r-- 1 root root 566K Feb 14  2012 bank.zip\r\n-rw-r--r-- 1 root root 566K Feb 14  2012 bank.zip.1\r\ndrwxr-xr-x 2 root root 4.0K Jan 15 13:58 \u001b[01;34mconf\u001b[0m/\r\ndrwxr-xr-x 3 root root 4.0K Jan 15 14:00 \u001b[01;34meventlogs\u001b[0m/\r\n-r-xr-xr-x 1 root root 3.0K Jan 15 13:58 \u001b[01;32mhadoop_accessed_config.lst\u001b[0m*\r\ndrwxr-xr-x 2 root root 4.0K Jan 15 14:01 \u001b[01;34mlogs\u001b[0m/\r\n-r-xr-xr-x 1 root root 1.3M Jan 15 13:58 \u001b[01;32mpreload_class.lst\u001b[0m*\r\ndrwxr-xr-x 3 root root 4.0K Jan 15 14:01 \u001b[01;34mtmp\u001b[0m/\r\n",
       "datasetInfos": [],
       "metadata": {},
       "removedWidgets": [],
       "type": "ansi"
      }
     },
     "output_type": "display_data"
    }
   ],
   "source": [
    "ls -lh"
   ]
  },
  {
   "cell_type": "markdown",
   "metadata": {
    "application/vnd.databricks.v1+cell": {
     "cellMetadata": {},
     "inputWidgets": {},
     "nuid": "6d60d21c-4df9-4b37-b1e2-4e2ebc1af4e6",
     "showTitle": false,
     "title": ""
    }
   },
   "source": [
    "3. Inspect the dataset and note if there is anything to be aware of in the dataset structure."
   ]
  },
  {
   "cell_type": "code",
   "execution_count": 0,
   "metadata": {
    "application/vnd.databricks.v1+cell": {
     "cellMetadata": {},
     "inputWidgets": {},
     "nuid": "bbb703da-20cf-4acb-8ace-37c6bd0182bc",
     "showTitle": false,
     "title": ""
    },
    "colab": {
     "base_uri": "https://localhost:8080/"
    },
    "id": "bsKTEA_kJm1Z",
    "outputId": "cc90db82-213d-4362-c8c2-38ab9373abbf"
   },
   "outputs": [
    {
     "data": {
      "text/plain": [
       "4522 bank.csv\n"
      ]
     },
     "metadata": {
      "application/vnd.databricks.v1+output": {
       "addedWidgets": {},
       "arguments": {},
       "data": "4522 bank.csv\n",
       "datasetInfos": [],
       "metadata": {},
       "removedWidgets": [],
       "type": "ansi"
      }
     },
     "output_type": "display_data"
    }
   ],
   "source": [
    "%%sh\n",
    "wc -l bank.csv"
   ]
  },
  {
   "cell_type": "code",
   "execution_count": 0,
   "metadata": {
    "application/vnd.databricks.v1+cell": {
     "cellMetadata": {},
     "inputWidgets": {},
     "nuid": "54124929-bbae-45ff-a5f3-4842317b574b",
     "showTitle": false,
     "title": ""
    },
    "colab": {
     "base_uri": "https://localhost:8080/"
    },
    "id": "PUOdYkMKRrFf",
    "outputId": "61dd1ff6-8d43-4e2a-f04f-94b6bc3da874"
   },
   "outputs": [
    {
     "data": {
      "text/plain": [
       "\"age\";\"job\";\"marital\";\"education\";\"default\";\"balance\";\"housing\";\"loan\";\"contact\";\"day\";\"month\";\"duration\";\"campaign\";\"pdays\";\"previous\";\"poutcome\";\"y\"\n",
       "30;\"unemployed\";\"married\";\"primary\";\"no\";1787;\"no\";\"no\";\"cellular\";19;\"oct\";79;1;-1;0;\"unknown\";\"no\"\n",
       "33;\"services\";\"married\";\"secondary\";\"no\";4789;\"yes\";\"yes\";\"cellular\";11;\"may\";220;1;339;4;\"failure\";\"no\"\n",
       "35;\"management\";\"single\";\"tertiary\";\"no\";1350;\"yes\";\"no\";\"cellular\";16;\"apr\";185;1;330;1;\"failure\";\"no\"\n",
       "30;\"management\";\"married\";\"tertiary\";\"no\";1476;\"yes\";\"yes\";\"unknown\";3;\"jun\";199;4;-1;0;\"unknown\";\"no\"\n",
       "59;\"blue-collar\";\"married\";\"secondary\";\"no\";0;\"yes\";\"no\";\"unknown\";5;\"may\";226;1;-1;0;\"unknown\";\"no\"\n",
       "35;\"management\";\"single\";\"tertiary\";\"no\";747;\"no\";\"no\";\"cellular\";23;\"feb\";141;2;176;3;\"failure\";\"no\"\n",
       "36;\"self-employed\";\"married\";\"tertiary\";\"no\";307;\"yes\";\"no\";\"cellular\";14;\"may\";341;1;330;2;\"other\";\"no\"\n",
       "39;\"technician\";\"married\";\"secondary\";\"no\";147;\"yes\";\"no\";\"cellular\";6;\"may\";151;2;-1;0;\"unknown\";\"no\"\n",
       "41;\"entrepreneur\";\"married\";\"tertiary\";\"no\";221;\"yes\";\"no\";\"unknown\";14;\"may\";57;2;-1;0;\"unknown\";\"no\"\n"
      ]
     },
     "metadata": {
      "application/vnd.databricks.v1+output": {
       "addedWidgets": {},
       "arguments": {},
       "data": "\"age\";\"job\";\"marital\";\"education\";\"default\";\"balance\";\"housing\";\"loan\";\"contact\";\"day\";\"month\";\"duration\";\"campaign\";\"pdays\";\"previous\";\"poutcome\";\"y\"\n30;\"unemployed\";\"married\";\"primary\";\"no\";1787;\"no\";\"no\";\"cellular\";19;\"oct\";79;1;-1;0;\"unknown\";\"no\"\n33;\"services\";\"married\";\"secondary\";\"no\";4789;\"yes\";\"yes\";\"cellular\";11;\"may\";220;1;339;4;\"failure\";\"no\"\n35;\"management\";\"single\";\"tertiary\";\"no\";1350;\"yes\";\"no\";\"cellular\";16;\"apr\";185;1;330;1;\"failure\";\"no\"\n30;\"management\";\"married\";\"tertiary\";\"no\";1476;\"yes\";\"yes\";\"unknown\";3;\"jun\";199;4;-1;0;\"unknown\";\"no\"\n59;\"blue-collar\";\"married\";\"secondary\";\"no\";0;\"yes\";\"no\";\"unknown\";5;\"may\";226;1;-1;0;\"unknown\";\"no\"\n35;\"management\";\"single\";\"tertiary\";\"no\";747;\"no\";\"no\";\"cellular\";23;\"feb\";141;2;176;3;\"failure\";\"no\"\n36;\"self-employed\";\"married\";\"tertiary\";\"no\";307;\"yes\";\"no\";\"cellular\";14;\"may\";341;1;330;2;\"other\";\"no\"\n39;\"technician\";\"married\";\"secondary\";\"no\";147;\"yes\";\"no\";\"cellular\";6;\"may\";151;2;-1;0;\"unknown\";\"no\"\n41;\"entrepreneur\";\"married\";\"tertiary\";\"no\";221;\"yes\";\"no\";\"unknown\";14;\"may\";57;2;-1;0;\"unknown\";\"no\"\n",
       "datasetInfos": [],
       "metadata": {},
       "removedWidgets": [],
       "type": "ansi"
      }
     },
     "output_type": "display_data"
    }
   ],
   "source": [
    "%%sh\n",
    "head bank.csv"
   ]
  },
  {
   "cell_type": "markdown",
   "metadata": {
    "application/vnd.databricks.v1+cell": {
     "cellMetadata": {},
     "inputWidgets": {},
     "nuid": "14a08ff2-d656-467e-a524-cb5987cf701a",
     "showTitle": false,
     "title": ""
    },
    "id": "1CLp_YaaNRvB"
   },
   "source": [
    "4. Create a Delta table for `bank.csv` (Why Delta Lake? Here's a read [here](https://medium.com/@databeans-blogs/delta-lake-the-data-engineers-missing-piece-part-1-ebab66a3f8c0?source) from a data engineer's perspective)\n",
    "\n",
    "    We first set up a Python project `ml-bank`, configure the SparkSession with the `configure_spark_with_delta_pip()` utility function in Delta Lake:"
   ]
  },
  {
   "cell_type": "code",
   "execution_count": 0,
   "metadata": {
    "application/vnd.databricks.v1+cell": {
     "cellMetadata": {},
     "inputWidgets": {},
     "nuid": "59188528-edd7-478e-82f9-f5a9dacaacdc",
     "showTitle": false,
     "title": ""
    },
    "id": "2VvPSH-2DVMy"
   },
   "outputs": [],
   "source": [
    "import pyspark\n",
    "from delta import *\n",
    "\n",
    "builder = pyspark.sql.SparkSession.builder.appName(\"ml-bank\") \\\n",
    "  .config(\"spark.sql.extensions\", \"io.delta.sql.DeltaSparkSessionExtension\") \\\n",
    "  .config(\"spark.sql.catalog.spark_catalog\", \"org.apache.spark.sql.delta.catalog.DeltaCatalog\")\n",
    "\n",
    "spark = configure_spark_with_delta_pip(builder).getOrCreate()"
   ]
  },
  {
   "cell_type": "markdown",
   "metadata": {
    "application/vnd.databricks.v1+cell": {
     "cellMetadata": {},
     "inputWidgets": {},
     "nuid": "c5cc04ec-a0c6-4127-bf31-aa0d430414b3",
     "showTitle": false,
     "title": ""
    },
    "id": "NaHADc7XPgTA"
   },
   "source": [
    "5. We define output formats and paths, you need to complete code to load the data from its source (since the delimiter of the file is semicolon, use [`spark.read.csv`](https://spark.apache.org/docs/latest/sql-data-sources-csv.html) that provides more flexibility) and write the data to its target (hint: [Create a table](https://docs.databricks.com/delta/delta-batch.html)).\n",
    "\n",
    "\n",
    "__NOTE__ Databricks requires all the paths to be absolute, not relative. To check the absolute path, run `pwd` bash command."
   ]
  },
  {
   "cell_type": "code",
   "execution_count": 0,
   "metadata": {
    "application/vnd.databricks.v1+cell": {
     "cellMetadata": {},
     "inputWidgets": {},
     "nuid": "895d4575-c81f-4099-bc47-93163f30c578",
     "showTitle": false,
     "title": ""
    }
   },
   "outputs": [],
   "source": [
    "# Define the input and output formats and paths and the table name.\n",
    "write_format = 'delta'\n",
    "load_path = 'file:/databricks/driver/bank.csv'\n",
    "save_path = 'file:/databricks/driver/tmp/delta/bank-4k'\n",
    "table_name = 'default.bank4k'\n",
    "\n",
    "# Load the data from its source into a dataframe.\n",
    "df = spark.read.option(\"header\",True).csv(load_path,sep=';')\n",
    "#import pyspark.pandas as pys\n",
    "#df = pys.read_csv('file:/databricks/driver/bank.csv',sep =';')\n",
    "#import pandas as pd\n",
    "#df = pd.read_csv('file:/databricks/driver/bank.csv',sep =';')\n"
   ]
  },
  {
   "cell_type": "code",
   "execution_count": 0,
   "metadata": {
    "application/vnd.databricks.v1+cell": {
     "cellMetadata": {},
     "inputWidgets": {},
     "nuid": "ed62dc95-308f-4fac-9a06-834a3e6dcbcb",
     "showTitle": false,
     "title": ""
    }
   },
   "outputs": [
    {
     "data": {
      "text/plain": [
       "total 7.3M\r\n",
       "drwxr-xr-x 2 root root 4.0K Jan 15 13:58 \u001b[0m\u001b[01;34mazure\u001b[0m/\r\n",
       "-rw-r--r-- 1 root root 4.4M Feb 14  2012 bank-full.csv\r\n",
       "-rw-r--r-- 1 root root 3.8K Feb 14  2012 bank-names.txt\r\n",
       "-rw-r--r-- 1 root root 451K Feb 14  2012 bank.csv\r\n",
       "-rw-r--r-- 1 root root 566K Feb 14  2012 bank.zip\r\n",
       "-rw-r--r-- 1 root root 566K Feb 14  2012 bank.zip.1\r\n",
       "drwxr-xr-x 2 root root 4.0K Jan 15 13:58 \u001b[01;34mconf\u001b[0m/\r\n",
       "drwxr-xr-x 3 root root 4.0K Jan 15 14:00 \u001b[01;34meventlogs\u001b[0m/\r\n",
       "drwxr-xr-x 2 root root 4.0K Jan 15 14:15 \u001b[01;34mganglia\u001b[0m/\r\n",
       "-r-xr-xr-x 1 root root 3.0K Jan 15 13:58 \u001b[01;32mhadoop_accessed_config.lst\u001b[0m*\r\n",
       "drwxr-xr-x 2 root root 4.0K Jan 15 14:01 \u001b[01;34mlogs\u001b[0m/\r\n",
       "-r-xr-xr-x 1 root root 1.3M Jan 15 13:58 \u001b[01;32mpreload_class.lst\u001b[0m*\r\n",
       "drwxr-xr-x 3 root root 4.0K Jan 15 14:01 \u001b[01;34mtmp\u001b[0m/\r\n"
      ]
     },
     "metadata": {
      "application/vnd.databricks.v1+output": {
       "addedWidgets": {},
       "arguments": {},
       "data": "total 7.3M\r\ndrwxr-xr-x 2 root root 4.0K Jan 15 13:58 \u001b[0m\u001b[01;34mazure\u001b[0m/\r\n-rw-r--r-- 1 root root 4.4M Feb 14  2012 bank-full.csv\r\n-rw-r--r-- 1 root root 3.8K Feb 14  2012 bank-names.txt\r\n-rw-r--r-- 1 root root 451K Feb 14  2012 bank.csv\r\n-rw-r--r-- 1 root root 566K Feb 14  2012 bank.zip\r\n-rw-r--r-- 1 root root 566K Feb 14  2012 bank.zip.1\r\ndrwxr-xr-x 2 root root 4.0K Jan 15 13:58 \u001b[01;34mconf\u001b[0m/\r\ndrwxr-xr-x 3 root root 4.0K Jan 15 14:00 \u001b[01;34meventlogs\u001b[0m/\r\ndrwxr-xr-x 2 root root 4.0K Jan 15 14:15 \u001b[01;34mganglia\u001b[0m/\r\n-r-xr-xr-x 1 root root 3.0K Jan 15 13:58 \u001b[01;32mhadoop_accessed_config.lst\u001b[0m*\r\ndrwxr-xr-x 2 root root 4.0K Jan 15 14:01 \u001b[01;34mlogs\u001b[0m/\r\n-r-xr-xr-x 1 root root 1.3M Jan 15 13:58 \u001b[01;32mpreload_class.lst\u001b[0m*\r\ndrwxr-xr-x 3 root root 4.0K Jan 15 14:01 \u001b[01;34mtmp\u001b[0m/\r\n",
       "datasetInfos": [],
       "metadata": {},
       "removedWidgets": [],
       "type": "ansi"
      }
     },
     "output_type": "display_data"
    }
   ],
   "source": [
    "ls -lh"
   ]
  },
  {
   "cell_type": "code",
   "execution_count": 0,
   "metadata": {
    "application/vnd.databricks.v1+cell": {
     "cellMetadata": {},
     "inputWidgets": {},
     "nuid": "df270c20-0a89-40d9-a60f-637b1469557b",
     "showTitle": false,
     "title": ""
    }
   },
   "outputs": [
    {
     "data": {
      "text/plain": [
       "Out[13]: Row(age='30', job='unemployed', marital='married', education='primary', default='no', balance='1787', housing='no', loan='no', contact='cellular', day='19', month='oct', duration='79', campaign='1', pdays='-1', previous='0', poutcome='unknown', y='no')"
      ]
     },
     "metadata": {
      "application/vnd.databricks.v1+output": {
       "addedWidgets": {},
       "arguments": {},
       "data": "Out[13]: Row(age='30', job='unemployed', marital='married', education='primary', default='no', balance='1787', housing='no', loan='no', contact='cellular', day='19', month='oct', duration='79', campaign='1', pdays='-1', previous='0', poutcome='unknown', y='no')",
       "datasetInfos": [],
       "metadata": {},
       "removedWidgets": [],
       "type": "ansi"
      }
     },
     "output_type": "display_data"
    }
   ],
   "source": [
    "df.head()"
   ]
  },
  {
   "cell_type": "code",
   "execution_count": 0,
   "metadata": {
    "application/vnd.databricks.v1+cell": {
     "cellMetadata": {},
     "inputWidgets": {},
     "nuid": "6d804d9a-32b5-4c71-b9b3-c30a64e0b602",
     "showTitle": false,
     "title": ""
    }
   },
   "outputs": [
    {
     "data": {
      "text/plain": [
       "+---+-------------+-------+---------+-------+-------+-------+----+--------+---+-----+--------+--------+-----+--------+--------+---+\n",
       "|age|          job|marital|education|default|balance|housing|loan| contact|day|month|duration|campaign|pdays|previous|poutcome|  y|\n",
       "+---+-------------+-------+---------+-------+-------+-------+----+--------+---+-----+--------+--------+-----+--------+--------+---+\n",
       "| 30|   unemployed|married|  primary|     no|   1787|     no|  no|cellular| 19|  oct|      79|       1|   -1|       0| unknown| no|\n",
       "| 33|     services|married|secondary|     no|   4789|    yes| yes|cellular| 11|  may|     220|       1|  339|       4| failure| no|\n",
       "| 35|   management| single| tertiary|     no|   1350|    yes|  no|cellular| 16|  apr|     185|       1|  330|       1| failure| no|\n",
       "| 30|   management|married| tertiary|     no|   1476|    yes| yes| unknown|  3|  jun|     199|       4|   -1|       0| unknown| no|\n",
       "| 59|  blue-collar|married|secondary|     no|      0|    yes|  no| unknown|  5|  may|     226|       1|   -1|       0| unknown| no|\n",
       "| 35|   management| single| tertiary|     no|    747|     no|  no|cellular| 23|  feb|     141|       2|  176|       3| failure| no|\n",
       "| 36|self-employed|married| tertiary|     no|    307|    yes|  no|cellular| 14|  may|     341|       1|  330|       2|   other| no|\n",
       "| 39|   technician|married|secondary|     no|    147|    yes|  no|cellular|  6|  may|     151|       2|   -1|       0| unknown| no|\n",
       "| 41| entrepreneur|married| tertiary|     no|    221|    yes|  no| unknown| 14|  may|      57|       2|   -1|       0| unknown| no|\n",
       "| 43|     services|married|  primary|     no|    -88|    yes| yes|cellular| 17|  apr|     313|       1|  147|       2| failure| no|\n",
       "| 39|     services|married|secondary|     no|   9374|    yes|  no| unknown| 20|  may|     273|       1|   -1|       0| unknown| no|\n",
       "| 43|       admin.|married|secondary|     no|    264|    yes|  no|cellular| 17|  apr|     113|       2|   -1|       0| unknown| no|\n",
       "| 36|   technician|married| tertiary|     no|   1109|     no|  no|cellular| 13|  aug|     328|       2|   -1|       0| unknown| no|\n",
       "| 20|      student| single|secondary|     no|    502|     no|  no|cellular| 30|  apr|     261|       1|   -1|       0| unknown|yes|\n",
       "| 31|  blue-collar|married|secondary|     no|    360|    yes| yes|cellular| 29|  jan|      89|       1|  241|       1| failure| no|\n",
       "| 40|   management|married| tertiary|     no|    194|     no| yes|cellular| 29|  aug|     189|       2|   -1|       0| unknown| no|\n",
       "| 56|   technician|married|secondary|     no|   4073|     no|  no|cellular| 27|  aug|     239|       5|   -1|       0| unknown| no|\n",
       "| 37|       admin.| single| tertiary|     no|   2317|    yes|  no|cellular| 20|  apr|     114|       1|  152|       2| failure| no|\n",
       "| 25|  blue-collar| single|  primary|     no|   -221|    yes|  no| unknown| 23|  may|     250|       1|   -1|       0| unknown| no|\n",
       "| 31|     services|married|secondary|     no|    132|     no|  no|cellular|  7|  jul|     148|       1|  152|       1|   other| no|\n",
       "+---+-------------+-------+---------+-------+-------+-------+----+--------+---+-----+--------+--------+-----+--------+--------+---+\n",
       "only showing top 20 rows\n",
       "\n"
      ]
     },
     "metadata": {
      "application/vnd.databricks.v1+output": {
       "addedWidgets": {},
       "arguments": {},
       "data": "+---+-------------+-------+---------+-------+-------+-------+----+--------+---+-----+--------+--------+-----+--------+--------+---+\n|age|          job|marital|education|default|balance|housing|loan| contact|day|month|duration|campaign|pdays|previous|poutcome|  y|\n+---+-------------+-------+---------+-------+-------+-------+----+--------+---+-----+--------+--------+-----+--------+--------+---+\n| 30|   unemployed|married|  primary|     no|   1787|     no|  no|cellular| 19|  oct|      79|       1|   -1|       0| unknown| no|\n| 33|     services|married|secondary|     no|   4789|    yes| yes|cellular| 11|  may|     220|       1|  339|       4| failure| no|\n| 35|   management| single| tertiary|     no|   1350|    yes|  no|cellular| 16|  apr|     185|       1|  330|       1| failure| no|\n| 30|   management|married| tertiary|     no|   1476|    yes| yes| unknown|  3|  jun|     199|       4|   -1|       0| unknown| no|\n| 59|  blue-collar|married|secondary|     no|      0|    yes|  no| unknown|  5|  may|     226|       1|   -1|       0| unknown| no|\n| 35|   management| single| tertiary|     no|    747|     no|  no|cellular| 23|  feb|     141|       2|  176|       3| failure| no|\n| 36|self-employed|married| tertiary|     no|    307|    yes|  no|cellular| 14|  may|     341|       1|  330|       2|   other| no|\n| 39|   technician|married|secondary|     no|    147|    yes|  no|cellular|  6|  may|     151|       2|   -1|       0| unknown| no|\n| 41| entrepreneur|married| tertiary|     no|    221|    yes|  no| unknown| 14|  may|      57|       2|   -1|       0| unknown| no|\n| 43|     services|married|  primary|     no|    -88|    yes| yes|cellular| 17|  apr|     313|       1|  147|       2| failure| no|\n| 39|     services|married|secondary|     no|   9374|    yes|  no| unknown| 20|  may|     273|       1|   -1|       0| unknown| no|\n| 43|       admin.|married|secondary|     no|    264|    yes|  no|cellular| 17|  apr|     113|       2|   -1|       0| unknown| no|\n| 36|   technician|married| tertiary|     no|   1109|     no|  no|cellular| 13|  aug|     328|       2|   -1|       0| unknown| no|\n| 20|      student| single|secondary|     no|    502|     no|  no|cellular| 30|  apr|     261|       1|   -1|       0| unknown|yes|\n| 31|  blue-collar|married|secondary|     no|    360|    yes| yes|cellular| 29|  jan|      89|       1|  241|       1| failure| no|\n| 40|   management|married| tertiary|     no|    194|     no| yes|cellular| 29|  aug|     189|       2|   -1|       0| unknown| no|\n| 56|   technician|married|secondary|     no|   4073|     no|  no|cellular| 27|  aug|     239|       5|   -1|       0| unknown| no|\n| 37|       admin.| single| tertiary|     no|   2317|    yes|  no|cellular| 20|  apr|     114|       1|  152|       2| failure| no|\n| 25|  blue-collar| single|  primary|     no|   -221|    yes|  no| unknown| 23|  may|     250|       1|   -1|       0| unknown| no|\n| 31|     services|married|secondary|     no|    132|     no|  no|cellular|  7|  jul|     148|       1|  152|       1|   other| no|\n+---+-------------+-------+---------+-------+-------+-------+----+--------+---+-----+--------+--------+-----+--------+--------+---+\nonly showing top 20 rows\n\n",
       "datasetInfos": [],
       "metadata": {},
       "removedWidgets": [],
       "type": "ansi"
      }
     },
     "output_type": "display_data"
    }
   ],
   "source": [
    "df.show()"
   ]
  },
  {
   "cell_type": "code",
   "execution_count": 0,
   "metadata": {
    "application/vnd.databricks.v1+cell": {
     "cellMetadata": {},
     "inputWidgets": {},
     "nuid": "dd07968d-38d3-40ab-b274-1972ecd9d2b6",
     "showTitle": false,
     "title": ""
    }
   },
   "outputs": [],
   "source": [
    "# Create table with path using DataFrame's schema and write data to it\n",
    "# Note if you are overwriting to specificy overwrite option\n",
    "# [YOUR CODE HERE]\n",
    "#df.write.format(write_format).saveAsTable(table_name,path=save_path,overwrite='yes')\n",
    "(\n",
    "df.write.format('delta')\n",
    ".mode('overwrite')\n",
    ".save(save_path) \n",
    ")\n",
    "\n",
    "#'file:/databricks/driver/tmp/delta/bank-4k/default.bank4k'\n",
    "#.save(save_path) \n",
    "\n",
    "\n"
   ]
  },
  {
   "cell_type": "markdown",
   "metadata": {
    "application/vnd.databricks.v1+cell": {
     "cellMetadata": {},
     "inputWidgets": {},
     "nuid": "282861cd-d1d6-4211-a340-fa44593bd5c1",
     "showTitle": false,
     "title": ""
    },
    "id": "xSPA8U_WUr8s"
   },
   "source": [
    "6. Verify what we just created."
   ]
  },
  {
   "cell_type": "code",
   "execution_count": 0,
   "metadata": {
    "application/vnd.databricks.v1+cell": {
     "cellMetadata": {},
     "inputWidgets": {},
     "nuid": "b34cd122-522c-4bbf-b11a-a5d107820a8e",
     "showTitle": false,
     "title": ""
    },
    "colab": {
     "base_uri": "https://localhost:8080/"
    },
    "id": "1jqA0JktUqg8",
    "outputId": "2dfea55f-a85f-4348-c55e-b1456e5b3cda"
   },
   "outputs": [
    {
     "data": {
      "text/plain": [
       "total 4.0K\r\n",
       "drwxr-xr-x 15 root root 4.0K Jan 15 14:02 \u001b[0m\u001b[01;34mbank-4k\u001b[0m/\r\n"
      ]
     },
     "metadata": {
      "application/vnd.databricks.v1+output": {
       "addedWidgets": {},
       "arguments": {},
       "data": "total 4.0K\r\ndrwxr-xr-x 15 root root 4.0K Jan 15 14:02 \u001b[0m\u001b[01;34mbank-4k\u001b[0m/\r\n",
       "datasetInfos": [],
       "metadata": {},
       "removedWidgets": [],
       "type": "ansi"
      }
     },
     "output_type": "display_data"
    }
   ],
   "source": [
    "ls -lh /databricks/driver/tmp/delta"
   ]
  },
  {
   "cell_type": "code",
   "execution_count": 0,
   "metadata": {
    "application/vnd.databricks.v1+cell": {
     "cellMetadata": {},
     "inputWidgets": {},
     "nuid": "f49cef81-04ac-4e50-b11f-acec388a64b5",
     "showTitle": false,
     "title": ""
    }
   },
   "outputs": [
    {
     "data": {
      "application/vnd.jupyter.widget-view+json": {
       "model_id": "49b81634d4f94f749a75235260860d38",
       "version_major": 2,
       "version_minor": 0
      },
      "text/plain": [
       "BamboolibModuleWindow(children=(Window(children=(VBox(children=(VBox(children=(Button(description='Databricks:…"
      ]
     },
     "metadata": {
      "application/vnd.databricks.v1+output": {
       "addedWidgets": {},
       "arguments": {},
       "data": {
        "application/vnd.jupyter.widget-view+json": {
         "model_id": "49b81634d4f94f749a75235260860d38",
         "version_major": 2,
         "version_minor": 0
        },
        "text/plain": "BamboolibModuleWindow(children=(Window(children=(VBox(children=(VBox(children=(Button(description='Databricks:…"
       },
       "datasetInfos": [],
       "metadata": {
        "kernelSessionId": "b70c9681-4d30e98675badeca157a9f4f"
       },
       "removedWidgets": [],
       "type": "mimeBundle"
      }
     },
     "output_type": "display_data"
    }
   ],
   "source": [
    "bam"
   ]
  },
  {
   "cell_type": "markdown",
   "metadata": {
    "application/vnd.databricks.v1+cell": {
     "cellMetadata": {},
     "inputWidgets": {},
     "nuid": "0568170e-ae63-47fe-bc86-a6fa624d0f86",
     "showTitle": false,
     "title": ""
    },
    "id": "tz2noJLho8ME"
   },
   "source": [
    "7. Partition data by `job` status. \n",
    "\n",
    "  To speed up queries that have predicates involving the partition columns, we should partition data. Often time, we partition by anonymized user id; here we demonstrate the idea with `job`.\n",
    "\n",
    "__NOTE__ We saw previously that the data can be loaded in Delta lake as one table. Now to partition the data, we need to remove the existing directory, or load it into a different directoty. The goal is to showcase delta lake capabilities."
   ]
  },
  {
   "cell_type": "code",
   "execution_count": 0,
   "metadata": {
    "application/vnd.databricks.v1+cell": {
     "cellMetadata": {},
     "inputWidgets": {},
     "nuid": "d17070e0-bda0-41a4-b5b8-3c363043b6c0",
     "showTitle": false,
     "title": ""
    },
    "id": "hJCHS1OxnoUu"
   },
   "outputs": [],
   "source": [
    "import shutil\n",
    "shutil.rmtree('/databricks/driver/tmp/delta/bank-4k') # To replace data, we need to remove the existing directory"
   ]
  },
  {
   "cell_type": "code",
   "execution_count": 0,
   "metadata": {
    "application/vnd.databricks.v1+cell": {
     "cellMetadata": {},
     "inputWidgets": {},
     "nuid": "0367da0a-b96d-4b08-aa16-fad13c169491",
     "showTitle": false,
     "title": ""
    }
   },
   "outputs": [],
   "source": [
    "partition_by = 'job'\n",
    "\n",
    "# Write the data to its target.\n",
    "(\n",
    "df.write.format('delta')\n",
    ".mode('overwrite')\n",
    ".partitionBy(partition_by)\n",
    ".saveAsTable(table_name) \n",
    ")\n",
    "\n"
   ]
  },
  {
   "cell_type": "code",
   "execution_count": 0,
   "metadata": {
    "application/vnd.databricks.v1+cell": {
     "cellMetadata": {},
     "inputWidgets": {},
     "nuid": "25cc51bb-0b94-470a-85d4-4c365e216837",
     "showTitle": false,
     "title": ""
    },
    "colab": {
     "base_uri": "https://localhost:8080/"
    },
    "id": "3N57HCGCoA6Y",
    "outputId": "6e0e381f-4c10-4f1c-87f3-6edc442a6b08"
   },
   "outputs": [
    {
     "data": {
      "text/plain": [
       "total 52K\r\n",
       "drwxr-xr-x 2 root root 4.0K Jan 15 14:17  \u001b[0m\u001b[01;34m_delta_log\u001b[0m/\r\n",
       "drwxr-xr-x 2 root root 4.0K Jan 15 14:17 \u001b[01;34m'job=admin.'\u001b[0m/\r\n",
       "drwxr-xr-x 2 root root 4.0K Jan 15 14:17 \u001b[01;34m'job=blue-collar'\u001b[0m/\r\n",
       "drwxr-xr-x 2 root root 4.0K Jan 15 14:17 \u001b[01;34m'job=entrepreneur'\u001b[0m/\r\n",
       "drwxr-xr-x 2 root root 4.0K Jan 15 14:17 \u001b[01;34m'job=housemaid'\u001b[0m/\r\n",
       "drwxr-xr-x 2 root root 4.0K Jan 15 14:17 \u001b[01;34m'job=management'\u001b[0m/\r\n",
       "drwxr-xr-x 2 root root 4.0K Jan 15 14:17 \u001b[01;34m'job=retired'\u001b[0m/\r\n",
       "drwxr-xr-x 2 root root 4.0K Jan 15 14:17 \u001b[01;34m'job=self-employed'\u001b[0m/\r\n",
       "drwxr-xr-x 2 root root 4.0K Jan 15 14:17 \u001b[01;34m'job=services'\u001b[0m/\r\n",
       "drwxr-xr-x 2 root root 4.0K Jan 15 14:17 \u001b[01;34m'job=student'\u001b[0m/\r\n",
       "drwxr-xr-x 2 root root 4.0K Jan 15 14:17 \u001b[01;34m'job=technician'\u001b[0m/\r\n",
       "drwxr-xr-x 2 root root 4.0K Jan 15 14:17 \u001b[01;34m'job=unemployed'\u001b[0m/\r\n",
       "drwxr-xr-x 2 root root 4.0K Jan 15 14:17 \u001b[01;34m'job=unknown'\u001b[0m/\r\n"
      ]
     },
     "metadata": {
      "application/vnd.databricks.v1+output": {
       "addedWidgets": {},
       "arguments": {},
       "data": "total 52K\r\ndrwxr-xr-x 2 root root 4.0K Jan 15 14:17  \u001b[0m\u001b[01;34m_delta_log\u001b[0m/\r\ndrwxr-xr-x 2 root root 4.0K Jan 15 14:17 \u001b[01;34m'job=admin.'\u001b[0m/\r\ndrwxr-xr-x 2 root root 4.0K Jan 15 14:17 \u001b[01;34m'job=blue-collar'\u001b[0m/\r\ndrwxr-xr-x 2 root root 4.0K Jan 15 14:17 \u001b[01;34m'job=entrepreneur'\u001b[0m/\r\ndrwxr-xr-x 2 root root 4.0K Jan 15 14:17 \u001b[01;34m'job=housemaid'\u001b[0m/\r\ndrwxr-xr-x 2 root root 4.0K Jan 15 14:17 \u001b[01;34m'job=management'\u001b[0m/\r\ndrwxr-xr-x 2 root root 4.0K Jan 15 14:17 \u001b[01;34m'job=retired'\u001b[0m/\r\ndrwxr-xr-x 2 root root 4.0K Jan 15 14:17 \u001b[01;34m'job=self-employed'\u001b[0m/\r\ndrwxr-xr-x 2 root root 4.0K Jan 15 14:17 \u001b[01;34m'job=services'\u001b[0m/\r\ndrwxr-xr-x 2 root root 4.0K Jan 15 14:17 \u001b[01;34m'job=student'\u001b[0m/\r\ndrwxr-xr-x 2 root root 4.0K Jan 15 14:17 \u001b[01;34m'job=technician'\u001b[0m/\r\ndrwxr-xr-x 2 root root 4.0K Jan 15 14:17 \u001b[01;34m'job=unemployed'\u001b[0m/\r\ndrwxr-xr-x 2 root root 4.0K Jan 15 14:17 \u001b[01;34m'job=unknown'\u001b[0m/\r\n",
       "datasetInfos": [],
       "metadata": {},
       "removedWidgets": [],
       "type": "ansi"
      }
     },
     "output_type": "display_data"
    }
   ],
   "source": [
    "ls -lh /databricks/driver/tmp/delta/bank-4k/"
   ]
  },
  {
   "cell_type": "markdown",
   "metadata": {
    "application/vnd.databricks.v1+cell": {
     "cellMetadata": {},
     "inputWidgets": {},
     "nuid": "59fa3326-ed49-46a1-89df-dc8202199dd4",
     "showTitle": false,
     "title": ""
    },
    "id": "LFRWT4qobDCw"
   },
   "source": [
    "We only touch the surface of Delta Lake, for more information, check [Delta Lake guide](https://docs.databricks.com/delta/index.html)"
   ]
  },
  {
   "cell_type": "markdown",
   "metadata": {
    "application/vnd.databricks.v1+cell": {
     "cellMetadata": {},
     "inputWidgets": {},
     "nuid": "9e212db6-6e87-468b-abd7-15a720ff8b96",
     "showTitle": false,
     "title": ""
    },
    "id": "d6e3Lpd8606A"
   },
   "source": [
    "## Part 2: Exploring The Data\n",
    "\n",
    "We will use the direct marketing campaigns (phone calls) of a Portuguese banking institution. The classification goal is to predict whether the client will subscribe (Yes/No) to a term deposit."
   ]
  },
  {
   "cell_type": "markdown",
   "metadata": {
    "application/vnd.databricks.v1+cell": {
     "cellMetadata": {},
     "inputWidgets": {},
     "nuid": "ca2aa3db-2d8d-4e9c-a3cb-ce40360250da",
     "showTitle": false,
     "title": ""
    },
    "id": "ySKvPhY8ZOQx"
   },
   "source": [
    "1. Load data from its source by specifying the data format and path; then check out the schemas."
   ]
  },
  {
   "cell_type": "code",
   "execution_count": 0,
   "metadata": {
    "application/vnd.databricks.v1+cell": {
     "cellMetadata": {},
     "inputWidgets": {},
     "nuid": "24bcf95a-d1ca-497c-9243-b0ab5556c6c4",
     "showTitle": false,
     "title": ""
    },
    "colab": {
     "base_uri": "https://localhost:8080/"
    },
    "id": "GVLwrGAN606A",
    "outputId": "97781c0e-cea0-4476-a2b7-12e294da3113"
   },
   "outputs": [
    {
     "data": {
      "text/plain": [
       "root\n",
       " |-- age: string (nullable = true)\n",
       " |-- job: string (nullable = true)\n",
       " |-- marital: string (nullable = true)\n",
       " |-- education: string (nullable = true)\n",
       " |-- default: string (nullable = true)\n",
       " |-- balance: string (nullable = true)\n",
       " |-- housing: string (nullable = true)\n",
       " |-- loan: string (nullable = true)\n",
       " |-- contact: string (nullable = true)\n",
       " |-- day: string (nullable = true)\n",
       " |-- month: string (nullable = true)\n",
       " |-- duration: string (nullable = true)\n",
       " |-- campaign: string (nullable = true)\n",
       " |-- pdays: string (nullable = true)\n",
       " |-- previous: string (nullable = true)\n",
       " |-- poutcome: string (nullable = true)\n",
       " |-- y: string (nullable = true)\n",
       "\n"
      ]
     },
     "metadata": {
      "application/vnd.databricks.v1+output": {
       "addedWidgets": {},
       "arguments": {},
       "data": "root\n |-- age: string (nullable = true)\n |-- job: string (nullable = true)\n |-- marital: string (nullable = true)\n |-- education: string (nullable = true)\n |-- default: string (nullable = true)\n |-- balance: string (nullable = true)\n |-- housing: string (nullable = true)\n |-- loan: string (nullable = true)\n |-- contact: string (nullable = true)\n |-- day: string (nullable = true)\n |-- month: string (nullable = true)\n |-- duration: string (nullable = true)\n |-- campaign: string (nullable = true)\n |-- pdays: string (nullable = true)\n |-- previous: string (nullable = true)\n |-- poutcome: string (nullable = true)\n |-- y: string (nullable = true)\n\n",
       "datasetInfos": [],
       "metadata": {},
       "removedWidgets": [],
       "type": "ansi"
      }
     },
     "output_type": "display_data"
    }
   ],
   "source": [
    "read_format = 'delta'\n",
    "load_path = '/tmp/delta/bank-4k/'\n",
    "\n",
    "df = spark.read.format(read_format).load(load_path) \n",
    "\n",
    "df.printSchema()\n",
    "#everything is a string - bad news"
   ]
  },
  {
   "cell_type": "markdown",
   "metadata": {
    "application/vnd.databricks.v1+cell": {
     "cellMetadata": {},
     "inputWidgets": {},
     "nuid": "08b5bb73-fc91-4240-a31c-036605467e8f",
     "showTitle": false,
     "title": ""
    },
    "id": "Aiqk3hQO606B"
   },
   "source": [
    "Here are the columns you should see:\n",
    "\n",
    "* Input variables: age, job, marital, education, default, balance, housing, loan, contact, day, month, duration, campaign, pdays, previous, poutcome\n",
    "\n",
    "* Output variable: y (deposit)\n",
    "\n",
    "2. Have a peek of the first five observations. Use the `.show()` method."
   ]
  },
  {
   "cell_type": "code",
   "execution_count": 0,
   "metadata": {
    "application/vnd.databricks.v1+cell": {
     "cellMetadata": {},
     "inputWidgets": {},
     "nuid": "1a16a8b0-ed99-470a-a4c0-64aa10fbab73",
     "showTitle": false,
     "title": ""
    },
    "colab": {
     "base_uri": "https://localhost:8080/"
    },
    "id": "CWPoxTh7606B",
    "outputId": "3287ef72-969f-463f-b922-46ed3d95dd46"
   },
   "outputs": [
    {
     "data": {
      "text/plain": [
       "+---+------+--------+---------+-------+-------+-------+----+--------+---+-----+--------+--------+-----+--------+--------+---+\n",
       "|age|   job| marital|education|default|balance|housing|loan| contact|day|month|duration|campaign|pdays|previous|poutcome|  y|\n",
       "+---+------+--------+---------+-------+-------+-------+----+--------+---+-----+--------+--------+-----+--------+--------+---+\n",
       "| 43|admin.| married|secondary|     no|    264|    yes|  no|cellular| 17|  apr|     113|       2|   -1|       0| unknown| no|\n",
       "| 37|admin.|  single| tertiary|     no|   2317|    yes|  no|cellular| 20|  apr|     114|       1|  152|       2| failure| no|\n",
       "| 53|admin.| married|secondary|     no|    105|     no| yes|cellular| 21|  aug|      74|       2|   -1|       0| unknown| no|\n",
       "| 42|admin.|divorced|secondary|     no|   1811|    yes|  no| unknown| 14|  may|     150|       1|   -1|       0| unknown| no|\n",
       "| 61|admin.| married|  unknown|     no|   4629|    yes|  no|cellular| 27|  jan|     181|       1|   92|       1| success|yes|\n",
       "+---+------+--------+---------+-------+-------+-------+----+--------+---+-----+--------+--------+-----+--------+--------+---+\n",
       "only showing top 5 rows\n",
       "\n"
      ]
     },
     "metadata": {
      "application/vnd.databricks.v1+output": {
       "addedWidgets": {},
       "arguments": {},
       "data": "+---+------+--------+---------+-------+-------+-------+----+--------+---+-----+--------+--------+-----+--------+--------+---+\n|age|   job| marital|education|default|balance|housing|loan| contact|day|month|duration|campaign|pdays|previous|poutcome|  y|\n+---+------+--------+---------+-------+-------+-------+----+--------+---+-----+--------+--------+-----+--------+--------+---+\n| 43|admin.| married|secondary|     no|    264|    yes|  no|cellular| 17|  apr|     113|       2|   -1|       0| unknown| no|\n| 37|admin.|  single| tertiary|     no|   2317|    yes|  no|cellular| 20|  apr|     114|       1|  152|       2| failure| no|\n| 53|admin.| married|secondary|     no|    105|     no| yes|cellular| 21|  aug|      74|       2|   -1|       0| unknown| no|\n| 42|admin.|divorced|secondary|     no|   1811|    yes|  no| unknown| 14|  may|     150|       1|   -1|       0| unknown| no|\n| 61|admin.| married|  unknown|     no|   4629|    yes|  no|cellular| 27|  jan|     181|       1|   92|       1| success|yes|\n+---+------+--------+---------+-------+-------+-------+----+--------+---+-----+--------+--------+-----+--------+--------+---+\nonly showing top 5 rows\n\n",
       "datasetInfos": [],
       "metadata": {},
       "removedWidgets": [],
       "type": "ansi"
      }
     },
     "output_type": "display_data"
    }
   ],
   "source": [
    "df.show(5)\n",
    "# [YOUR CODE HERE]"
   ]
  },
  {
   "cell_type": "markdown",
   "metadata": {
    "application/vnd.databricks.v1+cell": {
     "cellMetadata": {},
     "inputWidgets": {},
     "nuid": "74daf4bb-eb2e-46f5-892d-533ab2c89950",
     "showTitle": false,
     "title": ""
    },
    "id": "mOITLLCvG4Sb"
   },
   "source": [
    "To get a prettier result, it can be nice to use Pandas to display our DataFrame. Use the Spark `.take()` method to get the first 5 rows and then convert to a pandas DataFrame. Don't forget to pass along the column names. You should see the same result as above, but in a more aesthetically appealing format."
   ]
  },
  {
   "cell_type": "code",
   "execution_count": 0,
   "metadata": {
    "application/vnd.databricks.v1+cell": {
     "cellMetadata": {},
     "inputWidgets": {},
     "nuid": "70ea394f-03f7-43c9-bb24-8836b08cb1ef",
     "showTitle": false,
     "title": ""
    },
    "colab": {
     "base_uri": "https://localhost:8080/",
     "height": 201
    },
    "id": "VRenwPrOGz0D",
    "outputId": "3502ad2b-5d95-4f5c-b80c-e2e1fa68417b"
   },
   "outputs": [
    {
     "data": {
      "application/vnd.jupyter.widget-view+json": {
       "model_id": "f66ad38e46fd42e79a7cc5387b2d7bf2"
      },
      "text/plain": [
       "  age     job   marital  education default balance housing loan   contact day  \\\n",
       "0  43  admin.   married  secondary      no     264     yes   no  cellular  17   \n",
       "1  37  admin.    single   tertiary      no    2317     yes   no  cellular  20   \n",
       "2  53  admin.   married  secondary      no     105      no  yes  cellular  21   \n",
       "3  42  admin.  divorced  secondary      no    1811     yes   no   unknown  14   \n",
       "4  61  admin.   married    unknown      no    4629     yes   no  cellular  27   \n",
       "\n",
       "  month duration campaign pdays previous poutcome    y  \n",
       "0   apr      113        2    -1        0  unknown   no  \n",
       "1   apr      114        1   152        2  failure   no  \n",
       "2   aug       74        2    -1        0  unknown   no  \n",
       "3   may      150        1    -1        0  unknown   no  \n",
       "4   jan      181        1    92        1  success  yes  "
      ]
     },
     "metadata": {
      "application/vnd.databricks.v1+output": {
       "addedWidgets": {},
       "arguments": {},
       "data": {
        "application/vnd.jupyter.widget-view+json": {
         "model_id": "f66ad38e46fd42e79a7cc5387b2d7bf2"
        },
        "text/plain": "  age     job   marital  education default balance housing loan   contact day  \\\n0  43  admin.   married  secondary      no     264     yes   no  cellular  17   \n1  37  admin.    single   tertiary      no    2317     yes   no  cellular  20   \n2  53  admin.   married  secondary      no     105      no  yes  cellular  21   \n3  42  admin.  divorced  secondary      no    1811     yes   no   unknown  14   \n4  61  admin.   married    unknown      no    4629     yes   no  cellular  27   \n\n  month duration campaign pdays previous poutcome    y  \n0   apr      113        2    -1        0  unknown   no  \n1   apr      114        1   152        2  failure   no  \n2   aug       74        2    -1        0  unknown   no  \n3   may      150        1    -1        0  unknown   no  \n4   jan      181        1    92        1  success  yes  "
       },
       "datasetInfos": [],
       "metadata": {
        "kernelSessionId": "b70c9681-4d30e98675badeca157a9f4f"
       },
       "removedWidgets": [],
       "type": "mimeBundle"
      }
     },
     "output_type": "display_data"
    }
   ],
   "source": [
    "import pandas as pd\n",
    "dfp = pd.DataFrame(df.take(5),columns=df.columns)\n",
    "dfp"
   ]
  },
  {
   "cell_type": "code",
   "execution_count": 0,
   "metadata": {
    "application/vnd.databricks.v1+cell": {
     "cellMetadata": {},
     "inputWidgets": {},
     "nuid": "7d4de176-3a98-4113-8ff6-7c76e6250ad9",
     "showTitle": false,
     "title": ""
    }
   },
   "outputs": [],
   "source": [
    "write_format = 'delta'\n",
    "load_path = 'file:/databricks/driver/bank.csv'\n",
    "save_path = 'file:/databricks/driver/tmp/delta/bank-5k'\n",
    "table_name = 'default.bank6k'\n",
    "(\n",
    "df.write.format('delta')\n",
    ".mode('overwrite')\n",
    ".save(save_path) \n",
    ")"
   ]
  },
  {
   "cell_type": "code",
   "execution_count": 0,
   "metadata": {
    "application/vnd.databricks.v1+cell": {
     "cellMetadata": {},
     "inputWidgets": {},
     "nuid": "99591ec4-697c-4981-946b-40c24e7b16f5",
     "showTitle": false,
     "title": ""
    }
   },
   "outputs": [
    {
     "data": {
      "text/plain": [
       "Python interpreter will be restarted.\n",
       "Collecting bamboolib\n",
       "  Downloading bamboolib-1.30.19-py3-none-any.whl (2.8 MB)\n",
       "Requirement already satisfied: plotly<6.0.0,>=4.9.0 in /databricks/python3/lib/python3.9/site-packages (from bamboolib) (5.6.0)\n",
       "Requirement already satisfied: scikit-learn<2.0.0,>=0.20.2 in /databricks/python3/lib/python3.9/site-packages (from bamboolib) (1.0.2)\n",
       "Requirement already satisfied: attrs>=20.3.0 in /databricks/python3/lib/python3.9/site-packages (from bamboolib) (21.4.0)\n",
       "Requirement already satisfied: packaging>=19.2 in /databricks/python3/lib/python3.9/site-packages (from bamboolib) (21.3)\n",
       "Collecting ipyslickgrid==0.0.3\n",
       "  Downloading ipyslickgrid-0.0.3.tar.gz (51.4 MB)\n",
       "Requirement already satisfied: pygments in /databricks/python3/lib/python3.9/site-packages (from bamboolib) (2.11.2)\n",
       "Requirement already satisfied: jedi<1.0.0 in /databricks/python3/lib/python3.9/site-packages (from bamboolib) (0.18.1)\n",
       "Requirement already satisfied: pandas<2.0.0,>=1.1.0 in /databricks/python3/lib/python3.9/site-packages (from bamboolib) (1.4.2)\n",
       "Collecting toml>=0.10.0\n",
       "  Downloading toml-0.10.2-py2.py3-none-any.whl (16 kB)\n",
       "Requirement already satisfied: ipywidgets<8.0.0,>=7.6.0 in /databricks/python3/lib/python3.9/site-packages (from bamboolib) (7.7.2)\n",
       "Collecting ppscore<2.0.0,>=1.2.0\n",
       "  Downloading ppscore-1.3.0.tar.gz (17 kB)\n",
       "Collecting xlrd>=1.0.0\n",
       "  Downloading xlrd-2.0.1-py2.py3-none-any.whl (96 kB)\n",
       "Requirement already satisfied: cryptography>=2.6.1 in /databricks/python3/lib/python3.9/site-packages (from bamboolib) (3.4.8)\n",
       "Requirement already satisfied: statsmodels<1.0.0 in /databricks/python3/lib/python3.9/site-packages (from bamboolib) (0.13.2)\n",
       "Requirement already satisfied: psutil<6,>=5.4.2 in /databricks/python3/lib/python3.9/site-packages (from bamboolib) (5.8.0)\n",
       "Requirement already satisfied: notebook>=4.0.0 in /databricks/python3/lib/python3.9/site-packages (from ipyslickgrid==0.0.3->bamboolib) (6.4.8)\n",
       "Requirement already satisfied: cffi>=1.12 in /databricks/python3/lib/python3.9/site-packages (from cryptography>=2.6.1->bamboolib) (1.15.0)\n",
       "Requirement already satisfied: pycparser in /databricks/python3/lib/python3.9/site-packages (from cffi>=1.12->cryptography>=2.6.1->bamboolib) (2.21)\n",
       "Requirement already satisfied: widgetsnbextension~=3.6.0 in /databricks/python3/lib/python3.9/site-packages (from ipywidgets<8.0.0,>=7.6.0->bamboolib) (3.6.1)\n",
       "Requirement already satisfied: jupyterlab-widgets<3,>=1.0.0 in /databricks/python3/lib/python3.9/site-packages (from ipywidgets<8.0.0,>=7.6.0->bamboolib) (1.0.0)\n",
       "Requirement already satisfied: ipython-genutils~=0.2.0 in /databricks/python3/lib/python3.9/site-packages (from ipywidgets<8.0.0,>=7.6.0->bamboolib) (0.2.0)\n",
       "Requirement already satisfied: ipython>=4.0.0 in /databricks/python3/lib/python3.9/site-packages (from ipywidgets<8.0.0,>=7.6.0->bamboolib) (8.5.0)\n",
       "Requirement already satisfied: traitlets>=4.3.1 in /databricks/python3/lib/python3.9/site-packages (from ipywidgets<8.0.0,>=7.6.0->bamboolib) (5.1.1)\n",
       "Requirement already satisfied: ipykernel>=4.5.1 in /databricks/python3/lib/python3.9/site-packages (from ipywidgets<8.0.0,>=7.6.0->bamboolib) (6.15.3)\n",
       "Requirement already satisfied: tornado>=6.1 in /databricks/python3/lib/python3.9/site-packages (from ipykernel>=4.5.1->ipywidgets<8.0.0,>=7.6.0->bamboolib) (6.1)\n",
       "Requirement already satisfied: pyzmq>=17 in /databricks/python3/lib/python3.9/site-packages (from ipykernel>=4.5.1->ipywidgets<8.0.0,>=7.6.0->bamboolib) (22.3.0)\n",
       "Requirement already satisfied: matplotlib-inline>=0.1 in /databricks/python3/lib/python3.9/site-packages (from ipykernel>=4.5.1->ipywidgets<8.0.0,>=7.6.0->bamboolib) (0.1.2)\n",
       "Requirement already satisfied: jupyter-client>=6.1.12 in /databricks/python3/lib/python3.9/site-packages (from ipykernel>=4.5.1->ipywidgets<8.0.0,>=7.6.0->bamboolib) (6.1.12)\n",
       "Requirement already satisfied: debugpy>=1.0 in /databricks/python3/lib/python3.9/site-packages (from ipykernel>=4.5.1->ipywidgets<8.0.0,>=7.6.0->bamboolib) (1.5.1)\n",
       "Requirement already satisfied: nest-asyncio in /databricks/python3/lib/python3.9/site-packages (from ipykernel>=4.5.1->ipywidgets<8.0.0,>=7.6.0->bamboolib) (1.5.5)\n",
       "Requirement already satisfied: prompt-toolkit<3.1.0,>3.0.1 in /databricks/python3/lib/python3.9/site-packages (from ipython>=4.0.0->ipywidgets<8.0.0,>=7.6.0->bamboolib) (3.0.20)\n",
       "Requirement already satisfied: pexpect>4.3 in /databricks/python3/lib/python3.9/site-packages (from ipython>=4.0.0->ipywidgets<8.0.0,>=7.6.0->bamboolib) (4.8.0)\n",
       "Requirement already satisfied: decorator in /databricks/python3/lib/python3.9/site-packages (from ipython>=4.0.0->ipywidgets<8.0.0,>=7.6.0->bamboolib) (5.1.1)\n",
       "Requirement already satisfied: stack-data in /databricks/python3/lib/python3.9/site-packages (from ipython>=4.0.0->ipywidgets<8.0.0,>=7.6.0->bamboolib) (0.2.0)\n",
       "Requirement already satisfied: backcall in /databricks/python3/lib/python3.9/site-packages (from ipython>=4.0.0->ipywidgets<8.0.0,>=7.6.0->bamboolib) (0.2.0)\n",
       "Requirement already satisfied: pickleshare in /databricks/python3/lib/python3.9/site-packages (from ipython>=4.0.0->ipywidgets<8.0.0,>=7.6.0->bamboolib) (0.7.5)\n",
       "Requirement already satisfied: parso<0.9.0,>=0.8.0 in /databricks/python3/lib/python3.9/site-packages (from jedi<1.0.0->bamboolib) (0.8.3)\n",
       "Requirement already satisfied: python-dateutil>=2.1 in /databricks/python3/lib/python3.9/site-packages (from jupyter-client>=6.1.12->ipykernel>=4.5.1->ipywidgets<8.0.0,>=7.6.0->bamboolib) (2.8.2)\n",
       "Requirement already satisfied: jupyter-core>=4.6.0 in /databricks/python3/lib/python3.9/site-packages (from jupyter-client>=6.1.12->ipykernel>=4.5.1->ipywidgets<8.0.0,>=7.6.0->bamboolib) (4.11.2)\n",
       "Requirement already satisfied: jinja2 in /databricks/python3/lib/python3.9/site-packages (from notebook>=4.0.0->ipyslickgrid==0.0.3->bamboolib) (2.11.3)\n",
       "Requirement already satisfied: argon2-cffi in /databricks/python3/lib/python3.9/site-packages (from notebook>=4.0.0->ipyslickgrid==0.0.3->bamboolib) (21.3.0)\n",
       "Requirement already satisfied: nbconvert in /databricks/python3/lib/python3.9/site-packages (from notebook>=4.0.0->ipyslickgrid==0.0.3->bamboolib) (6.4.4)\n",
       "Requirement already satisfied: prometheus-client in /databricks/python3/lib/python3.9/site-packages (from notebook>=4.0.0->ipyslickgrid==0.0.3->bamboolib) (0.13.1)\n",
       "Requirement already satisfied: Send2Trash>=1.8.0 in /databricks/python3/lib/python3.9/site-packages (from notebook>=4.0.0->ipyslickgrid==0.0.3->bamboolib) (1.8.0)\n",
       "Requirement already satisfied: terminado>=0.8.3 in /databricks/python3/lib/python3.9/site-packages (from notebook>=4.0.0->ipyslickgrid==0.0.3->bamboolib) (0.13.1)\n",
       "Requirement already satisfied: nbformat in /databricks/python3/lib/python3.9/site-packages (from notebook>=4.0.0->ipyslickgrid==0.0.3->bamboolib) (5.3.0)\n",
       "Requirement already satisfied: pyparsing!=3.0.5,>=2.0.2 in /databricks/python3/lib/python3.9/site-packages (from packaging>=19.2->bamboolib) (3.0.4)\n",
       "Requirement already satisfied: pytz>=2020.1 in /databricks/python3/lib/python3.9/site-packages (from pandas<2.0.0,>=1.1.0->bamboolib) (2021.3)\n",
       "Requirement already satisfied: numpy>=1.18.5 in /databricks/python3/lib/python3.9/site-packages (from pandas<2.0.0,>=1.1.0->bamboolib) (1.21.5)\n",
       "Requirement already satisfied: ptyprocess>=0.5 in /databricks/python3/lib/python3.9/site-packages (from pexpect>4.3->ipython>=4.0.0->ipywidgets<8.0.0,>=7.6.0->bamboolib) (0.7.0)\n",
       "Requirement already satisfied: six in /databricks/python3/lib/python3.9/site-packages (from plotly<6.0.0,>=4.9.0->bamboolib) (1.16.0)\n",
       "Requirement already satisfied: tenacity>=6.2.0 in /databricks/python3/lib/python3.9/site-packages (from plotly<6.0.0,>=4.9.0->bamboolib) (8.0.1)\n",
       "Requirement already satisfied: wcwidth in /databricks/python3/lib/python3.9/site-packages (from prompt-toolkit<3.1.0,>3.0.1->ipython>=4.0.0->ipywidgets<8.0.0,>=7.6.0->bamboolib) (0.2.5)\n",
       "Requirement already satisfied: threadpoolctl>=2.0.0 in /databricks/python3/lib/python3.9/site-packages (from scikit-learn<2.0.0,>=0.20.2->bamboolib) (2.2.0)\n",
       "Requirement already satisfied: scipy>=1.1.0 in /databricks/python3/lib/python3.9/site-packages (from scikit-learn<2.0.0,>=0.20.2->bamboolib) (1.7.3)\n",
       "Requirement already satisfied: joblib>=0.11 in /databricks/python3/lib/python3.9/site-packages (from scikit-learn<2.0.0,>=0.20.2->bamboolib) (1.1.0)\n",
       "Requirement already satisfied: patsy>=0.5.2 in /databricks/python3/lib/python3.9/site-packages (from statsmodels<1.0.0->bamboolib) (0.5.2)\n",
       "Requirement already satisfied: argon2-cffi-bindings in /databricks/python3/lib/python3.9/site-packages (from argon2-cffi->notebook>=4.0.0->ipyslickgrid==0.0.3->bamboolib) (21.2.0)\n",
       "Requirement already satisfied: MarkupSafe>=0.23 in /databricks/python3/lib/python3.9/site-packages (from jinja2->notebook>=4.0.0->ipyslickgrid==0.0.3->bamboolib) (2.0.1)\n",
       "Requirement already satisfied: pandocfilters>=1.4.1 in /databricks/python3/lib/python3.9/site-packages (from nbconvert->notebook>=4.0.0->ipyslickgrid==0.0.3->bamboolib) (1.5.0)\n",
       "Requirement already satisfied: defusedxml in /databricks/python3/lib/python3.9/site-packages (from nbconvert->notebook>=4.0.0->ipyslickgrid==0.0.3->bamboolib) (0.7.1)\n",
       "Requirement already satisfied: nbclient<0.6.0,>=0.5.0 in /databricks/python3/lib/python3.9/site-packages (from nbconvert->notebook>=4.0.0->ipyslickgrid==0.0.3->bamboolib) (0.5.13)\n",
       "Requirement already satisfied: entrypoints>=0.2.2 in /databricks/python3/lib/python3.9/site-packages (from nbconvert->notebook>=4.0.0->ipyslickgrid==0.0.3->bamboolib) (0.4)\n",
       "Requirement already satisfied: testpath in /databricks/python3/lib/python3.9/site-packages (from nbconvert->notebook>=4.0.0->ipyslickgrid==0.0.3->bamboolib) (0.5.0)\n",
       "Requirement already satisfied: beautifulsoup4 in /databricks/python3/lib/python3.9/site-packages (from nbconvert->notebook>=4.0.0->ipyslickgrid==0.0.3->bamboolib) (4.11.1)\n",
       "Requirement already satisfied: bleach in /databricks/python3/lib/python3.9/site-packages (from nbconvert->notebook>=4.0.0->ipyslickgrid==0.0.3->bamboolib) (4.1.0)\n",
       "Requirement already satisfied: jupyterlab-pygments in /databricks/python3/lib/python3.9/site-packages (from nbconvert->notebook>=4.0.0->ipyslickgrid==0.0.3->bamboolib) (0.1.2)\n",
       "Requirement already satisfied: mistune<2,>=0.8.1 in /databricks/python3/lib/python3.9/site-packages (from nbconvert->notebook>=4.0.0->ipyslickgrid==0.0.3->bamboolib) (0.8.4)\n",
       "Requirement already satisfied: jsonschema>=2.6 in /databricks/python3/lib/python3.9/site-packages (from nbformat->notebook>=4.0.0->ipyslickgrid==0.0.3->bamboolib) (4.4.0)\n",
       "Requirement already satisfied: fastjsonschema in /databricks/python3/lib/python3.9/site-packages (from nbformat->notebook>=4.0.0->ipyslickgrid==0.0.3->bamboolib) (2.16.2)\n",
       "Requirement already satisfied: pyrsistent!=0.17.0,!=0.17.1,!=0.17.2,>=0.14.0 in /databricks/python3/lib/python3.9/site-packages (from jsonschema>=2.6->nbformat->notebook>=4.0.0->ipyslickgrid==0.0.3->bamboolib) (0.18.0)\n",
       "Requirement already satisfied: soupsieve>1.2 in /databricks/python3/lib/python3.9/site-packages (from beautifulsoup4->nbconvert->notebook>=4.0.0->ipyslickgrid==0.0.3->bamboolib) (2.3.1)\n",
       "Requirement already satisfied: webencodings in /databricks/python3/lib/python3.9/site-packages (from bleach->nbconvert->notebook>=4.0.0->ipyslickgrid==0.0.3->bamboolib) (0.5.1)\n",
       "Requirement already satisfied: pure-eval in /databricks/python3/lib/python3.9/site-packages (from stack-data->ipython>=4.0.0->ipywidgets<8.0.0,>=7.6.0->bamboolib) (0.2.2)\n",
       "Requirement already satisfied: asttokens in /databricks/python3/lib/python3.9/site-packages (from stack-data->ipython>=4.0.0->ipywidgets<8.0.0,>=7.6.0->bamboolib) (2.0.5)\n",
       "Requirement already satisfied: executing in /databricks/python3/lib/python3.9/site-packages (from stack-data->ipython>=4.0.0->ipywidgets<8.0.0,>=7.6.0->bamboolib) (0.8.3)\n",
       "Building wheels for collected packages: ipyslickgrid, ppscore\n",
       "  Building wheel for ipyslickgrid (setup.py): started\n",
       "  Building wheel for ipyslickgrid (setup.py): finished with status 'done'\n",
       "  Created wheel for ipyslickgrid: filename=ipyslickgrid-0.0.3-py2.py3-none-any.whl size=1823285 sha256=0cb06bc2606b28ae7a8c212d3f1d06615af79f467d26e72dc7190d628fdb8fb1\n",
       "  Stored in directory: /root/.cache/pip/wheels/5b/66/e0/f1d70e1b3787f5c8455f962245613a388d9a6e2373c15383ea\n",
       "  Building wheel for ppscore (setup.py): started\n",
       "  Building wheel for ppscore (setup.py): finished with status 'done'\n",
       "  Created wheel for ppscore: filename=ppscore-1.3.0-py2.py3-none-any.whl size=13167 sha256=b5ef6e694f078277e51e9a150cb8d845bfb154ae93d9070b7e53a128c5369d69\n",
       "  Stored in directory: /root/.cache/pip/wheels/d8/2d/fc/c1699298a1241684a460b125835f7871ee8e3ab3afea9b5d6f\n",
       "Successfully built ipyslickgrid ppscore\n",
       "Installing collected packages: xlrd, toml, ppscore, ipyslickgrid, bamboolib\n",
       "Successfully installed bamboolib-1.30.19 ipyslickgrid-0.0.3 ppscore-1.3.0 toml-0.10.2 xlrd-2.0.1\n",
       "Python interpreter will be restarted.\n"
      ]
     },
     "metadata": {
      "application/vnd.databricks.v1+output": {
       "addedWidgets": {},
       "arguments": {},
       "data": "Python interpreter will be restarted.\nCollecting bamboolib\n  Downloading bamboolib-1.30.19-py3-none-any.whl (2.8 MB)\nRequirement already satisfied: plotly<6.0.0,>=4.9.0 in /databricks/python3/lib/python3.9/site-packages (from bamboolib) (5.6.0)\nRequirement already satisfied: scikit-learn<2.0.0,>=0.20.2 in /databricks/python3/lib/python3.9/site-packages (from bamboolib) (1.0.2)\nRequirement already satisfied: attrs>=20.3.0 in /databricks/python3/lib/python3.9/site-packages (from bamboolib) (21.4.0)\nRequirement already satisfied: packaging>=19.2 in /databricks/python3/lib/python3.9/site-packages (from bamboolib) (21.3)\nCollecting ipyslickgrid==0.0.3\n  Downloading ipyslickgrid-0.0.3.tar.gz (51.4 MB)\nRequirement already satisfied: pygments in /databricks/python3/lib/python3.9/site-packages (from bamboolib) (2.11.2)\nRequirement already satisfied: jedi<1.0.0 in /databricks/python3/lib/python3.9/site-packages (from bamboolib) (0.18.1)\nRequirement already satisfied: pandas<2.0.0,>=1.1.0 in /databricks/python3/lib/python3.9/site-packages (from bamboolib) (1.4.2)\nCollecting toml>=0.10.0\n  Downloading toml-0.10.2-py2.py3-none-any.whl (16 kB)\nRequirement already satisfied: ipywidgets<8.0.0,>=7.6.0 in /databricks/python3/lib/python3.9/site-packages (from bamboolib) (7.7.2)\nCollecting ppscore<2.0.0,>=1.2.0\n  Downloading ppscore-1.3.0.tar.gz (17 kB)\nCollecting xlrd>=1.0.0\n  Downloading xlrd-2.0.1-py2.py3-none-any.whl (96 kB)\nRequirement already satisfied: cryptography>=2.6.1 in /databricks/python3/lib/python3.9/site-packages (from bamboolib) (3.4.8)\nRequirement already satisfied: statsmodels<1.0.0 in /databricks/python3/lib/python3.9/site-packages (from bamboolib) (0.13.2)\nRequirement already satisfied: psutil<6,>=5.4.2 in /databricks/python3/lib/python3.9/site-packages (from bamboolib) (5.8.0)\nRequirement already satisfied: notebook>=4.0.0 in /databricks/python3/lib/python3.9/site-packages (from ipyslickgrid==0.0.3->bamboolib) (6.4.8)\nRequirement already satisfied: cffi>=1.12 in /databricks/python3/lib/python3.9/site-packages (from cryptography>=2.6.1->bamboolib) (1.15.0)\nRequirement already satisfied: pycparser in /databricks/python3/lib/python3.9/site-packages (from cffi>=1.12->cryptography>=2.6.1->bamboolib) (2.21)\nRequirement already satisfied: widgetsnbextension~=3.6.0 in /databricks/python3/lib/python3.9/site-packages (from ipywidgets<8.0.0,>=7.6.0->bamboolib) (3.6.1)\nRequirement already satisfied: jupyterlab-widgets<3,>=1.0.0 in /databricks/python3/lib/python3.9/site-packages (from ipywidgets<8.0.0,>=7.6.0->bamboolib) (1.0.0)\nRequirement already satisfied: ipython-genutils~=0.2.0 in /databricks/python3/lib/python3.9/site-packages (from ipywidgets<8.0.0,>=7.6.0->bamboolib) (0.2.0)\nRequirement already satisfied: ipython>=4.0.0 in /databricks/python3/lib/python3.9/site-packages (from ipywidgets<8.0.0,>=7.6.0->bamboolib) (8.5.0)\nRequirement already satisfied: traitlets>=4.3.1 in /databricks/python3/lib/python3.9/site-packages (from ipywidgets<8.0.0,>=7.6.0->bamboolib) (5.1.1)\nRequirement already satisfied: ipykernel>=4.5.1 in /databricks/python3/lib/python3.9/site-packages (from ipywidgets<8.0.0,>=7.6.0->bamboolib) (6.15.3)\nRequirement already satisfied: tornado>=6.1 in /databricks/python3/lib/python3.9/site-packages (from ipykernel>=4.5.1->ipywidgets<8.0.0,>=7.6.0->bamboolib) (6.1)\nRequirement already satisfied: pyzmq>=17 in /databricks/python3/lib/python3.9/site-packages (from ipykernel>=4.5.1->ipywidgets<8.0.0,>=7.6.0->bamboolib) (22.3.0)\nRequirement already satisfied: matplotlib-inline>=0.1 in /databricks/python3/lib/python3.9/site-packages (from ipykernel>=4.5.1->ipywidgets<8.0.0,>=7.6.0->bamboolib) (0.1.2)\nRequirement already satisfied: jupyter-client>=6.1.12 in /databricks/python3/lib/python3.9/site-packages (from ipykernel>=4.5.1->ipywidgets<8.0.0,>=7.6.0->bamboolib) (6.1.12)\nRequirement already satisfied: debugpy>=1.0 in /databricks/python3/lib/python3.9/site-packages (from ipykernel>=4.5.1->ipywidgets<8.0.0,>=7.6.0->bamboolib) (1.5.1)\nRequirement already satisfied: nest-asyncio in /databricks/python3/lib/python3.9/site-packages (from ipykernel>=4.5.1->ipywidgets<8.0.0,>=7.6.0->bamboolib) (1.5.5)\nRequirement already satisfied: prompt-toolkit<3.1.0,>3.0.1 in /databricks/python3/lib/python3.9/site-packages (from ipython>=4.0.0->ipywidgets<8.0.0,>=7.6.0->bamboolib) (3.0.20)\nRequirement already satisfied: pexpect>4.3 in /databricks/python3/lib/python3.9/site-packages (from ipython>=4.0.0->ipywidgets<8.0.0,>=7.6.0->bamboolib) (4.8.0)\nRequirement already satisfied: decorator in /databricks/python3/lib/python3.9/site-packages (from ipython>=4.0.0->ipywidgets<8.0.0,>=7.6.0->bamboolib) (5.1.1)\nRequirement already satisfied: stack-data in /databricks/python3/lib/python3.9/site-packages (from ipython>=4.0.0->ipywidgets<8.0.0,>=7.6.0->bamboolib) (0.2.0)\nRequirement already satisfied: backcall in /databricks/python3/lib/python3.9/site-packages (from ipython>=4.0.0->ipywidgets<8.0.0,>=7.6.0->bamboolib) (0.2.0)\nRequirement already satisfied: pickleshare in /databricks/python3/lib/python3.9/site-packages (from ipython>=4.0.0->ipywidgets<8.0.0,>=7.6.0->bamboolib) (0.7.5)\nRequirement already satisfied: parso<0.9.0,>=0.8.0 in /databricks/python3/lib/python3.9/site-packages (from jedi<1.0.0->bamboolib) (0.8.3)\nRequirement already satisfied: python-dateutil>=2.1 in /databricks/python3/lib/python3.9/site-packages (from jupyter-client>=6.1.12->ipykernel>=4.5.1->ipywidgets<8.0.0,>=7.6.0->bamboolib) (2.8.2)\nRequirement already satisfied: jupyter-core>=4.6.0 in /databricks/python3/lib/python3.9/site-packages (from jupyter-client>=6.1.12->ipykernel>=4.5.1->ipywidgets<8.0.0,>=7.6.0->bamboolib) (4.11.2)\nRequirement already satisfied: jinja2 in /databricks/python3/lib/python3.9/site-packages (from notebook>=4.0.0->ipyslickgrid==0.0.3->bamboolib) (2.11.3)\nRequirement already satisfied: argon2-cffi in /databricks/python3/lib/python3.9/site-packages (from notebook>=4.0.0->ipyslickgrid==0.0.3->bamboolib) (21.3.0)\nRequirement already satisfied: nbconvert in /databricks/python3/lib/python3.9/site-packages (from notebook>=4.0.0->ipyslickgrid==0.0.3->bamboolib) (6.4.4)\nRequirement already satisfied: prometheus-client in /databricks/python3/lib/python3.9/site-packages (from notebook>=4.0.0->ipyslickgrid==0.0.3->bamboolib) (0.13.1)\nRequirement already satisfied: Send2Trash>=1.8.0 in /databricks/python3/lib/python3.9/site-packages (from notebook>=4.0.0->ipyslickgrid==0.0.3->bamboolib) (1.8.0)\nRequirement already satisfied: terminado>=0.8.3 in /databricks/python3/lib/python3.9/site-packages (from notebook>=4.0.0->ipyslickgrid==0.0.3->bamboolib) (0.13.1)\nRequirement already satisfied: nbformat in /databricks/python3/lib/python3.9/site-packages (from notebook>=4.0.0->ipyslickgrid==0.0.3->bamboolib) (5.3.0)\nRequirement already satisfied: pyparsing!=3.0.5,>=2.0.2 in /databricks/python3/lib/python3.9/site-packages (from packaging>=19.2->bamboolib) (3.0.4)\nRequirement already satisfied: pytz>=2020.1 in /databricks/python3/lib/python3.9/site-packages (from pandas<2.0.0,>=1.1.0->bamboolib) (2021.3)\nRequirement already satisfied: numpy>=1.18.5 in /databricks/python3/lib/python3.9/site-packages (from pandas<2.0.0,>=1.1.0->bamboolib) (1.21.5)\nRequirement already satisfied: ptyprocess>=0.5 in /databricks/python3/lib/python3.9/site-packages (from pexpect>4.3->ipython>=4.0.0->ipywidgets<8.0.0,>=7.6.0->bamboolib) (0.7.0)\nRequirement already satisfied: six in /databricks/python3/lib/python3.9/site-packages (from plotly<6.0.0,>=4.9.0->bamboolib) (1.16.0)\nRequirement already satisfied: tenacity>=6.2.0 in /databricks/python3/lib/python3.9/site-packages (from plotly<6.0.0,>=4.9.0->bamboolib) (8.0.1)\nRequirement already satisfied: wcwidth in /databricks/python3/lib/python3.9/site-packages (from prompt-toolkit<3.1.0,>3.0.1->ipython>=4.0.0->ipywidgets<8.0.0,>=7.6.0->bamboolib) (0.2.5)\nRequirement already satisfied: threadpoolctl>=2.0.0 in /databricks/python3/lib/python3.9/site-packages (from scikit-learn<2.0.0,>=0.20.2->bamboolib) (2.2.0)\nRequirement already satisfied: scipy>=1.1.0 in /databricks/python3/lib/python3.9/site-packages (from scikit-learn<2.0.0,>=0.20.2->bamboolib) (1.7.3)\nRequirement already satisfied: joblib>=0.11 in /databricks/python3/lib/python3.9/site-packages (from scikit-learn<2.0.0,>=0.20.2->bamboolib) (1.1.0)\nRequirement already satisfied: patsy>=0.5.2 in /databricks/python3/lib/python3.9/site-packages (from statsmodels<1.0.0->bamboolib) (0.5.2)\nRequirement already satisfied: argon2-cffi-bindings in /databricks/python3/lib/python3.9/site-packages (from argon2-cffi->notebook>=4.0.0->ipyslickgrid==0.0.3->bamboolib) (21.2.0)\nRequirement already satisfied: MarkupSafe>=0.23 in /databricks/python3/lib/python3.9/site-packages (from jinja2->notebook>=4.0.0->ipyslickgrid==0.0.3->bamboolib) (2.0.1)\nRequirement already satisfied: pandocfilters>=1.4.1 in /databricks/python3/lib/python3.9/site-packages (from nbconvert->notebook>=4.0.0->ipyslickgrid==0.0.3->bamboolib) (1.5.0)\nRequirement already satisfied: defusedxml in /databricks/python3/lib/python3.9/site-packages (from nbconvert->notebook>=4.0.0->ipyslickgrid==0.0.3->bamboolib) (0.7.1)\nRequirement already satisfied: nbclient<0.6.0,>=0.5.0 in /databricks/python3/lib/python3.9/site-packages (from nbconvert->notebook>=4.0.0->ipyslickgrid==0.0.3->bamboolib) (0.5.13)\nRequirement already satisfied: entrypoints>=0.2.2 in /databricks/python3/lib/python3.9/site-packages (from nbconvert->notebook>=4.0.0->ipyslickgrid==0.0.3->bamboolib) (0.4)\nRequirement already satisfied: testpath in /databricks/python3/lib/python3.9/site-packages (from nbconvert->notebook>=4.0.0->ipyslickgrid==0.0.3->bamboolib) (0.5.0)\nRequirement already satisfied: beautifulsoup4 in /databricks/python3/lib/python3.9/site-packages (from nbconvert->notebook>=4.0.0->ipyslickgrid==0.0.3->bamboolib) (4.11.1)\nRequirement already satisfied: bleach in /databricks/python3/lib/python3.9/site-packages (from nbconvert->notebook>=4.0.0->ipyslickgrid==0.0.3->bamboolib) (4.1.0)\nRequirement already satisfied: jupyterlab-pygments in /databricks/python3/lib/python3.9/site-packages (from nbconvert->notebook>=4.0.0->ipyslickgrid==0.0.3->bamboolib) (0.1.2)\nRequirement already satisfied: mistune<2,>=0.8.1 in /databricks/python3/lib/python3.9/site-packages (from nbconvert->notebook>=4.0.0->ipyslickgrid==0.0.3->bamboolib) (0.8.4)\nRequirement already satisfied: jsonschema>=2.6 in /databricks/python3/lib/python3.9/site-packages (from nbformat->notebook>=4.0.0->ipyslickgrid==0.0.3->bamboolib) (4.4.0)\nRequirement already satisfied: fastjsonschema in /databricks/python3/lib/python3.9/site-packages (from nbformat->notebook>=4.0.0->ipyslickgrid==0.0.3->bamboolib) (2.16.2)\nRequirement already satisfied: pyrsistent!=0.17.0,!=0.17.1,!=0.17.2,>=0.14.0 in /databricks/python3/lib/python3.9/site-packages (from jsonschema>=2.6->nbformat->notebook>=4.0.0->ipyslickgrid==0.0.3->bamboolib) (0.18.0)\nRequirement already satisfied: soupsieve>1.2 in /databricks/python3/lib/python3.9/site-packages (from beautifulsoup4->nbconvert->notebook>=4.0.0->ipyslickgrid==0.0.3->bamboolib) (2.3.1)\nRequirement already satisfied: webencodings in /databricks/python3/lib/python3.9/site-packages (from bleach->nbconvert->notebook>=4.0.0->ipyslickgrid==0.0.3->bamboolib) (0.5.1)\nRequirement already satisfied: pure-eval in /databricks/python3/lib/python3.9/site-packages (from stack-data->ipython>=4.0.0->ipywidgets<8.0.0,>=7.6.0->bamboolib) (0.2.2)\nRequirement already satisfied: asttokens in /databricks/python3/lib/python3.9/site-packages (from stack-data->ipython>=4.0.0->ipywidgets<8.0.0,>=7.6.0->bamboolib) (2.0.5)\nRequirement already satisfied: executing in /databricks/python3/lib/python3.9/site-packages (from stack-data->ipython>=4.0.0->ipywidgets<8.0.0,>=7.6.0->bamboolib) (0.8.3)\nBuilding wheels for collected packages: ipyslickgrid, ppscore\n  Building wheel for ipyslickgrid (setup.py): started\n  Building wheel for ipyslickgrid (setup.py): finished with status 'done'\n  Created wheel for ipyslickgrid: filename=ipyslickgrid-0.0.3-py2.py3-none-any.whl size=1823285 sha256=0cb06bc2606b28ae7a8c212d3f1d06615af79f467d26e72dc7190d628fdb8fb1\n  Stored in directory: /root/.cache/pip/wheels/5b/66/e0/f1d70e1b3787f5c8455f962245613a388d9a6e2373c15383ea\n  Building wheel for ppscore (setup.py): started\n  Building wheel for ppscore (setup.py): finished with status 'done'\n  Created wheel for ppscore: filename=ppscore-1.3.0-py2.py3-none-any.whl size=13167 sha256=b5ef6e694f078277e51e9a150cb8d845bfb154ae93d9070b7e53a128c5369d69\n  Stored in directory: /root/.cache/pip/wheels/d8/2d/fc/c1699298a1241684a460b125835f7871ee8e3ab3afea9b5d6f\nSuccessfully built ipyslickgrid ppscore\nInstalling collected packages: xlrd, toml, ppscore, ipyslickgrid, bamboolib\nSuccessfully installed bamboolib-1.30.19 ipyslickgrid-0.0.3 ppscore-1.3.0 toml-0.10.2 xlrd-2.0.1\nPython interpreter will be restarted.\n",
       "datasetInfos": [],
       "metadata": {},
       "removedWidgets": [],
       "type": "ansi"
      }
     },
     "output_type": "display_data"
    }
   ],
   "source": [
    "# STEP 1: RUN THIS CELL TO INSTALL BAMBOOLIB\n",
    "\n",
    "# You can also install bamboolib on the cluster. Just talk to your cluster admin for that\n",
    "%pip install bamboolib  \n",
    "\n",
    "# Heads up: this will restart your python kernel, so you may need to re-execute some of your other code cells."
   ]
  },
  {
   "cell_type": "code",
   "execution_count": 0,
   "metadata": {
    "application/vnd.databricks.v1+cell": {
     "cellMetadata": {},
     "inputWidgets": {},
     "nuid": "020bd378-515a-472a-a61b-6cdb715b244f",
     "showTitle": false,
     "title": ""
    }
   },
   "outputs": [
    {
     "data": {
      "application/vnd.jupyter.widget-view+json": {
       "model_id": "5ccd06a8386843138c81f21b44c0ba34",
       "version_major": 2,
       "version_minor": 0
      },
      "text/plain": [
       "BamboolibModuleWindow(children=(Window(children=(VBox(children=(VBox(children=(Button(description='Databricks:…"
      ]
     },
     "metadata": {
      "application/vnd.databricks.v1+output": {
       "addedWidgets": {},
       "arguments": {},
       "data": {
        "application/vnd.jupyter.widget-view+json": {
         "model_id": "5ccd06a8386843138c81f21b44c0ba34",
         "version_major": 2,
         "version_minor": 0
        },
        "text/plain": "BamboolibModuleWindow(children=(Window(children=(VBox(children=(VBox(children=(Button(description='Databricks:…"
       },
       "datasetInfos": [],
       "metadata": {
        "kernelSessionId": "b70c9681-4d30e98675badeca157a9f4f"
       },
       "removedWidgets": [],
       "type": "mimeBundle"
      }
     },
     "output_type": "display_data"
    }
   ],
   "source": [
    "# STEP 2: RUN THIS CELL TO IMPORT AND USE BAMBOOLIB\n",
    "\n",
    "import bamboolib as bam\n",
    "\n",
    "# This opens a UI from which you can import your data\n",
    "bam  \n",
    "\n",
    "# Already have a pandas data frame? Just display it!\n",
    "# Here's an example\n",
    "# import pandas as pd\n",
    "# df_test = pd.DataFrame(dict(a=[1,2]))\n",
    "# df_test  # <- You will see a green button above the data set if you display it"
   ]
  },
  {
   "cell_type": "markdown",
   "metadata": {
    "application/vnd.databricks.v1+cell": {
     "cellMetadata": {},
     "inputWidgets": {},
     "nuid": "ba4fb56e-8dd1-461b-8fc1-03e6502ceca8",
     "showTitle": false,
     "title": ""
    },
    "id": "1uKOs_Ka606B"
   },
   "source": [
    "3. We can also perform transformations on our DataFrame using the Pandas commands that we know and love using the [Pandas on Spark API](https://spark.apache.org/docs/latest/api/python/user_guide/pandas_on_spark/index.html) **(new on Spark versions >= 3.2)**.  Pandas on Spark API was born out of the Databricks project, Koalas 🐨, allows us to use the Pandas commands and aesthetically pleasing output that we know and love distributed on the speed and scale of Spark!  For a nice quickstart on Pandas on Spark, check out this [article](https://towardsdatascience.com/run-pandas-as-fast-as-spark-f5eefe780c45)!  Let's convert our Spark DataFrame to a Pandas on Spark DataFrame!"
   ]
  },
  {
   "cell_type": "code",
   "execution_count": 0,
   "metadata": {
    "application/vnd.databricks.v1+cell": {
     "cellMetadata": {},
     "inputWidgets": {},
     "nuid": "9abd6308-77f0-420b-a80a-03ef2928c963",
     "showTitle": false,
     "title": ""
    },
    "colab": {
     "base_uri": "https://localhost:8080/",
     "height": 237
    },
    "id": "p7G6371u606C",
    "outputId": "9a07865b-02c9-4c7f-a89e-c15b0265e6f4"
   },
   "outputs": [
    {
     "data": {
      "text/html": [
       "<div>\n",
       "<style scoped>\n",
       "    .dataframe tbody tr th:only-of-type {\n",
       "        vertical-align: middle;\n",
       "    }\n",
       "\n",
       "    .dataframe tbody tr th {\n",
       "        vertical-align: top;\n",
       "    }\n",
       "\n",
       "    .dataframe thead th {\n",
       "        text-align: right;\n",
       "    }\n",
       "</style>\n",
       "<table border=\"1\" class=\"dataframe\">\n",
       "  <thead>\n",
       "    <tr style=\"text-align: right;\">\n",
       "      <th></th>\n",
       "      <th>age</th>\n",
       "      <th>job</th>\n",
       "      <th>marital</th>\n",
       "      <th>education</th>\n",
       "      <th>default</th>\n",
       "      <th>balance</th>\n",
       "      <th>housing</th>\n",
       "      <th>loan</th>\n",
       "      <th>contact</th>\n",
       "      <th>day</th>\n",
       "      <th>month</th>\n",
       "      <th>duration</th>\n",
       "      <th>campaign</th>\n",
       "      <th>pdays</th>\n",
       "      <th>previous</th>\n",
       "      <th>poutcome</th>\n",
       "      <th>y</th>\n",
       "    </tr>\n",
       "  </thead>\n",
       "  <tbody>\n",
       "    <tr>\n",
       "      <th>0</th>\n",
       "      <td>35</td>\n",
       "      <td>management</td>\n",
       "      <td>single</td>\n",
       "      <td>tertiary</td>\n",
       "      <td>no</td>\n",
       "      <td>1350</td>\n",
       "      <td>yes</td>\n",
       "      <td>no</td>\n",
       "      <td>cellular</td>\n",
       "      <td>16</td>\n",
       "      <td>apr</td>\n",
       "      <td>185</td>\n",
       "      <td>1</td>\n",
       "      <td>330</td>\n",
       "      <td>1</td>\n",
       "      <td>failure</td>\n",
       "      <td>no</td>\n",
       "    </tr>\n",
       "    <tr>\n",
       "      <th>1</th>\n",
       "      <td>30</td>\n",
       "      <td>management</td>\n",
       "      <td>married</td>\n",
       "      <td>tertiary</td>\n",
       "      <td>no</td>\n",
       "      <td>1476</td>\n",
       "      <td>yes</td>\n",
       "      <td>yes</td>\n",
       "      <td>unknown</td>\n",
       "      <td>3</td>\n",
       "      <td>jun</td>\n",
       "      <td>199</td>\n",
       "      <td>4</td>\n",
       "      <td>-1</td>\n",
       "      <td>0</td>\n",
       "      <td>unknown</td>\n",
       "      <td>no</td>\n",
       "    </tr>\n",
       "    <tr>\n",
       "      <th>2</th>\n",
       "      <td>35</td>\n",
       "      <td>management</td>\n",
       "      <td>single</td>\n",
       "      <td>tertiary</td>\n",
       "      <td>no</td>\n",
       "      <td>747</td>\n",
       "      <td>no</td>\n",
       "      <td>no</td>\n",
       "      <td>cellular</td>\n",
       "      <td>23</td>\n",
       "      <td>feb</td>\n",
       "      <td>141</td>\n",
       "      <td>2</td>\n",
       "      <td>176</td>\n",
       "      <td>3</td>\n",
       "      <td>failure</td>\n",
       "      <td>no</td>\n",
       "    </tr>\n",
       "    <tr>\n",
       "      <th>3</th>\n",
       "      <td>40</td>\n",
       "      <td>management</td>\n",
       "      <td>married</td>\n",
       "      <td>tertiary</td>\n",
       "      <td>no</td>\n",
       "      <td>194</td>\n",
       "      <td>no</td>\n",
       "      <td>yes</td>\n",
       "      <td>cellular</td>\n",
       "      <td>29</td>\n",
       "      <td>aug</td>\n",
       "      <td>189</td>\n",
       "      <td>2</td>\n",
       "      <td>-1</td>\n",
       "      <td>0</td>\n",
       "      <td>unknown</td>\n",
       "      <td>no</td>\n",
       "    </tr>\n",
       "    <tr>\n",
       "      <th>4</th>\n",
       "      <td>38</td>\n",
       "      <td>management</td>\n",
       "      <td>divorced</td>\n",
       "      <td>unknown</td>\n",
       "      <td>no</td>\n",
       "      <td>0</td>\n",
       "      <td>yes</td>\n",
       "      <td>no</td>\n",
       "      <td>cellular</td>\n",
       "      <td>18</td>\n",
       "      <td>nov</td>\n",
       "      <td>96</td>\n",
       "      <td>2</td>\n",
       "      <td>-1</td>\n",
       "      <td>0</td>\n",
       "      <td>unknown</td>\n",
       "      <td>no</td>\n",
       "    </tr>\n",
       "  </tbody>\n",
       "</table>\n",
       "</div>"
      ]
     },
     "metadata": {
      "application/vnd.databricks.v1+output": {
       "addedWidgets": {},
       "arguments": {},
       "data": "<div>\n<style scoped>\n    .dataframe tbody tr th:only-of-type {\n        vertical-align: middle;\n    }\n\n    .dataframe tbody tr th {\n        vertical-align: top;\n    }\n\n    .dataframe thead th {\n        text-align: right;\n    }\n</style>\n<table border=\"1\" class=\"dataframe\">\n  <thead>\n    <tr style=\"text-align: right;\">\n      <th></th>\n      <th>age</th>\n      <th>job</th>\n      <th>marital</th>\n      <th>education</th>\n      <th>default</th>\n      <th>balance</th>\n      <th>housing</th>\n      <th>loan</th>\n      <th>contact</th>\n      <th>day</th>\n      <th>month</th>\n      <th>duration</th>\n      <th>campaign</th>\n      <th>pdays</th>\n      <th>previous</th>\n      <th>poutcome</th>\n      <th>y</th>\n    </tr>\n  </thead>\n  <tbody>\n    <tr>\n      <th>0</th>\n      <td>35</td>\n      <td>management</td>\n      <td>single</td>\n      <td>tertiary</td>\n      <td>no</td>\n      <td>1350</td>\n      <td>yes</td>\n      <td>no</td>\n      <td>cellular</td>\n      <td>16</td>\n      <td>apr</td>\n      <td>185</td>\n      <td>1</td>\n      <td>330</td>\n      <td>1</td>\n      <td>failure</td>\n      <td>no</td>\n    </tr>\n    <tr>\n      <th>1</th>\n      <td>30</td>\n      <td>management</td>\n      <td>married</td>\n      <td>tertiary</td>\n      <td>no</td>\n      <td>1476</td>\n      <td>yes</td>\n      <td>yes</td>\n      <td>unknown</td>\n      <td>3</td>\n      <td>jun</td>\n      <td>199</td>\n      <td>4</td>\n      <td>-1</td>\n      <td>0</td>\n      <td>unknown</td>\n      <td>no</td>\n    </tr>\n    <tr>\n      <th>2</th>\n      <td>35</td>\n      <td>management</td>\n      <td>single</td>\n      <td>tertiary</td>\n      <td>no</td>\n      <td>747</td>\n      <td>no</td>\n      <td>no</td>\n      <td>cellular</td>\n      <td>23</td>\n      <td>feb</td>\n      <td>141</td>\n      <td>2</td>\n      <td>176</td>\n      <td>3</td>\n      <td>failure</td>\n      <td>no</td>\n    </tr>\n    <tr>\n      <th>3</th>\n      <td>40</td>\n      <td>management</td>\n      <td>married</td>\n      <td>tertiary</td>\n      <td>no</td>\n      <td>194</td>\n      <td>no</td>\n      <td>yes</td>\n      <td>cellular</td>\n      <td>29</td>\n      <td>aug</td>\n      <td>189</td>\n      <td>2</td>\n      <td>-1</td>\n      <td>0</td>\n      <td>unknown</td>\n      <td>no</td>\n    </tr>\n    <tr>\n      <th>4</th>\n      <td>38</td>\n      <td>management</td>\n      <td>divorced</td>\n      <td>unknown</td>\n      <td>no</td>\n      <td>0</td>\n      <td>yes</td>\n      <td>no</td>\n      <td>cellular</td>\n      <td>18</td>\n      <td>nov</td>\n      <td>96</td>\n      <td>2</td>\n      <td>-1</td>\n      <td>0</td>\n      <td>unknown</td>\n      <td>no</td>\n    </tr>\n  </tbody>\n</table>\n</div>",
       "datasetInfos": [],
       "metadata": {},
       "removedWidgets": [],
       "textData": null,
       "type": "htmlSandbox"
      }
     },
     "output_type": "display_data"
    }
   ],
   "source": [
    "import pyspark.pandas as ps\n",
    "\n",
    "psdf = df.pandas_api()\n",
    "psdf.head(5)"
   ]
  },
  {
   "cell_type": "markdown",
   "metadata": {
    "application/vnd.databricks.v1+cell": {
     "cellMetadata": {},
     "inputWidgets": {},
     "nuid": "94c134bc-0cbb-41e6-80a2-28230bbdb81f",
     "showTitle": false,
     "title": ""
    },
    "id": "UMK2KbvG606C"
   },
   "source": [
    "4. How many datapoints are there in the dataset? Use the `.count()` method."
   ]
  },
  {
   "cell_type": "code",
   "execution_count": 0,
   "metadata": {
    "application/vnd.databricks.v1+cell": {
     "cellMetadata": {},
     "inputWidgets": {},
     "nuid": "d2bccb04-2a21-4053-bac9-44db61d30a14",
     "showTitle": false,
     "title": ""
    },
    "colab": {
     "base_uri": "https://localhost:8080/"
    },
    "id": "CGCjBX-8606C",
    "outputId": "dbf49fd1-5cb4-458c-c7f8-188dd8d9ecb0"
   },
   "outputs": [
    {
     "data": {
      "text/plain": [
       "Out[23]: (4521, 17)"
      ]
     },
     "metadata": {
      "application/vnd.databricks.v1+output": {
       "addedWidgets": {},
       "arguments": {},
       "data": "Out[23]: (4521, 17)",
       "datasetInfos": [],
       "metadata": {},
       "removedWidgets": [],
       "type": "ansi"
      }
     },
     "output_type": "display_data"
    }
   ],
   "source": [
    "psdf.shape"
   ]
  },
  {
   "cell_type": "code",
   "execution_count": 0,
   "metadata": {
    "application/vnd.databricks.v1+cell": {
     "cellMetadata": {},
     "inputWidgets": {},
     "nuid": "3631ee87-d426-4dba-8142-ceca7920ce7e",
     "showTitle": false,
     "title": ""
    }
   },
   "outputs": [
    {
     "data": {
      "text/plain": [
       "Out[24]: age          4521\n",
       "job          4521\n",
       "marital      4521\n",
       "education    4521\n",
       "default      4521\n",
       "balance      4521\n",
       "housing      4521\n",
       "loan         4521\n",
       "contact      4521\n",
       "day          4521\n",
       "month        4521\n",
       "duration     4521\n",
       "campaign     4521\n",
       "pdays        4521\n",
       "previous     4521\n",
       "poutcome     4521\n",
       "y            4521\n",
       "dtype: int64"
      ]
     },
     "metadata": {
      "application/vnd.databricks.v1+output": {
       "addedWidgets": {},
       "arguments": {},
       "data": "Out[24]: age          4521\njob          4521\nmarital      4521\neducation    4521\ndefault      4521\nbalance      4521\nhousing      4521\nloan         4521\ncontact      4521\nday          4521\nmonth        4521\nduration     4521\ncampaign     4521\npdays        4521\nprevious     4521\npoutcome     4521\ny            4521\ndtype: int64",
       "datasetInfos": [],
       "metadata": {},
       "removedWidgets": [],
       "type": "ansi"
      }
     },
     "output_type": "display_data"
    }
   ],
   "source": [
    "psdf.count()"
   ]
  },
  {
   "cell_type": "markdown",
   "metadata": {
    "application/vnd.databricks.v1+cell": {
     "cellMetadata": {},
     "inputWidgets": {},
     "nuid": "b6144fb2-2fb0-43d3-815c-f27cf860b1a4",
     "showTitle": false,
     "title": ""
    },
    "id": "B6chyZha606D"
   },
   "source": [
    "5. Use the `.describe()` method to see summary statistics on the features."
   ]
  },
  {
   "cell_type": "code",
   "execution_count": 0,
   "metadata": {
    "application/vnd.databricks.v1+cell": {
     "cellMetadata": {},
     "inputWidgets": {},
     "nuid": "37ed301c-bb4a-4c2d-ad01-9928daf3f06e",
     "showTitle": false,
     "title": ""
    },
    "colab": {
     "base_uri": "https://localhost:8080/",
     "height": 291
    },
    "id": "mpmp504K606D",
    "outputId": "97911142-6fb9-4ddc-f49c-363dfac124c4"
   },
   "outputs": [
    {
     "data": {
      "text/html": [
       "<div>\n",
       "<style scoped>\n",
       "    .dataframe tbody tr th:only-of-type {\n",
       "        vertical-align: middle;\n",
       "    }\n",
       "\n",
       "    .dataframe tbody tr th {\n",
       "        vertical-align: top;\n",
       "    }\n",
       "\n",
       "    .dataframe thead th {\n",
       "        text-align: right;\n",
       "    }\n",
       "</style>\n",
       "<table border=\"1\" class=\"dataframe\">\n",
       "  <thead>\n",
       "    <tr style=\"text-align: right;\">\n",
       "      <th></th>\n",
       "      <th>age</th>\n",
       "      <th>job</th>\n",
       "      <th>marital</th>\n",
       "      <th>education</th>\n",
       "      <th>default</th>\n",
       "      <th>balance</th>\n",
       "      <th>housing</th>\n",
       "      <th>loan</th>\n",
       "      <th>contact</th>\n",
       "      <th>day</th>\n",
       "      <th>month</th>\n",
       "      <th>duration</th>\n",
       "      <th>campaign</th>\n",
       "      <th>pdays</th>\n",
       "      <th>previous</th>\n",
       "      <th>poutcome</th>\n",
       "      <th>y</th>\n",
       "    </tr>\n",
       "  </thead>\n",
       "  <tbody>\n",
       "    <tr>\n",
       "      <th>count</th>\n",
       "      <td>4521</td>\n",
       "      <td>4521</td>\n",
       "      <td>4521</td>\n",
       "      <td>4521</td>\n",
       "      <td>4521</td>\n",
       "      <td>4521</td>\n",
       "      <td>4521</td>\n",
       "      <td>4521</td>\n",
       "      <td>4521</td>\n",
       "      <td>4521</td>\n",
       "      <td>4521</td>\n",
       "      <td>4521</td>\n",
       "      <td>4521</td>\n",
       "      <td>4521</td>\n",
       "      <td>4521</td>\n",
       "      <td>4521</td>\n",
       "      <td>4521</td>\n",
       "    </tr>\n",
       "    <tr>\n",
       "      <th>unique</th>\n",
       "      <td>67</td>\n",
       "      <td>12</td>\n",
       "      <td>3</td>\n",
       "      <td>4</td>\n",
       "      <td>2</td>\n",
       "      <td>2353</td>\n",
       "      <td>2</td>\n",
       "      <td>2</td>\n",
       "      <td>3</td>\n",
       "      <td>31</td>\n",
       "      <td>12</td>\n",
       "      <td>875</td>\n",
       "      <td>32</td>\n",
       "      <td>292</td>\n",
       "      <td>24</td>\n",
       "      <td>4</td>\n",
       "      <td>2</td>\n",
       "    </tr>\n",
       "    <tr>\n",
       "      <th>top</th>\n",
       "      <td>34</td>\n",
       "      <td>management</td>\n",
       "      <td>married</td>\n",
       "      <td>secondary</td>\n",
       "      <td>no</td>\n",
       "      <td>0</td>\n",
       "      <td>yes</td>\n",
       "      <td>no</td>\n",
       "      <td>cellular</td>\n",
       "      <td>20</td>\n",
       "      <td>may</td>\n",
       "      <td>123</td>\n",
       "      <td>1</td>\n",
       "      <td>-1</td>\n",
       "      <td>0</td>\n",
       "      <td>unknown</td>\n",
       "      <td>no</td>\n",
       "    </tr>\n",
       "    <tr>\n",
       "      <th>freq</th>\n",
       "      <td>231</td>\n",
       "      <td>969</td>\n",
       "      <td>2797</td>\n",
       "      <td>2306</td>\n",
       "      <td>4445</td>\n",
       "      <td>357</td>\n",
       "      <td>2559</td>\n",
       "      <td>3830</td>\n",
       "      <td>2896</td>\n",
       "      <td>257</td>\n",
       "      <td>1398</td>\n",
       "      <td>27</td>\n",
       "      <td>1734</td>\n",
       "      <td>3705</td>\n",
       "      <td>3705</td>\n",
       "      <td>3705</td>\n",
       "      <td>4000</td>\n",
       "    </tr>\n",
       "  </tbody>\n",
       "</table>\n",
       "</div>"
      ]
     },
     "metadata": {
      "application/vnd.databricks.v1+output": {
       "addedWidgets": {},
       "arguments": {},
       "data": "<div>\n<style scoped>\n    .dataframe tbody tr th:only-of-type {\n        vertical-align: middle;\n    }\n\n    .dataframe tbody tr th {\n        vertical-align: top;\n    }\n\n    .dataframe thead th {\n        text-align: right;\n    }\n</style>\n<table border=\"1\" class=\"dataframe\">\n  <thead>\n    <tr style=\"text-align: right;\">\n      <th></th>\n      <th>age</th>\n      <th>job</th>\n      <th>marital</th>\n      <th>education</th>\n      <th>default</th>\n      <th>balance</th>\n      <th>housing</th>\n      <th>loan</th>\n      <th>contact</th>\n      <th>day</th>\n      <th>month</th>\n      <th>duration</th>\n      <th>campaign</th>\n      <th>pdays</th>\n      <th>previous</th>\n      <th>poutcome</th>\n      <th>y</th>\n    </tr>\n  </thead>\n  <tbody>\n    <tr>\n      <th>count</th>\n      <td>4521</td>\n      <td>4521</td>\n      <td>4521</td>\n      <td>4521</td>\n      <td>4521</td>\n      <td>4521</td>\n      <td>4521</td>\n      <td>4521</td>\n      <td>4521</td>\n      <td>4521</td>\n      <td>4521</td>\n      <td>4521</td>\n      <td>4521</td>\n      <td>4521</td>\n      <td>4521</td>\n      <td>4521</td>\n      <td>4521</td>\n    </tr>\n    <tr>\n      <th>unique</th>\n      <td>67</td>\n      <td>12</td>\n      <td>3</td>\n      <td>4</td>\n      <td>2</td>\n      <td>2353</td>\n      <td>2</td>\n      <td>2</td>\n      <td>3</td>\n      <td>31</td>\n      <td>12</td>\n      <td>875</td>\n      <td>32</td>\n      <td>292</td>\n      <td>24</td>\n      <td>4</td>\n      <td>2</td>\n    </tr>\n    <tr>\n      <th>top</th>\n      <td>34</td>\n      <td>management</td>\n      <td>married</td>\n      <td>secondary</td>\n      <td>no</td>\n      <td>0</td>\n      <td>yes</td>\n      <td>no</td>\n      <td>cellular</td>\n      <td>20</td>\n      <td>may</td>\n      <td>123</td>\n      <td>1</td>\n      <td>-1</td>\n      <td>0</td>\n      <td>unknown</td>\n      <td>no</td>\n    </tr>\n    <tr>\n      <th>freq</th>\n      <td>231</td>\n      <td>969</td>\n      <td>2797</td>\n      <td>2306</td>\n      <td>4445</td>\n      <td>357</td>\n      <td>2559</td>\n      <td>3830</td>\n      <td>2896</td>\n      <td>257</td>\n      <td>1398</td>\n      <td>27</td>\n      <td>1734</td>\n      <td>3705</td>\n      <td>3705</td>\n      <td>3705</td>\n      <td>4000</td>\n    </tr>\n  </tbody>\n</table>\n</div>",
       "datasetInfos": [],
       "metadata": {},
       "removedWidgets": [],
       "textData": null,
       "type": "htmlSandbox"
      }
     },
     "output_type": "display_data"
    }
   ],
   "source": [
    "psdf.describe()"
   ]
  },
  {
   "cell_type": "markdown",
   "metadata": {
    "application/vnd.databricks.v1+cell": {
     "cellMetadata": {},
     "inputWidgets": {},
     "nuid": "c7e85015-5739-4f67-bd73-af23d1decf4c",
     "showTitle": false,
     "title": ""
    },
    "id": "8hdB0-gZ606D"
   },
   "source": [
    "6. The above result includes the columns that are categorical, so those columns don't have useful summary statistics. Let's inspect just the numeric features.\n",
    "\n",
    "    `numeric_features` is defined below to contain the column names of the numeric features.  Notice we use the `zip` functions to iterate through two lists at the same time!\n",
    "    \n",
    "    Filter the DataFrame as you would in pandas to select only the numeric features from the DataFrame and then get the summary statistics on the resulting DataFrame as we did above."
   ]
  },
  {
   "cell_type": "code",
   "execution_count": 0,
   "metadata": {
    "application/vnd.databricks.v1+cell": {
     "cellMetadata": {},
     "inputWidgets": {},
     "nuid": "5bf7d3c0-349f-45e7-ad29-27ef3934ac32",
     "showTitle": false,
     "title": ""
    }
   },
   "outputs": [],
   "source": [
    "'''\n",
    "the bank.csv only loaded strings..\n",
    "let's convert some of the features to int32\n",
    "'''\n",
    "psdf1 = psdf.astype({\"age\":\"int32\",\"balance\":\"int32\",\"day\":\"int32\",\"month\":\"int32\",\n",
    "                   \"duration\":\"int32\",\"previous\":\"int32\",\"pdays\":\"int32\",\"campaign\":\"int32\"})"
   ]
  },
  {
   "cell_type": "code",
   "execution_count": 0,
   "metadata": {
    "application/vnd.databricks.v1+cell": {
     "cellMetadata": {},
     "inputWidgets": {},
     "nuid": "95a02fe6-bf10-4867-9ddd-eeef8b015a5c",
     "showTitle": false,
     "title": ""
    }
   },
   "outputs": [
    {
     "data": {
      "text/html": [
       "<div>\n",
       "<style scoped>\n",
       "    .dataframe tbody tr th:only-of-type {\n",
       "        vertical-align: middle;\n",
       "    }\n",
       "\n",
       "    .dataframe tbody tr th {\n",
       "        vertical-align: top;\n",
       "    }\n",
       "\n",
       "    .dataframe thead th {\n",
       "        text-align: right;\n",
       "    }\n",
       "</style>\n",
       "<table border=\"1\" class=\"dataframe\">\n",
       "  <thead>\n",
       "    <tr style=\"text-align: right;\">\n",
       "      <th></th>\n",
       "      <th>age</th>\n",
       "      <th>job</th>\n",
       "      <th>marital</th>\n",
       "      <th>education</th>\n",
       "      <th>default</th>\n",
       "      <th>balance</th>\n",
       "      <th>housing</th>\n",
       "      <th>loan</th>\n",
       "      <th>contact</th>\n",
       "      <th>day</th>\n",
       "      <th>month</th>\n",
       "      <th>duration</th>\n",
       "      <th>campaign</th>\n",
       "      <th>pdays</th>\n",
       "      <th>previous</th>\n",
       "      <th>poutcome</th>\n",
       "      <th>y</th>\n",
       "    </tr>\n",
       "  </thead>\n",
       "  <tbody>\n",
       "    <tr>\n",
       "      <th>0</th>\n",
       "      <td>35</td>\n",
       "      <td>management</td>\n",
       "      <td>single</td>\n",
       "      <td>tertiary</td>\n",
       "      <td>no</td>\n",
       "      <td>1350</td>\n",
       "      <td>yes</td>\n",
       "      <td>no</td>\n",
       "      <td>cellular</td>\n",
       "      <td>16</td>\n",
       "      <td>NaN</td>\n",
       "      <td>185</td>\n",
       "      <td>1</td>\n",
       "      <td>330</td>\n",
       "      <td>1</td>\n",
       "      <td>failure</td>\n",
       "      <td>no</td>\n",
       "    </tr>\n",
       "    <tr>\n",
       "      <th>1</th>\n",
       "      <td>30</td>\n",
       "      <td>management</td>\n",
       "      <td>married</td>\n",
       "      <td>tertiary</td>\n",
       "      <td>no</td>\n",
       "      <td>1476</td>\n",
       "      <td>yes</td>\n",
       "      <td>yes</td>\n",
       "      <td>unknown</td>\n",
       "      <td>3</td>\n",
       "      <td>NaN</td>\n",
       "      <td>199</td>\n",
       "      <td>4</td>\n",
       "      <td>-1</td>\n",
       "      <td>0</td>\n",
       "      <td>unknown</td>\n",
       "      <td>no</td>\n",
       "    </tr>\n",
       "    <tr>\n",
       "      <th>2</th>\n",
       "      <td>35</td>\n",
       "      <td>management</td>\n",
       "      <td>single</td>\n",
       "      <td>tertiary</td>\n",
       "      <td>no</td>\n",
       "      <td>747</td>\n",
       "      <td>no</td>\n",
       "      <td>no</td>\n",
       "      <td>cellular</td>\n",
       "      <td>23</td>\n",
       "      <td>NaN</td>\n",
       "      <td>141</td>\n",
       "      <td>2</td>\n",
       "      <td>176</td>\n",
       "      <td>3</td>\n",
       "      <td>failure</td>\n",
       "      <td>no</td>\n",
       "    </tr>\n",
       "    <tr>\n",
       "      <th>3</th>\n",
       "      <td>40</td>\n",
       "      <td>management</td>\n",
       "      <td>married</td>\n",
       "      <td>tertiary</td>\n",
       "      <td>no</td>\n",
       "      <td>194</td>\n",
       "      <td>no</td>\n",
       "      <td>yes</td>\n",
       "      <td>cellular</td>\n",
       "      <td>29</td>\n",
       "      <td>NaN</td>\n",
       "      <td>189</td>\n",
       "      <td>2</td>\n",
       "      <td>-1</td>\n",
       "      <td>0</td>\n",
       "      <td>unknown</td>\n",
       "      <td>no</td>\n",
       "    </tr>\n",
       "    <tr>\n",
       "      <th>4</th>\n",
       "      <td>38</td>\n",
       "      <td>management</td>\n",
       "      <td>divorced</td>\n",
       "      <td>unknown</td>\n",
       "      <td>no</td>\n",
       "      <td>0</td>\n",
       "      <td>yes</td>\n",
       "      <td>no</td>\n",
       "      <td>cellular</td>\n",
       "      <td>18</td>\n",
       "      <td>NaN</td>\n",
       "      <td>96</td>\n",
       "      <td>2</td>\n",
       "      <td>-1</td>\n",
       "      <td>0</td>\n",
       "      <td>unknown</td>\n",
       "      <td>no</td>\n",
       "    </tr>\n",
       "  </tbody>\n",
       "</table>\n",
       "</div>"
      ]
     },
     "metadata": {
      "application/vnd.databricks.v1+output": {
       "addedWidgets": {},
       "arguments": {},
       "data": "<div>\n<style scoped>\n    .dataframe tbody tr th:only-of-type {\n        vertical-align: middle;\n    }\n\n    .dataframe tbody tr th {\n        vertical-align: top;\n    }\n\n    .dataframe thead th {\n        text-align: right;\n    }\n</style>\n<table border=\"1\" class=\"dataframe\">\n  <thead>\n    <tr style=\"text-align: right;\">\n      <th></th>\n      <th>age</th>\n      <th>job</th>\n      <th>marital</th>\n      <th>education</th>\n      <th>default</th>\n      <th>balance</th>\n      <th>housing</th>\n      <th>loan</th>\n      <th>contact</th>\n      <th>day</th>\n      <th>month</th>\n      <th>duration</th>\n      <th>campaign</th>\n      <th>pdays</th>\n      <th>previous</th>\n      <th>poutcome</th>\n      <th>y</th>\n    </tr>\n  </thead>\n  <tbody>\n    <tr>\n      <th>0</th>\n      <td>35</td>\n      <td>management</td>\n      <td>single</td>\n      <td>tertiary</td>\n      <td>no</td>\n      <td>1350</td>\n      <td>yes</td>\n      <td>no</td>\n      <td>cellular</td>\n      <td>16</td>\n      <td>NaN</td>\n      <td>185</td>\n      <td>1</td>\n      <td>330</td>\n      <td>1</td>\n      <td>failure</td>\n      <td>no</td>\n    </tr>\n    <tr>\n      <th>1</th>\n      <td>30</td>\n      <td>management</td>\n      <td>married</td>\n      <td>tertiary</td>\n      <td>no</td>\n      <td>1476</td>\n      <td>yes</td>\n      <td>yes</td>\n      <td>unknown</td>\n      <td>3</td>\n      <td>NaN</td>\n      <td>199</td>\n      <td>4</td>\n      <td>-1</td>\n      <td>0</td>\n      <td>unknown</td>\n      <td>no</td>\n    </tr>\n    <tr>\n      <th>2</th>\n      <td>35</td>\n      <td>management</td>\n      <td>single</td>\n      <td>tertiary</td>\n      <td>no</td>\n      <td>747</td>\n      <td>no</td>\n      <td>no</td>\n      <td>cellular</td>\n      <td>23</td>\n      <td>NaN</td>\n      <td>141</td>\n      <td>2</td>\n      <td>176</td>\n      <td>3</td>\n      <td>failure</td>\n      <td>no</td>\n    </tr>\n    <tr>\n      <th>3</th>\n      <td>40</td>\n      <td>management</td>\n      <td>married</td>\n      <td>tertiary</td>\n      <td>no</td>\n      <td>194</td>\n      <td>no</td>\n      <td>yes</td>\n      <td>cellular</td>\n      <td>29</td>\n      <td>NaN</td>\n      <td>189</td>\n      <td>2</td>\n      <td>-1</td>\n      <td>0</td>\n      <td>unknown</td>\n      <td>no</td>\n    </tr>\n    <tr>\n      <th>4</th>\n      <td>38</td>\n      <td>management</td>\n      <td>divorced</td>\n      <td>unknown</td>\n      <td>no</td>\n      <td>0</td>\n      <td>yes</td>\n      <td>no</td>\n      <td>cellular</td>\n      <td>18</td>\n      <td>NaN</td>\n      <td>96</td>\n      <td>2</td>\n      <td>-1</td>\n      <td>0</td>\n      <td>unknown</td>\n      <td>no</td>\n    </tr>\n  </tbody>\n</table>\n</div>",
       "datasetInfos": [],
       "metadata": {},
       "removedWidgets": [],
       "textData": null,
       "type": "htmlSandbox"
      }
     },
     "output_type": "display_data"
    }
   ],
   "source": [
    "psdf1.head()"
   ]
  },
  {
   "cell_type": "code",
   "execution_count": 0,
   "metadata": {
    "application/vnd.databricks.v1+cell": {
     "cellMetadata": {},
     "inputWidgets": {},
     "nuid": "50c25e63-e62b-4ce7-b963-e20c3c0d5060",
     "showTitle": false,
     "title": ""
    }
   },
   "outputs": [
    {
     "data": {
      "text/plain": [
       "Out[31]: age           int32\n",
       "job          object\n",
       "marital      object\n",
       "education    object\n",
       "default      object\n",
       "balance       int32\n",
       "housing      object\n",
       "loan         object\n",
       "contact      object\n",
       "day           int32\n",
       "month         int32\n",
       "duration      int32\n",
       "campaign      int32\n",
       "pdays         int32\n",
       "previous      int32\n",
       "poutcome     object\n",
       "y            object\n",
       "dtype: object"
      ]
     },
     "metadata": {
      "application/vnd.databricks.v1+output": {
       "addedWidgets": {},
       "arguments": {},
       "data": "Out[31]: age           int32\njob          object\nmarital      object\neducation    object\ndefault      object\nbalance       int32\nhousing      object\nloan         object\ncontact      object\nday           int32\nmonth         int32\nduration      int32\ncampaign      int32\npdays         int32\nprevious      int32\npoutcome     object\ny            object\ndtype: object",
       "datasetInfos": [],
       "metadata": {},
       "removedWidgets": [],
       "type": "ansi"
      }
     },
     "output_type": "display_data"
    }
   ],
   "source": [
    "psdf1.dtypes"
   ]
  },
  {
   "cell_type": "code",
   "execution_count": 0,
   "metadata": {
    "application/vnd.databricks.v1+cell": {
     "cellMetadata": {},
     "inputWidgets": {},
     "nuid": "b843ce9c-92bb-4e45-b54a-4fea20d7e5d7",
     "showTitle": false,
     "title": ""
    },
    "colab": {
     "base_uri": "https://localhost:8080/",
     "height": 291
    },
    "id": "xP4uY29z606E",
    "outputId": "8fbfb144-ab13-41be-f43e-1137c256b5d8"
   },
   "outputs": [
    {
     "data": {
      "text/html": [
       "<div>\n",
       "<style scoped>\n",
       "    .dataframe tbody tr th:only-of-type {\n",
       "        vertical-align: middle;\n",
       "    }\n",
       "\n",
       "    .dataframe tbody tr th {\n",
       "        vertical-align: top;\n",
       "    }\n",
       "\n",
       "    .dataframe thead th {\n",
       "        text-align: right;\n",
       "    }\n",
       "</style>\n",
       "<table border=\"1\" class=\"dataframe\">\n",
       "  <thead>\n",
       "    <tr style=\"text-align: right;\">\n",
       "      <th></th>\n",
       "      <th>age</th>\n",
       "      <th>balance</th>\n",
       "      <th>day</th>\n",
       "      <th>month</th>\n",
       "      <th>duration</th>\n",
       "      <th>campaign</th>\n",
       "      <th>pdays</th>\n",
       "      <th>previous</th>\n",
       "    </tr>\n",
       "  </thead>\n",
       "  <tbody>\n",
       "    <tr>\n",
       "      <th>count</th>\n",
       "      <td>4521.000000</td>\n",
       "      <td>4521.000000</td>\n",
       "      <td>4521.000000</td>\n",
       "      <td>0.0</td>\n",
       "      <td>4521.000000</td>\n",
       "      <td>4521.000000</td>\n",
       "      <td>4521.000000</td>\n",
       "      <td>4521.000000</td>\n",
       "    </tr>\n",
       "    <tr>\n",
       "      <th>mean</th>\n",
       "      <td>41.170095</td>\n",
       "      <td>1422.657819</td>\n",
       "      <td>15.915284</td>\n",
       "      <td>NaN</td>\n",
       "      <td>263.961292</td>\n",
       "      <td>2.793630</td>\n",
       "      <td>39.766645</td>\n",
       "      <td>0.542579</td>\n",
       "    </tr>\n",
       "    <tr>\n",
       "      <th>std</th>\n",
       "      <td>10.576211</td>\n",
       "      <td>3009.638142</td>\n",
       "      <td>8.247667</td>\n",
       "      <td>NaN</td>\n",
       "      <td>259.856633</td>\n",
       "      <td>3.109807</td>\n",
       "      <td>100.121124</td>\n",
       "      <td>1.693562</td>\n",
       "    </tr>\n",
       "    <tr>\n",
       "      <th>min</th>\n",
       "      <td>19.000000</td>\n",
       "      <td>-3313.000000</td>\n",
       "      <td>1.000000</td>\n",
       "      <td>NaN</td>\n",
       "      <td>4.000000</td>\n",
       "      <td>1.000000</td>\n",
       "      <td>-1.000000</td>\n",
       "      <td>0.000000</td>\n",
       "    </tr>\n",
       "    <tr>\n",
       "      <th>25%</th>\n",
       "      <td>33.000000</td>\n",
       "      <td>69.000000</td>\n",
       "      <td>9.000000</td>\n",
       "      <td>NaN</td>\n",
       "      <td>104.000000</td>\n",
       "      <td>1.000000</td>\n",
       "      <td>-1.000000</td>\n",
       "      <td>0.000000</td>\n",
       "    </tr>\n",
       "    <tr>\n",
       "      <th>50%</th>\n",
       "      <td>39.000000</td>\n",
       "      <td>444.000000</td>\n",
       "      <td>16.000000</td>\n",
       "      <td>NaN</td>\n",
       "      <td>185.000000</td>\n",
       "      <td>2.000000</td>\n",
       "      <td>-1.000000</td>\n",
       "      <td>0.000000</td>\n",
       "    </tr>\n",
       "    <tr>\n",
       "      <th>75%</th>\n",
       "      <td>49.000000</td>\n",
       "      <td>1480.000000</td>\n",
       "      <td>21.000000</td>\n",
       "      <td>NaN</td>\n",
       "      <td>329.000000</td>\n",
       "      <td>3.000000</td>\n",
       "      <td>-1.000000</td>\n",
       "      <td>0.000000</td>\n",
       "    </tr>\n",
       "    <tr>\n",
       "      <th>max</th>\n",
       "      <td>87.000000</td>\n",
       "      <td>71188.000000</td>\n",
       "      <td>31.000000</td>\n",
       "      <td>NaN</td>\n",
       "      <td>3025.000000</td>\n",
       "      <td>50.000000</td>\n",
       "      <td>871.000000</td>\n",
       "      <td>25.000000</td>\n",
       "    </tr>\n",
       "  </tbody>\n",
       "</table>\n",
       "</div>"
      ]
     },
     "metadata": {
      "application/vnd.databricks.v1+output": {
       "addedWidgets": {},
       "arguments": {},
       "data": "<div>\n<style scoped>\n    .dataframe tbody tr th:only-of-type {\n        vertical-align: middle;\n    }\n\n    .dataframe tbody tr th {\n        vertical-align: top;\n    }\n\n    .dataframe thead th {\n        text-align: right;\n    }\n</style>\n<table border=\"1\" class=\"dataframe\">\n  <thead>\n    <tr style=\"text-align: right;\">\n      <th></th>\n      <th>age</th>\n      <th>balance</th>\n      <th>day</th>\n      <th>month</th>\n      <th>duration</th>\n      <th>campaign</th>\n      <th>pdays</th>\n      <th>previous</th>\n    </tr>\n  </thead>\n  <tbody>\n    <tr>\n      <th>count</th>\n      <td>4521.000000</td>\n      <td>4521.000000</td>\n      <td>4521.000000</td>\n      <td>0.0</td>\n      <td>4521.000000</td>\n      <td>4521.000000</td>\n      <td>4521.000000</td>\n      <td>4521.000000</td>\n    </tr>\n    <tr>\n      <th>mean</th>\n      <td>41.170095</td>\n      <td>1422.657819</td>\n      <td>15.915284</td>\n      <td>NaN</td>\n      <td>263.961292</td>\n      <td>2.793630</td>\n      <td>39.766645</td>\n      <td>0.542579</td>\n    </tr>\n    <tr>\n      <th>std</th>\n      <td>10.576211</td>\n      <td>3009.638142</td>\n      <td>8.247667</td>\n      <td>NaN</td>\n      <td>259.856633</td>\n      <td>3.109807</td>\n      <td>100.121124</td>\n      <td>1.693562</td>\n    </tr>\n    <tr>\n      <th>min</th>\n      <td>19.000000</td>\n      <td>-3313.000000</td>\n      <td>1.000000</td>\n      <td>NaN</td>\n      <td>4.000000</td>\n      <td>1.000000</td>\n      <td>-1.000000</td>\n      <td>0.000000</td>\n    </tr>\n    <tr>\n      <th>25%</th>\n      <td>33.000000</td>\n      <td>69.000000</td>\n      <td>9.000000</td>\n      <td>NaN</td>\n      <td>104.000000</td>\n      <td>1.000000</td>\n      <td>-1.000000</td>\n      <td>0.000000</td>\n    </tr>\n    <tr>\n      <th>50%</th>\n      <td>39.000000</td>\n      <td>444.000000</td>\n      <td>16.000000</td>\n      <td>NaN</td>\n      <td>185.000000</td>\n      <td>2.000000</td>\n      <td>-1.000000</td>\n      <td>0.000000</td>\n    </tr>\n    <tr>\n      <th>75%</th>\n      <td>49.000000</td>\n      <td>1480.000000</td>\n      <td>21.000000</td>\n      <td>NaN</td>\n      <td>329.000000</td>\n      <td>3.000000</td>\n      <td>-1.000000</td>\n      <td>0.000000</td>\n    </tr>\n    <tr>\n      <th>max</th>\n      <td>87.000000</td>\n      <td>71188.000000</td>\n      <td>31.000000</td>\n      <td>NaN</td>\n      <td>3025.000000</td>\n      <td>50.000000</td>\n      <td>871.000000</td>\n      <td>25.000000</td>\n    </tr>\n  </tbody>\n</table>\n</div>",
       "datasetInfos": [],
       "metadata": {},
       "removedWidgets": [],
       "textData": null,
       "type": "htmlSandbox"
      }
     },
     "output_type": "display_data"
    }
   ],
   "source": [
    "col_names = [name for name in psdf1.dtypes.index]\n",
    "dtypes = [dtype for dtype in psdf1.dtypes.tolist()]\n",
    "\n",
    "numeric_features = [name for name, dtype in zip(col_names, dtypes) if dtype == 'int32']\n",
    "psdf1[numeric_features].describe()"
   ]
  },
  {
   "cell_type": "markdown",
   "metadata": {
    "application/vnd.databricks.v1+cell": {
     "cellMetadata": {},
     "inputWidgets": {},
     "nuid": "72534767-044a-417d-957c-ab26679b103d",
     "showTitle": false,
     "title": ""
    },
    "id": "gOBPcOPe606E"
   },
   "source": [
    "7. Run the following code to look at correlation between the numeric features.  Let's convert our Pandas on Spark DataFrame to a Pandas DataFrame using the `to_pandas()` command. This will enable us to plot the data.  What do you see?"
   ]
  },
  {
   "cell_type": "code",
   "execution_count": 0,
   "metadata": {
    "application/vnd.databricks.v1+cell": {
     "cellMetadata": {},
     "inputWidgets": {},
     "nuid": "1cfda4ef-8aa3-4f69-8ca8-101d11f17e8e",
     "showTitle": false,
     "title": ""
    },
    "colab": {
     "base_uri": "https://localhost:8080/",
     "height": 571
    },
    "id": "_3iYP4Ma606E",
    "outputId": "f719637a-43b2-4817-99b1-3293e5875b4a"
   },
   "outputs": [
    {
     "data": {
      "text/plain": [
       "\u001b[0;31m---------------------------------------------------------------------------\u001b[0m\n",
       "\u001b[0;31mAttributeError\u001b[0m                            Traceback (most recent call last)\n",
       "File \u001b[0;32m<command-1665095427324476>:4\u001b[0m\n",
       "\u001b[1;32m      1\u001b[0m \u001b[38;5;66;03m# Convert Pandas on Spark DataFrame to Spark DataFrame\u001b[39;00m\n",
       "\u001b[1;32m      2\u001b[0m numeric_data \u001b[38;5;241m=\u001b[39m psdf1[numeric_features]\u001b[38;5;241m.\u001b[39mto_pandas()\n",
       "\u001b[0;32m----> 4\u001b[0m axs \u001b[38;5;241m=\u001b[39m pd\u001b[38;5;241m.\u001b[39mscatter_matrix(numeric_data, figsize\u001b[38;5;241m=\u001b[39m(\u001b[38;5;241m8\u001b[39m, \u001b[38;5;241m8\u001b[39m));\n",
       "\u001b[1;32m      5\u001b[0m n \u001b[38;5;241m=\u001b[39m \u001b[38;5;28mlen\u001b[39m(numeric_data\u001b[38;5;241m.\u001b[39mcolumns)\n",
       "\u001b[1;32m      7\u001b[0m \u001b[38;5;28;01mfor\u001b[39;00m i \u001b[38;5;129;01min\u001b[39;00m \u001b[38;5;28mrange\u001b[39m(n):\n",
       "\n",
       "File \u001b[0;32m/databricks/python/lib/python3.9/site-packages/pandas/__init__.py:261\u001b[0m, in \u001b[0;36m__getattr__\u001b[0;34m(name)\u001b[0m\n",
       "\u001b[1;32m    257\u001b[0m     \u001b[38;5;28;01mfrom\u001b[39;00m \u001b[38;5;21;01mpandas\u001b[39;00m\u001b[38;5;21;01m.\u001b[39;00m\u001b[38;5;21;01mcore\u001b[39;00m\u001b[38;5;21;01m.\u001b[39;00m\u001b[38;5;21;01marrays\u001b[39;00m\u001b[38;5;21;01m.\u001b[39;00m\u001b[38;5;21;01msparse\u001b[39;00m \u001b[38;5;28;01mimport\u001b[39;00m SparseArray \u001b[38;5;28;01mas\u001b[39;00m _SparseArray\n",
       "\u001b[1;32m    259\u001b[0m     \u001b[38;5;28;01mreturn\u001b[39;00m _SparseArray\n",
       "\u001b[0;32m--> 261\u001b[0m \u001b[38;5;28;01mraise\u001b[39;00m \u001b[38;5;167;01mAttributeError\u001b[39;00m(\u001b[38;5;124mf\u001b[39m\u001b[38;5;124m\"\u001b[39m\u001b[38;5;124mmodule \u001b[39m\u001b[38;5;124m'\u001b[39m\u001b[38;5;124mpandas\u001b[39m\u001b[38;5;124m'\u001b[39m\u001b[38;5;124m has no attribute \u001b[39m\u001b[38;5;124m'\u001b[39m\u001b[38;5;132;01m{\u001b[39;00mname\u001b[38;5;132;01m}\u001b[39;00m\u001b[38;5;124m'\u001b[39m\u001b[38;5;124m\"\u001b[39m)\n",
       "\n",
       "\u001b[0;31mAttributeError\u001b[0m: module 'pandas' has no attribute 'scatter_matrix'"
      ]
     },
     "metadata": {
      "application/vnd.databricks.v1+output": {
       "arguments": {},
       "data": "\u001b[0;31m---------------------------------------------------------------------------\u001b[0m\n\u001b[0;31mAttributeError\u001b[0m                            Traceback (most recent call last)\nFile \u001b[0;32m<command-1665095427324476>:4\u001b[0m\n\u001b[1;32m      1\u001b[0m \u001b[38;5;66;03m# Convert Pandas on Spark DataFrame to Spark DataFrame\u001b[39;00m\n\u001b[1;32m      2\u001b[0m numeric_data \u001b[38;5;241m=\u001b[39m psdf1[numeric_features]\u001b[38;5;241m.\u001b[39mto_pandas()\n\u001b[0;32m----> 4\u001b[0m axs \u001b[38;5;241m=\u001b[39m pd\u001b[38;5;241m.\u001b[39mscatter_matrix(numeric_data, figsize\u001b[38;5;241m=\u001b[39m(\u001b[38;5;241m8\u001b[39m, \u001b[38;5;241m8\u001b[39m));\n\u001b[1;32m      5\u001b[0m n \u001b[38;5;241m=\u001b[39m \u001b[38;5;28mlen\u001b[39m(numeric_data\u001b[38;5;241m.\u001b[39mcolumns)\n\u001b[1;32m      7\u001b[0m \u001b[38;5;28;01mfor\u001b[39;00m i \u001b[38;5;129;01min\u001b[39;00m \u001b[38;5;28mrange\u001b[39m(n):\n\nFile \u001b[0;32m/databricks/python/lib/python3.9/site-packages/pandas/__init__.py:261\u001b[0m, in \u001b[0;36m__getattr__\u001b[0;34m(name)\u001b[0m\n\u001b[1;32m    257\u001b[0m     \u001b[38;5;28;01mfrom\u001b[39;00m \u001b[38;5;21;01mpandas\u001b[39;00m\u001b[38;5;21;01m.\u001b[39;00m\u001b[38;5;21;01mcore\u001b[39;00m\u001b[38;5;21;01m.\u001b[39;00m\u001b[38;5;21;01marrays\u001b[39;00m\u001b[38;5;21;01m.\u001b[39;00m\u001b[38;5;21;01msparse\u001b[39;00m \u001b[38;5;28;01mimport\u001b[39;00m SparseArray \u001b[38;5;28;01mas\u001b[39;00m _SparseArray\n\u001b[1;32m    259\u001b[0m     \u001b[38;5;28;01mreturn\u001b[39;00m _SparseArray\n\u001b[0;32m--> 261\u001b[0m \u001b[38;5;28;01mraise\u001b[39;00m \u001b[38;5;167;01mAttributeError\u001b[39;00m(\u001b[38;5;124mf\u001b[39m\u001b[38;5;124m\"\u001b[39m\u001b[38;5;124mmodule \u001b[39m\u001b[38;5;124m'\u001b[39m\u001b[38;5;124mpandas\u001b[39m\u001b[38;5;124m'\u001b[39m\u001b[38;5;124m has no attribute \u001b[39m\u001b[38;5;124m'\u001b[39m\u001b[38;5;132;01m{\u001b[39;00mname\u001b[38;5;132;01m}\u001b[39;00m\u001b[38;5;124m'\u001b[39m\u001b[38;5;124m\"\u001b[39m)\n\n\u001b[0;31mAttributeError\u001b[0m: module 'pandas' has no attribute 'scatter_matrix'",
       "errorSummary": "<span class='ansi-red-fg'>AttributeError</span>: module 'pandas' has no attribute 'scatter_matrix'",
       "errorTraceType": "ansi",
       "metadata": {},
       "type": "ipynbError"
      }
     },
     "output_type": "display_data"
    }
   ],
   "source": [
    "# Convert Pandas on Spark DataFrame to Spark DataFrame\n",
    "numeric_data = psdf1[numeric_features].to_pandas()\n",
    "\n",
    "axs = pd.scatter_matrix(numeric_data, figsize=(8, 8));\n",
    "n = len(numeric_data.columns)\n",
    "\n",
    "for i in range(n):\n",
    "    v = axs[i, 0]\n",
    "    v.yaxis.label.set_rotation(0)\n",
    "    v.yaxis.label.set_ha('right')\n",
    "    v.set_yticks(())\n",
    "    h = axs[n - 1, i]\n",
    "    h.xaxis.label.set_rotation(90)\n",
    "    h.set_xticks(())"
   ]
  },
  {
   "cell_type": "code",
   "execution_count": 0,
   "metadata": {
    "application/vnd.databricks.v1+cell": {
     "cellMetadata": {},
     "inputWidgets": {},
     "nuid": "50155296-39fd-4e0d-9580-d927227bf993",
     "showTitle": false,
     "title": ""
    }
   },
   "outputs": [],
   "source": [
    "import seaborn as sns\n",
    "import matplotlib as plt"
   ]
  },
  {
   "cell_type": "code",
   "execution_count": 0,
   "metadata": {
    "application/vnd.databricks.v1+cell": {
     "cellMetadata": {},
     "inputWidgets": {},
     "nuid": "97549da0-769d-48a5-9c39-fb0536b35037",
     "showTitle": false,
     "title": ""
    }
   },
   "outputs": [
    {
     "data": {
      "image/png": "[encoded data removed]"
     },
     "metadata": {
      "application/vnd.databricks.v1+output": {
       "addedWidgets": {},
       "arguments": {},
       "data": "data:image/png;base64,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\n",
       "datasetInfos": [],
       "metadata": {},
       "removedWidgets": [],
       "type": "image"
      }
     },
     "output_type": "display_data"
    }
   ],
   "source": [
    "#plt.figure(figsize=(6, 6))\n",
    "\n",
    "numeric_data = psdf1[numeric_features].to_pandas()\n",
    "corr = numeric_data.corr(method='spearman')\n",
    "heatmap = sns.heatmap(corr,\n",
    "                      vmin=-1, vmax=1, annot=True, fmt='.1g', cmap='BrBG')\n",
    "heatmap.set_title('Features Correlations with', fontdict={'fontsize':12}, pad=16);"
   ]
  },
  {
   "cell_type": "markdown",
   "metadata": {
    "application/vnd.databricks.v1+cell": {
     "cellMetadata": {},
     "inputWidgets": {},
     "nuid": "79d455fa-6ee2-4de6-b055-fece294607d9",
     "showTitle": false,
     "title": ""
    },
    "id": "oqJ0UpN7606E"
   },
   "source": [
    "There aren't any highly correlated variables, implying that we can keep them all for the model. However, day and month columns are not really useful, so will remove these two columns.\n",
    "\n",
    "8. Use the `.drop()` method to remove the `month` and `day` columns.\n",
    "    \n",
    "    Note that this method returns a new DataFrame, so save that result as `sdf`.\n",
    "\n",
    "    Use the `.dtypes` method to verify that `sdf` now has the correct columns."
   ]
  },
  {
   "cell_type": "code",
   "execution_count": 0,
   "metadata": {
    "application/vnd.databricks.v1+cell": {
     "cellMetadata": {},
     "inputWidgets": {},
     "nuid": "adef7a84-4270-4108-9849-ef699d0d7541",
     "showTitle": false,
     "title": ""
    },
    "colab": {
     "base_uri": "https://localhost:8080/"
    },
    "id": "BBiC1jtR606F",
    "outputId": "22b40379-bf5e-47a0-b338-5e936d58109b"
   },
   "outputs": [
    {
     "data": {
      "text/plain": []
     },
     "metadata": {
      "application/vnd.databricks.v1+output": {
       "arguments": {},
       "data": "",
       "errorSummary": "Command skipped",
       "errorTraceType": "ansi",
       "metadata": {},
       "type": "ipynbError"
      }
     },
     "output_type": "display_data"
    }
   ],
   "source": [
    "psdf1.dtypes"
   ]
  },
  {
   "cell_type": "code",
   "execution_count": 0,
   "metadata": {
    "application/vnd.databricks.v1+cell": {
     "cellMetadata": {},
     "inputWidgets": {},
     "nuid": "4ac8bab5-101a-419e-b7b8-aa59fa14681e",
     "showTitle": false,
     "title": ""
    }
   },
   "outputs": [
    {
     "data": {
      "text/plain": []
     },
     "metadata": {
      "application/vnd.databricks.v1+output": {
       "arguments": {},
       "data": "",
       "errorSummary": "Command skipped",
       "errorTraceType": "ansi",
       "metadata": {},
       "type": "ipynbError"
      }
     },
     "output_type": "display_data"
    }
   ],
   "source": [
    "sdf = psdf1.drop(columns=['day','month'],axis=1)"
   ]
  },
  {
   "cell_type": "code",
   "execution_count": 0,
   "metadata": {
    "application/vnd.databricks.v1+cell": {
     "cellMetadata": {},
     "inputWidgets": {},
     "nuid": "aa80e5b0-21a4-4fbf-8461-ef24aa9ed18c",
     "showTitle": false,
     "title": ""
    }
   },
   "outputs": [
    {
     "data": {
      "text/plain": []
     },
     "metadata": {
      "application/vnd.databricks.v1+output": {
       "arguments": {},
       "data": "",
       "errorSummary": "Command skipped",
       "errorTraceType": "ansi",
       "metadata": {},
       "type": "ipynbError"
      }
     },
     "output_type": "display_data"
    }
   ],
   "source": [
    "sdf.dtypes"
   ]
  },
  {
   "cell_type": "markdown",
   "metadata": {
    "application/vnd.databricks.v1+cell": {
     "cellMetadata": {},
     "inputWidgets": {},
     "nuid": "dc7c7c08-3090-4609-b0b3-a5ffa6be0981",
     "showTitle": false,
     "title": ""
    },
    "id": "NaVpHgTy606F"
   },
   "source": [
    "## Part 3: Preparing Data for Training a Model\n",
    "\n",
    "What follows is something analagous to a dataloader pipeline in Tensorflow--we're going to chain together some transformations that will convert our categorical variables into a one-hot format more amenable to training a machine learning model. \n",
    "The next code cell just sets this all up, but it doesn't run these transformations on our data yet."
   ]
  },
  {
   "cell_type": "markdown",
   "metadata": {
    "application/vnd.databricks.v1+cell": {
     "cellMetadata": {},
     "inputWidgets": {},
     "nuid": "72e6e744-d740-4365-b02a-cec38e4b0779",
     "showTitle": false,
     "title": ""
    },
    "id": "gO45xEZ9606F"
   },
   "source": [
    "The process includes Category Indexing, One-Hot Encoding and VectorAssembler — a feature transformation that merges multiple columns into a vector column."
   ]
  },
  {
   "cell_type": "markdown",
   "metadata": {
    "application/vnd.databricks.v1+cell": {
     "cellMetadata": {},
     "inputWidgets": {},
     "nuid": "c20c43bc-899c-46fd-8cd8-68f7faddd8b9",
     "showTitle": false,
     "title": ""
    },
    "id": "TIBGTMSU606G"
   },
   "source": [
    "The code is taken from [databricks’ official site](https://docs.databricks.com/applications/machine-learning/train-model/mllib/index.html#binary-classification-example) and it indexes each categorical column using the StringIndexer, then converts the indexed categories into one-hot encoded variables. \n",
    "The resulting output has the binary vectors appended to the end of each row. \n",
    "We use the StringIndexer again to encode our labels to label indices. \n",
    "Next, we use the VectorAssembler to combine all the feature columns into a single vector column."
   ]
  },
  {
   "cell_type": "markdown",
   "metadata": {
    "application/vnd.databricks.v1+cell": {
     "cellMetadata": {},
     "inputWidgets": {},
     "nuid": "e588fd56-5dcb-42b2-b6da-3a61fa85ed3c",
     "showTitle": false,
     "title": ""
    },
    "id": "q5Zs_fki606G"
   },
   "source": [
    "1. Complete the code by completing the assignment of `assembler`. Use `VectorAssembler` and pass in `assemblerInputs` as `inputCols` and name the `outputCol` `\"features\"`."
   ]
  },
  {
   "cell_type": "code",
   "execution_count": 0,
   "metadata": {
    "application/vnd.databricks.v1+cell": {
     "cellMetadata": {},
     "inputWidgets": {},
     "nuid": "2f4b6f3b-a25b-4c93-ae7b-d9fcf8d451df",
     "showTitle": false,
     "title": ""
    },
    "id": "beyBChtD606G"
   },
   "outputs": [
    {
     "data": {
      "text/plain": []
     },
     "metadata": {
      "application/vnd.databricks.v1+output": {
       "arguments": {},
       "data": "",
       "errorSummary": "Command skipped",
       "errorTraceType": "ansi",
       "metadata": {},
       "type": "ipynbError"
      }
     },
     "output_type": "display_data"
    }
   ],
   "source": [
    "from pyspark.ml.feature import OneHotEncoder , StringIndexer, VectorAssembler\n",
    "\n",
    "categoricalColumns = ['job', 'marital', 'education', 'default', 'housing', 'loan', 'contact', 'poutcome']\n",
    "stages = []\n",
    "\n",
    "for categoricalCol in categoricalColumns:\n",
    "    stringIndexer = StringIndexer(inputCol = categoricalCol, outputCol = categoricalCol + 'Index')\n",
    "    encoder = OneHotEncoder(inputCols=[stringIndexer.getOutputCol()], outputCols=[categoricalCol + \"classVec\"])\n",
    "    stages += [stringIndexer, encoder]\n",
    "\n",
    "label_stringIdx = StringIndexer(inputCol = 'y', outputCol = 'label')\n",
    "stages += [label_stringIdx]\n",
    "numericCols = ['age', 'balance', 'duration', 'campaign', 'pdays', 'previous']\n",
    "assemblerInputs = [c + \"classVec\" for c in categoricalColumns] + numericCols\n",
    "assembler = VectorAssembler(inputCols = assemblerInputs, outputCol = \"features\")# [YOUR CODE HERE]\n",
    "stages += [assembler]"
   ]
  },
  {
   "cell_type": "code",
   "execution_count": 0,
   "metadata": {
    "application/vnd.databricks.v1+cell": {
     "cellMetadata": {},
     "inputWidgets": {},
     "nuid": "a2a14213-81db-4118-8805-43066016aee8",
     "showTitle": false,
     "title": ""
    }
   },
   "outputs": [
    {
     "data": {
      "text/plain": []
     },
     "metadata": {
      "application/vnd.databricks.v1+output": {
       "arguments": {},
       "data": "",
       "errorSummary": "Command skipped",
       "errorTraceType": "ansi",
       "metadata": {},
       "type": "ipynbError"
      }
     },
     "output_type": "display_data"
    }
   ],
   "source": [
    "stages # couple for label, age, balance, duration, campaign, pdays, previous,features?"
   ]
  },
  {
   "cell_type": "markdown",
   "metadata": {
    "application/vnd.databricks.v1+cell": {
     "cellMetadata": {},
     "inputWidgets": {},
     "nuid": "0a430a65-f90a-4941-8476-7497416dd0b8",
     "showTitle": false,
     "title": ""
    },
    "id": "gsTuJQBk606G"
   },
   "source": [
    "## Part 4: Pipeline"
   ]
  },
  {
   "cell_type": "markdown",
   "metadata": {
    "application/vnd.databricks.v1+cell": {
     "cellMetadata": {},
     "inputWidgets": {},
     "nuid": "e6191ae8-826c-405c-835b-85ccde4ed00d",
     "showTitle": false,
     "title": ""
    },
    "id": "mDNzrSSr606H"
   },
   "source": [
    "We use Pipeline to chain multiple transformations and estimators together to specify our machine learning workflow. \n",
    "A Pipeline’s stages are specified as an ordered array.  \n",
    "To run the pipeline on our Pandas on Spark DataFrame, we will convert it back to a Spark DataFrame using the **`to_spark()`** command\n",
    "\n",
    "1. Fit a pipeline on df."
   ]
  },
  {
   "cell_type": "code",
   "execution_count": 0,
   "metadata": {
    "application/vnd.databricks.v1+cell": {
     "cellMetadata": {},
     "inputWidgets": {},
     "nuid": "47f46c87-ed5e-425d-bf78-16a63b4b80b3",
     "showTitle": false,
     "title": ""
    }
   },
   "outputs": [
    {
     "data": {
      "text/plain": []
     },
     "metadata": {
      "application/vnd.databricks.v1+output": {
       "arguments": {},
       "data": "",
       "errorSummary": "Command skipped",
       "errorTraceType": "ansi",
       "metadata": {},
       "type": "ipynbError"
      }
     },
     "output_type": "display_data"
    }
   ],
   "source": [
    "from pyspark.ml import Pipeline\n",
    "sdf = sdf.to_spark()\n",
    "pipeline = Pipeline(stages=stages)\n",
    "\n",
    "pipelineModel = pipeline.fit(sdf)# [YOUR CODE HERE]"
   ]
  },
  {
   "cell_type": "markdown",
   "metadata": {
    "application/vnd.databricks.v1+cell": {
     "cellMetadata": {},
     "inputWidgets": {},
     "nuid": "6f617899-f82a-46eb-be95-f3af6ead8755",
     "showTitle": false,
     "title": ""
    },
    "id": "FN6xXah5606H"
   },
   "source": [
    "2. Transform `pipelineModel` on `df` and assign this to variable `transformed_df`."
   ]
  },
  {
   "cell_type": "code",
   "execution_count": 0,
   "metadata": {
    "application/vnd.databricks.v1+cell": {
     "cellMetadata": {},
     "inputWidgets": {},
     "nuid": "af28f2a8-e0ab-4bdb-a88d-e4ea4666588b",
     "showTitle": false,
     "title": ""
    },
    "colab": {
     "base_uri": "https://localhost:8080/"
    },
    "id": "QTsKIGt1606H",
    "outputId": "d42b5902-4ac8-4e97-80ab-1d29f4753250"
   },
   "outputs": [
    {
     "data": {
      "text/plain": []
     },
     "metadata": {
      "application/vnd.databricks.v1+output": {
       "arguments": {},
       "data": "",
       "errorSummary": "Command skipped",
       "errorTraceType": "ansi",
       "metadata": {},
       "type": "ipynbError"
      }
     },
     "output_type": "display_data"
    }
   ],
   "source": [
    "transformed_df = pipelineModel.transform(sdf) # [YOUR CODE HERE]\n",
    "transformed_df.printSchema()"
   ]
  },
  {
   "cell_type": "markdown",
   "metadata": {
    "application/vnd.databricks.v1+cell": {
     "cellMetadata": {},
     "inputWidgets": {},
     "nuid": "2817bc28-7c97-483e-bb9b-4f56582a6265",
     "showTitle": false,
     "title": ""
    },
    "id": "fS3OQX0p606H"
   },
   "source": [
    "From the transformation, we'd like to take the `label` and `features` columns as well as the original columns from `sdf.`\n",
    "\n",
    "3. Use the `.select()` method to pull these columns from the `transformed_df` and reassign the resulting DataFrame to `sdf`."
   ]
  },
  {
   "cell_type": "code",
   "execution_count": 0,
   "metadata": {
    "application/vnd.databricks.v1+cell": {
     "cellMetadata": {},
     "inputWidgets": {},
     "nuid": "f64197f6-c673-4461-a7fc-6b2a367273cb",
     "showTitle": false,
     "title": ""
    },
    "colab": {
     "base_uri": "https://localhost:8080/"
    },
    "id": "OWLr2mo0606I",
    "outputId": "4ebeaf4d-f3f3-4a67-9480-93455b92cff3"
   },
   "outputs": [
    {
     "data": {
      "text/plain": []
     },
     "metadata": {
      "application/vnd.databricks.v1+output": {
       "arguments": {},
       "data": "",
       "errorSummary": "Command skipped",
       "errorTraceType": "ansi",
       "metadata": {},
       "type": "ipynbError"
      }
     },
     "output_type": "display_data"
    }
   ],
   "source": [
    "selectedCols = ['label', 'features'] + sdf.columns\n",
    "sdf = transformed_df.select(selectedCols) # [YOUR CODE HERE]\n",
    "sdf.printSchema()"
   ]
  },
  {
   "cell_type": "markdown",
   "metadata": {
    "application/vnd.databricks.v1+cell": {
     "cellMetadata": {},
     "inputWidgets": {},
     "nuid": "56ec1c53-d996-44c7-99e9-134b6ab55cec",
     "showTitle": false,
     "title": ""
    },
    "id": "rCA4o74C606I"
   },
   "source": [
    "4. Let's view the first five rows of the `sdf` DataFrame using the methods we learned in Part 2:\n",
    "    * `.show()` method\n",
    "    * `.take()` method and convert result to a Pandas DataFrame"
   ]
  },
  {
   "cell_type": "code",
   "execution_count": 0,
   "metadata": {
    "application/vnd.databricks.v1+cell": {
     "cellMetadata": {},
     "inputWidgets": {},
     "nuid": "b177c7ee-96a4-4340-952b-e02cb46faf25",
     "showTitle": false,
     "title": ""
    },
    "colab": {
     "base_uri": "https://localhost:8080/",
     "height": 594
    },
    "id": "rUnHgPSY606I",
    "outputId": "ad6b8ce7-5306-416e-cd30-4b5dad1acbbe"
   },
   "outputs": [
    {
     "data": {
      "text/plain": []
     },
     "metadata": {
      "application/vnd.databricks.v1+output": {
       "arguments": {},
       "data": "",
       "errorSummary": "Command skipped",
       "errorTraceType": "ansi",
       "metadata": {},
       "type": "ipynbError"
      }
     },
     "output_type": "display_data"
    }
   ],
   "source": [
    "sdf.show(5)"
   ]
  },
  {
   "cell_type": "code",
   "execution_count": 0,
   "metadata": {
    "application/vnd.databricks.v1+cell": {
     "cellMetadata": {},
     "inputWidgets": {},
     "nuid": "3e594abd-ab1b-4d9a-a024-984ca9cef1ab",
     "showTitle": false,
     "title": ""
    }
   },
   "outputs": [
    {
     "data": {
      "text/plain": []
     },
     "metadata": {
      "application/vnd.databricks.v1+output": {
       "arguments": {},
       "data": "",
       "errorSummary": "Command skipped",
       "errorTraceType": "ansi",
       "metadata": {},
       "type": "ipynbError"
      }
     },
     "output_type": "display_data"
    }
   ],
   "source": [
    "pd.DataFrame(sdf.take(5),columns=sdf.columns)"
   ]
  },
  {
   "cell_type": "markdown",
   "metadata": {
    "application/vnd.databricks.v1+cell": {
     "cellMetadata": {},
     "inputWidgets": {},
     "nuid": "aebb912a-63b7-4db6-8c01-9b8900cd985b",
     "showTitle": false,
     "title": ""
    },
    "id": "NgtkTLyN606I"
   },
   "source": [
    "5. Randomly split the dataset in training and test sets, with 70% of the data in the training set and the remaining 30% in the test set.\n",
    "\n",
    "    Hint: Call the `.randomSplit()` method."
   ]
  },
  {
   "cell_type": "code",
   "execution_count": 0,
   "metadata": {
    "application/vnd.databricks.v1+cell": {
     "cellMetadata": {},
     "inputWidgets": {},
     "nuid": "b4798af7-e77f-4ebb-891f-c814799f8618",
     "showTitle": false,
     "title": ""
    },
    "id": "pOV9t-nj606I"
   },
   "outputs": [
    {
     "data": {
      "text/plain": []
     },
     "metadata": {
      "application/vnd.databricks.v1+output": {
       "arguments": {},
       "data": "",
       "errorSummary": "Command skipped",
       "errorTraceType": "ansi",
       "metadata": {},
       "type": "ipynbError"
      }
     },
     "output_type": "display_data"
    }
   ],
   "source": [
    "train, test = sdf.randomSplit([.7,.3]) # [YOUR CODE HERE]"
   ]
  },
  {
   "cell_type": "markdown",
   "metadata": {
    "application/vnd.databricks.v1+cell": {
     "cellMetadata": {},
     "inputWidgets": {},
     "nuid": "2d2d9830-1191-4ef3-b719-af0acebcce90",
     "showTitle": false,
     "title": ""
    },
    "id": "ch88ygkE606J"
   },
   "source": [
    "6. What are the sizes of the training and test sets?"
   ]
  },
  {
   "cell_type": "code",
   "execution_count": 0,
   "metadata": {
    "application/vnd.databricks.v1+cell": {
     "cellMetadata": {},
     "inputWidgets": {},
     "nuid": "b03c0474-bd45-4204-b84c-50d78a60c648",
     "showTitle": false,
     "title": ""
    },
    "colab": {
     "base_uri": "https://localhost:8080/"
    },
    "id": "qYQ9e6Ha606J",
    "outputId": "2d73d0d2-decb-42de-e7ec-813bc2f1caf2"
   },
   "outputs": [
    {
     "data": {
      "text/plain": []
     },
     "metadata": {
      "application/vnd.databricks.v1+output": {
       "arguments": {},
       "data": "",
       "errorSummary": "Command skipped",
       "errorTraceType": "ansi",
       "metadata": {},
       "type": "ipynbError"
      }
     },
     "output_type": "display_data"
    }
   ],
   "source": [
    "print('size of the training set: ',train.count(),'  size of the test set: ',test.count())"
   ]
  },
  {
   "cell_type": "markdown",
   "metadata": {
    "application/vnd.databricks.v1+cell": {
     "cellMetadata": {},
     "inputWidgets": {},
     "nuid": "42af67c4-7257-40f0-8219-069494123190",
     "showTitle": false,
     "title": ""
    },
    "id": "IWNVbqgU606J"
   },
   "source": [
    "## Part 5: Logistic Regression Model\n",
    "\n",
    "Optional:\n",
    "- You can build a RandomForestClassifier with : from pyspark.ml.classification import RandomForestClassifier\n",
    "- You can build a Gradient-Boosted Tree Classifier with : from pyspark.ml.classification import GBTClassifier\n",
    "\n",
    "1. Fit a logistic regression with `featuresCol` as `\"features\"`, `labelCol` as `\"label\"` and a `maxIter` of 10."
   ]
  },
  {
   "cell_type": "code",
   "execution_count": 0,
   "metadata": {
    "application/vnd.databricks.v1+cell": {
     "cellMetadata": {},
     "inputWidgets": {},
     "nuid": "45df93be-c36f-4b6c-8393-13e39311e218",
     "showTitle": false,
     "title": ""
    },
    "id": "7StSP1Jv606J"
   },
   "outputs": [
    {
     "data": {
      "text/plain": []
     },
     "metadata": {
      "application/vnd.databricks.v1+output": {
       "arguments": {},
       "data": "",
       "errorSummary": "Command skipped",
       "errorTraceType": "ansi",
       "metadata": {},
       "type": "ipynbError"
      }
     },
     "output_type": "display_data"
    }
   ],
   "source": [
    "from pyspark.ml.classification import LogisticRegression\n",
    "\n",
    "logregmodel = LogisticRegression(featuresCol = \"features\", labelCol = \"label\",maxIter = 10)\n",
    "logregmodel = logregmodel.fit(train)"
   ]
  },
  {
   "cell_type": "markdown",
   "metadata": {
    "application/vnd.databricks.v1+cell": {
     "cellMetadata": {},
     "inputWidgets": {},
     "nuid": "eb297027-929c-4637-8ed2-64bff31e1fd4",
     "showTitle": false,
     "title": ""
    },
    "id": "OMSgeFA1606J"
   },
   "source": [
    "2. We can obtain the coefficients by using logistic regression model’s attributes. Look at the following plot of the beta coefficients."
   ]
  },
  {
   "cell_type": "code",
   "execution_count": 0,
   "metadata": {
    "application/vnd.databricks.v1+cell": {
     "cellMetadata": {},
     "inputWidgets": {},
     "nuid": "c1766292-117f-4ea2-89fe-2c62612a600b",
     "showTitle": false,
     "title": ""
    },
    "colab": {
     "base_uri": "https://localhost:8080/",
     "height": 264
    },
    "id": "bh28ROSu606J",
    "outputId": "c208b6b6-2be5-4fbf-ec7b-c6e387a4fd12"
   },
   "outputs": [
    {
     "data": {
      "text/plain": []
     },
     "metadata": {
      "application/vnd.databricks.v1+output": {
       "arguments": {},
       "data": "",
       "errorSummary": "Command skipped",
       "errorTraceType": "ansi",
       "metadata": {},
       "type": "ipynbError"
      }
     },
     "output_type": "display_data"
    }
   ],
   "source": [
    "import matplotlib.pyplot as plt\n",
    "import numpy as np\n",
    "beta = np.sort(logregmodel.coefficients)\n",
    "plt.plot(beta)\n",
    "plt.ylabel('Beta Coefficients')\n",
    "plt.show()"
   ]
  },
  {
   "cell_type": "markdown",
   "metadata": {
    "application/vnd.databricks.v1+cell": {
     "cellMetadata": {},
     "inputWidgets": {},
     "nuid": "a850fb0a-0d4d-4f58-8c23-2aea0db2f3f1",
     "showTitle": false,
     "title": ""
    },
    "id": "K3hE2Ja2606K"
   },
   "source": [
    "3. Use the `.transform()` method to make predictions and save them as `predictions`."
   ]
  },
  {
   "cell_type": "code",
   "execution_count": 0,
   "metadata": {
    "application/vnd.databricks.v1+cell": {
     "cellMetadata": {},
     "inputWidgets": {},
     "nuid": "cdf395d5-b7ef-4f5a-8a32-f1eb76b59122",
     "showTitle": false,
     "title": ""
    },
    "id": "9X_xoxnF606K"
   },
   "outputs": [
    {
     "data": {
      "text/plain": []
     },
     "metadata": {
      "application/vnd.databricks.v1+output": {
       "arguments": {},
       "data": "",
       "errorSummary": "Command skipped",
       "errorTraceType": "ansi",
       "metadata": {},
       "type": "ipynbError"
      }
     },
     "output_type": "display_data"
    }
   ],
   "source": [
    "predictions = logregmodel.transform(test) # [YOUR CODE HERE]"
   ]
  },
  {
   "cell_type": "markdown",
   "metadata": {
    "application/vnd.databricks.v1+cell": {
     "cellMetadata": {},
     "inputWidgets": {},
     "nuid": "4075a3d6-1f36-4380-980b-a90969458c41",
     "showTitle": false,
     "title": ""
    },
    "id": "NIXVUZLv606K"
   },
   "source": [
    "4. View the first 10 rows of the `predictions` DataFrame."
   ]
  },
  {
   "cell_type": "code",
   "execution_count": 0,
   "metadata": {
    "application/vnd.databricks.v1+cell": {
     "cellMetadata": {},
     "inputWidgets": {},
     "nuid": "0567a0c4-9c83-41c0-8cfb-429a470850c7",
     "showTitle": false,
     "title": ""
    }
   },
   "outputs": [
    {
     "data": {
      "text/plain": []
     },
     "metadata": {
      "application/vnd.databricks.v1+output": {
       "arguments": {},
       "data": "",
       "errorSummary": "Command skipped",
       "errorTraceType": "ansi",
       "metadata": {},
       "type": "ipynbError"
      }
     },
     "output_type": "display_data"
    }
   ],
   "source": [
    "predictions.head(10)"
   ]
  },
  {
   "cell_type": "code",
   "execution_count": 0,
   "metadata": {
    "application/vnd.databricks.v1+cell": {
     "cellMetadata": {},
     "inputWidgets": {},
     "nuid": "9b063f77-1a9a-46a9-a938-aa00f3c642a5",
     "showTitle": false,
     "title": ""
    }
   },
   "outputs": [
    {
     "data": {
      "text/plain": []
     },
     "metadata": {
      "application/vnd.databricks.v1+output": {
       "arguments": {},
       "data": "",
       "errorSummary": "Command skipped",
       "errorTraceType": "ansi",
       "metadata": {},
       "type": "ipynbError"
      }
     },
     "output_type": "display_data"
    }
   ],
   "source": [
    "sdf.columns"
   ]
  },
  {
   "cell_type": "code",
   "execution_count": 0,
   "metadata": {
    "application/vnd.databricks.v1+cell": {
     "cellMetadata": {},
     "inputWidgets": {},
     "nuid": "a5bcd4e2-ab1a-4a20-bc93-cb52d173bf5d",
     "showTitle": false,
     "title": ""
    }
   },
   "outputs": [
    {
     "data": {
      "text/plain": []
     },
     "metadata": {
      "application/vnd.databricks.v1+output": {
       "arguments": {},
       "data": "",
       "errorSummary": "Command skipped",
       "errorTraceType": "ansi",
       "metadata": {},
       "type": "ipynbError"
      }
     },
     "output_type": "display_data"
    }
   ],
   "source": [
    "liste2 = ['rawPrediction','probability','prediction']\n",
    "colonnes = sdf.columns + liste2\n",
    "colonnes"
   ]
  },
  {
   "cell_type": "code",
   "execution_count": 0,
   "metadata": {
    "application/vnd.databricks.v1+cell": {
     "cellMetadata": {},
     "inputWidgets": {},
     "nuid": "e97ab471-ab1b-4335-8197-773531fb480f",
     "showTitle": false,
     "title": ""
    },
    "colab": {
     "base_uri": "https://localhost:8080/",
     "height": 1000
    },
    "id": "1AD_mkwl606K",
    "outputId": "0024428e-6085-4f88-80d4-629d3e0c8130"
   },
   "outputs": [
    {
     "data": {
      "text/plain": []
     },
     "metadata": {
      "application/vnd.databricks.v1+output": {
       "arguments": {},
       "data": "",
       "errorSummary": "Command skipped",
       "errorTraceType": "ansi",
       "metadata": {},
       "type": "ipynbError"
      }
     },
     "output_type": "display_data"
    }
   ],
   "source": [
    "pd.DataFrame(predictions.take(10),columns=colonnes)"
   ]
  },
  {
   "cell_type": "code",
   "execution_count": 0,
   "metadata": {
    "application/vnd.databricks.v1+cell": {
     "cellMetadata": {},
     "inputWidgets": {},
     "nuid": "0d37835a-2272-44c6-84e9-58f0772dfc7b",
     "showTitle": false,
     "title": ""
    }
   },
   "outputs": [],
   "source": []
  },
  {
   "cell_type": "markdown",
   "metadata": {
    "application/vnd.databricks.v1+cell": {
     "cellMetadata": {},
     "inputWidgets": {},
     "nuid": "3aca3813-20f0-4dc1-971e-4cb494341b16",
     "showTitle": false,
     "title": ""
    },
    "id": "Z-2MVhsn606K"
   },
   "source": [
    "5. What is the area under the curve?\n",
    "\n",
    "    You can find it with the `evaluator.evaluate()` function."
   ]
  },
  {
   "cell_type": "code",
   "execution_count": 0,
   "metadata": {
    "application/vnd.databricks.v1+cell": {
     "cellMetadata": {},
     "inputWidgets": {},
     "nuid": "5308cabd-37c2-43d2-bb24-19d638ec54e9",
     "showTitle": false,
     "title": ""
    },
    "colab": {
     "base_uri": "https://localhost:8080/"
    },
    "id": "-bH62bSe606K",
    "outputId": "eb427a7f-ac11-4e3b-dc59-8f96ca0bc602"
   },
   "outputs": [
    {
     "data": {
      "text/plain": []
     },
     "metadata": {
      "application/vnd.databricks.v1+output": {
       "arguments": {},
       "data": "",
       "errorSummary": "Command skipped",
       "errorTraceType": "ansi",
       "metadata": {},
       "type": "ipynbError"
      }
     },
     "output_type": "display_data"
    }
   ],
   "source": [
    "from pyspark.ml.evaluation import BinaryClassificationEvaluator\n",
    "\n",
    "evaluator = BinaryClassificationEvaluator()\n",
    "evaluator.evaluate(predictions)"
   ]
  },
  {
   "cell_type": "markdown",
   "metadata": {
    "application/vnd.databricks.v1+cell": {
     "cellMetadata": {},
     "inputWidgets": {},
     "nuid": "9a5ca7ac-9dd1-4610-93c2-41a53c40da74",
     "showTitle": false,
     "title": ""
    },
    "id": "iL4_IuwT606L"
   },
   "source": [
    "## OPTIONAL: HyperParameter Tuning a Gradient-Boosted Tree Classifier\n",
    "\n",
    "1. Fit and make predictions using `GBTClassifier`. The syntax will match what we did above with `LogisticRegression`."
   ]
  },
  {
   "cell_type": "code",
   "execution_count": 0,
   "metadata": {
    "application/vnd.databricks.v1+cell": {
     "cellMetadata": {},
     "inputWidgets": {},
     "nuid": "e207bd8b-47a0-435a-8e82-affae0da0b9c",
     "showTitle": false,
     "title": ""
    },
    "colab": {
     "base_uri": "https://localhost:8080/"
    },
    "id": "ROwTeFaz606L",
    "outputId": "e4823b97-3e5c-4a18-fb62-4d46e5c31c97"
   },
   "outputs": [
    {
     "data": {
      "text/plain": []
     },
     "metadata": {
      "application/vnd.databricks.v1+output": {
       "arguments": {},
       "data": "",
       "errorSummary": "Command skipped",
       "errorTraceType": "ansi",
       "metadata": {},
       "type": "ipynbError"
      }
     },
     "output_type": "display_data"
    }
   ],
   "source": [
    "from pyspark.ml.classification import GBTClassifier\n",
    "\n",
    "gbt = GBTClassifier(maxIter=10)\n",
    "gbtModel = gbt.fit(train)\n",
    "predictions = gbtModel.transform(test)\n",
    "predictions.select('age', 'job', 'label', 'rawPrediction', 'prediction', 'probability').show(10)"
   ]
  },
  {
   "cell_type": "markdown",
   "metadata": {
    "application/vnd.databricks.v1+cell": {
     "cellMetadata": {},
     "inputWidgets": {},
     "nuid": "eafee88c-db02-4818-ae96-6165bd61ca1a",
     "showTitle": false,
     "title": ""
    },
    "id": "5Od9M0JV606L"
   },
   "source": [
    "2. Perform cross-validation to compare different parameters.\n",
    "\n",
    "    Note that it can take a while because it's training over many gradient boosted trees. Give it at least 10 minutes to complete."
   ]
  },
  {
   "cell_type": "code",
   "execution_count": 0,
   "metadata": {
    "application/vnd.databricks.v1+cell": {
     "cellMetadata": {},
     "inputWidgets": {},
     "nuid": "0e9fcb9e-a99a-41fa-bc9f-e58a5f5513bb",
     "showTitle": false,
     "title": ""
    },
    "colab": {
     "base_uri": "https://localhost:8080/"
    },
    "id": "_Upc0CJf606L",
    "outputId": "62d9aae2-ed37-491d-b651-1c5ec81d8e2e"
   },
   "outputs": [
    {
     "data": {
      "text/plain": []
     },
     "metadata": {
      "application/vnd.databricks.v1+output": {
       "arguments": {},
       "data": "",
       "errorSummary": "Command skipped",
       "errorTraceType": "ansi",
       "metadata": {},
       "type": "ipynbError"
      }
     },
     "output_type": "display_data"
    }
   ],
   "source": [
    "from pyspark.ml.tuning import ParamGridBuilder, CrossValidator\n",
    "paramGrid = (ParamGridBuilder()\n",
    "             .addGrid(gbt.maxDepth, [2, 4, 6])\n",
    "             .addGrid(gbt.maxBins, [20, 60])\n",
    "             .addGrid(gbt.maxIter, [10, 20])\n",
    "             .build())\n",
    "cv = CrossValidator(estimator=gbt, estimatorParamMaps=paramGrid, evaluator=evaluator, numFolds=5)\n",
    "cvModel = cv.fit(train)\n",
    "predictions = cvModel.transform(test)\n",
    "evaluator.evaluate(predictions)"
   ]
  },
  {
   "cell_type": "markdown",
   "metadata": {
    "application/vnd.databricks.v1+cell": {
     "cellMetadata": {},
     "inputWidgets": {},
     "nuid": "b0d5e42e-f942-4f7a-a3ca-16589e13c2e2",
     "showTitle": false,
     "title": ""
    },
    "id": "psf7A_uz606M"
   },
   "source": [
    "## Acknowledgements"
   ]
  },
  {
   "cell_type": "markdown",
   "metadata": {
    "application/vnd.databricks.v1+cell": {
     "cellMetadata": {},
     "inputWidgets": {},
     "nuid": "9c6d1406-e051-42d4-baf9-2eff2ce0e403",
     "showTitle": false,
     "title": ""
    },
    "id": "HH1MXhRU606M"
   },
   "source": [
    "This notebook is adapted from [Machine Learning with PySpark and MLlib](https://towardsdatascience.com/machine-learning-with-pyspark-and-mllib-solving-a-binary-classification-problem-96396065d2aa)"
   ]
  }
 ],
 "metadata": {
  "application/vnd.databricks.v1+notebook": {
   "dashboards": [],
   "language": "python",
   "notebookMetadata": {
    "pythonIndentUnit": 4
   },
   "notebookName": "subscription-prediction",
   "notebookOrigID": 1665095427324433,
   "widgets": {}
  },
  "colab": {
   "collapsed_sections": [],
   "provenance": [],
   "toc_visible": true
  },
  "kernelspec": {
   "display_name": "Python 3 (ipykernel)",
   "language": "python",
   "name": "python3"
  },
  "language_info": {
   "codemirror_mode": {
    "name": "ipython",
    "version": 3
   },
   "file_extension": ".py",
   "mimetype": "text/x-python",
   "name": "python",
   "nbconvert_exporter": "python",
   "pygments_lexer": "ipython3",
   "version": "3.9.7"
  },
  "toc": {
   "base_numbering": 1,
   "nav_menu": {},
   "number_sections": true,
   "sideBar": true,
   "skip_h1_title": false,
   "title_cell": "Table of Contents",
   "title_sidebar": "Contents",
   "toc_cell": false,
   "toc_position": {},
   "toc_section_display": true,
   "toc_window_display": false
  },
  "vscode": {
   "interpreter": {
    "hash": "7fcb8f466a33c63bbe8193dd1a7db3fbb7dc8372d899e486a4ca6094b075b91d"
   }
  }
 },
 "nbformat": 4,
 "nbformat_minor": 1
}
